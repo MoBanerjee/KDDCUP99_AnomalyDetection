{
 "cells": [
  {
   "cell_type": "code",
   "execution_count": 3,
   "id": "14a6b595",
   "metadata": {},
   "outputs": [],
   "source": [
    "import pandas as pd\n",
    "import numpy as np\n",
    "import warnings\n",
    "warnings.filterwarnings(\"ignore\")\n",
    "import matplotlib.pyplot as plt\n",
    "from sklearn import preprocessing"
   ]
  },
  {
   "cell_type": "code",
   "execution_count": 4,
   "id": "5c807fb1",
   "metadata": {},
   "outputs": [],
   "source": [
    "header_orig = [\"ID\",\"ts_year\",\"ts_month\",\"ts_day\",\"ts_hour\",\"ts_min\",\"ts_second\",\"te_year\",\"te_month\",\n",
    "          \"te_day\",\"te_hour\",\"te_min\",\"te_second\",\"duration\",\"Src IP Addr\",\"Dst IP Addr\",\"Src Port\",\"Dst Port\",\"Protocol\",\"_flag1\",\"_flag2\",\n",
    "          \"_flag3\",\"_flag4\",\"_flag5\",\"_flag6\",\"fwd\",\"stos\",\"Packets\",\"Bytes\",\"opkt\",\"obyt\",\"_in\",\"out\",\n",
    "          \"sas\",\"das\",\"smk\",\"dmk\",\"dtos\",\"_dir\",\"nh\",\"nhb\",\"svln\",\"dvln\",\"ismc\",\"odmc\",\"idmc\",\"osmc\",\n",
    "          \"mpls1\",\"mpls2\",\"mpls3\",\"mpls4\",\"mpls5\",\"mpls6\",\"mpls7\",\"mpls8\",\"mpls9\",\"mpls10\",\"cl\",\"sl\",\n",
    "          \"al\",\"ra\",\"eng\",\"exid\",\"tr\",\"icmp_dst_ip_b\",\"icmp_src_ip\",\"udp_dst_p\",\"tcp_f_s\",\"tcp_f_n_a\",\n",
    "          \"tcp_f_n_f\",\"tcp_f_n_r\",\"tcp_f_n_p\",\"tcp_f_n_u\",\"tcp_dst_p\",\"tcp_src_dst_f_s\",\"tcp_src_tftp\",\n",
    "          \"tcp_src_kerb\",\"tcp_src_rpc\",\"tcp_dst_p_src\",\"smtp_dst\",\"udp_p_r_range\",\"p_range_dst\",\n",
    "          \"udp_src_p_0\",\"class\",\"attack_a\"]"
   ]
  },
  {
   "cell_type": "code",
   "execution_count": 3,
   "id": "5a8d850d",
   "metadata": {},
   "outputs": [],
   "source": [
    "blasterWorm = pd.read_csv('BLASTER_WORM_v2.csv',names=header_orig)"
   ]
  },
  {
   "cell_type": "code",
   "execution_count": 4,
   "id": "6480e5d3",
   "metadata": {},
   "outputs": [],
   "source": [
    "fragmentation = pd.read_csv('FRAGMENTATION_v2.csv',names=header_orig)"
   ]
  },
  {
   "cell_type": "code",
   "execution_count": 5,
   "id": "ea1b341e",
   "metadata": {},
   "outputs": [],
   "source": [
    "httpFlood = pd.read_csv('HTTP_FLOOD_v2.csv',names = header_orig)"
   ]
  },
  {
   "cell_type": "code",
   "execution_count": 6,
   "id": "b316d191",
   "metadata": {},
   "outputs": [],
   "source": [
    "icmpFlood = pd.read_csv('ICMP_FLOOD_v2.csv',names=header_orig)"
   ]
  },
  {
   "cell_type": "code",
   "execution_count": 7,
   "id": "e5c5ca9c",
   "metadata": {},
   "outputs": [],
   "source": [
    "reaperWorm = pd.read_csv('REAPER_WORM_v2.csv',names = header_orig)"
   ]
  },
  {
   "cell_type": "code",
   "execution_count": 8,
   "id": "22a1654b",
   "metadata": {},
   "outputs": [],
   "source": [
    "redWorm = pd.read_csv('RED_WORM_v2.csv',names=header_orig)"
   ]
  },
  {
   "cell_type": "code",
   "execution_count": 9,
   "id": "9de4abf3",
   "metadata": {},
   "outputs": [],
   "source": [
    "udpFlood = pd.read_csv('UDP_FLOOD_v2.csv',names=header_orig)"
   ]
  },
  {
   "cell_type": "code",
   "execution_count": 10,
   "id": "e965eaf7",
   "metadata": {},
   "outputs": [],
   "source": [
    "landAttack = pd.read_csv('LAND_ATTACK_v2.csv',names=header_orig)"
   ]
  },
  {
   "cell_type": "code",
   "execution_count": 11,
   "id": "009b2b48",
   "metadata": {},
   "outputs": [],
   "source": [
    "smurf = pd.read_csv('SMURF_v2.csv',names=header_orig)"
   ]
  },
  {
   "cell_type": "code",
   "execution_count": 12,
   "id": "d0a5d395",
   "metadata": {},
   "outputs": [],
   "source": [
    "scanning = pd.read_csv('SCANNING_SPREAD_v2.csv',names=header_orig)"
   ]
  },
  {
   "cell_type": "code",
   "execution_count": 13,
   "id": "3d6caea5",
   "metadata": {},
   "outputs": [],
   "source": [
    "spam = pd.read_csv('SPAM_v2.csv',names=header_orig)"
   ]
  },
  {
   "cell_type": "code",
   "execution_count": 14,
   "id": "e6e7c63d",
   "metadata": {},
   "outputs": [],
   "source": [
    "synFlood = pd.read_csv('SYN_FLOOD.csv',names=header_orig)"
   ]
  },
  {
   "cell_type": "code",
   "execution_count": 15,
   "id": "b0fe00d5",
   "metadata": {},
   "outputs": [],
   "source": [
    "litnet=[blasterWorm, fragmentation,httpFlood,icmpFlood, reaperWorm,redWorm,udpFlood,landAttack,smurf,scanning,spam,synFlood]"
   ]
  },
  {
   "cell_type": "code",
   "execution_count": 16,
   "id": "bf667ef1",
   "metadata": {},
   "outputs": [],
   "source": [
    "blasterWorm[\"attackType\"]=\"blasterWorm\"\n",
    "fragmentation[\"attackType\"]=\"fragmentation\"\n",
    "httpFlood[\"attackType\"]=\"httpFlood\"\n",
    "icmpFlood[\"attackType\"]=\"icmpFlood\"\n",
    "reaperWorm[\"attackType\"]=\"reaperWorm\"\n",
    "redWorm[\"attackType\"]=\"redWorm\"\n",
    "udpFlood[\"attackType\"]=\"udpFlood\"\n",
    "landAttack[\"attackType\"]=\"landAttack\"\n",
    "smurf[\"attackType\"]=\"smurf\"\n",
    "scanning[\"attackType\"]=\"scanning\"\n",
    "spam[\"attackType\"]=\"spam\"\n",
    "synFlood[\"attackType\"]=\"synFlood\""
   ]
  },
  {
   "cell_type": "code",
   "execution_count": 17,
   "id": "6edb9653",
   "metadata": {},
   "outputs": [],
   "source": [
    "def get_df_name(df):\n",
    "    name =[x for x in globals() if globals()[x] is df][0]\n",
    "    return name"
   ]
  },
  {
   "cell_type": "code",
   "execution_count": 18,
   "id": "866747c9",
   "metadata": {},
   "outputs": [],
   "source": [
    "def tcp_flags(elem):\n",
    "    if elem in (\"U\", \"A\", \"P\", \"R\", \"S\", \"F\"):  #flag is set\n",
    "        return 1\n",
    "    else:\n",
    "        return 0\n",
    "\n",
    "# U --> urgent \n",
    "# A --> Acknowledgment \n",
    "# P --> Push\n",
    "# R --> Reset\n",
    "# S --> Synchronise\n",
    "# F --> Finish"
   ]
  },
  {
   "cell_type": "code",
   "execution_count": 19,
   "id": "2e106b76",
   "metadata": {},
   "outputs": [],
   "source": [
    "def modifying_litnet_dataset_into_common_format(df):\n",
    "    # only extracting the necessary columns and inserting new columns/ dropping some old ones\n",
    "    df = df[['ts_year', 'ts_month', 'ts_day', 'ts_hour', 'ts_min',\n",
    "       'ts_second','duration',\"Src IP Addr\",\"Dst IP Addr\",\"Src Port\",\"Dst Port\",\"Protocol\",\"Packets\",\"Bytes\",\"_flag1\",\"_flag2\",\n",
    "          \"_flag3\",\"_flag4\",\"_flag5\",\"_flag6\",'class','attackType']]\n",
    "    df.rename(columns={'Protocol': 'Proto', 'Dst Port': 'Dst Pt','Src Port': 'Src Pt','attack_name':\"attackType\",\"duration\":\"Duration\"}, inplace=True)\n",
    "    df['Date first seen'] = df['ts_year'].astype(str) + '-' + df['ts_month'].astype(str)+'-'+df['ts_day'].astype(str)+\" \"+df['ts_hour'].astype(str)+\":\"+df['ts_min'].astype(str)+\":\"+df['ts_second'].astype(str)\n",
    "    df['Date first seen'] = pd.to_datetime(df['Date first seen'])\n",
    "    df = df.drop(['ts_year', 'ts_month','ts_day','ts_hour','ts_min','ts_second'], axis=1)\n",
    "    # one hot encoding the flags and renaming to U,A,P,R,S,F for better understanding\n",
    "    flags_df = df[[\"_flag1\", \"_flag2\", \"_flag3\", \"_flag4\", \"_flag5\", \"_flag6\"]]\n",
    "    df[[\"_flag1\", \"_flag2\", \"_flag3\", \"_flag4\", \"_flag5\", \"_flag6\"]] = flags_df.applymap(tcp_flags)\n",
    "    column_mapping = {'_flag1':'U','_flag2':'A','_flag3':'P','_flag4':'R','_flag5':'S','_flag6':'F'}\n",
    "    df.rename(columns = column_mapping, inplace = True)\n",
    "    # changing class values to normal and victim\n",
    "    df['class'] = np.where(df['class'] == 'none', 'normal', 'victim')\n",
    "    # Set attackType to none where class is normal\n",
    "    df[\"attackType\"] = np.where(df[\"class\"] == \"normal\", \"none\", df[\"attackType\"])\n",
    "    df = df.reindex(columns=[\"Date first seen\",\"Duration\",\"Proto\",\"Src IP Addr\",\"Src Pt\",\"Dst IP Addr\",\"Dst Pt\",\"Packets\",\"Bytes\",\"U\",\"A\",\"P\",\"R\",\"S\",\"F\",\"class\",\"attackType\"])\n",
    "    return df"
   ]
  },
  {
   "cell_type": "code",
   "execution_count": 20,
   "id": "50883538",
   "metadata": {
    "scrolled": true
   },
   "outputs": [],
   "source": [
    "blasterWorm_procd=modifying_litnet_dataset_into_common_format(blasterWorm)"
   ]
  },
  {
   "cell_type": "code",
   "execution_count": 21,
   "id": "58fa5ef8",
   "metadata": {},
   "outputs": [],
   "source": [
    "fragmentation_procd=modifying_litnet_dataset_into_common_format(fragmentation)"
   ]
  },
  {
   "cell_type": "code",
   "execution_count": 22,
   "id": "03d27884",
   "metadata": {},
   "outputs": [],
   "source": [
    "httpFlood_procd=modifying_litnet_dataset_into_common_format(httpFlood)"
   ]
  },
  {
   "cell_type": "code",
   "execution_count": 23,
   "id": "2d9ea5c3",
   "metadata": {},
   "outputs": [],
   "source": [
    "icmpFlood_procd=modifying_litnet_dataset_into_common_format(icmpFlood)"
   ]
  },
  {
   "cell_type": "code",
   "execution_count": 24,
   "id": "e637042b",
   "metadata": {},
   "outputs": [],
   "source": [
    "reaperWorm_procd=modifying_litnet_dataset_into_common_format(reaperWorm)"
   ]
  },
  {
   "cell_type": "code",
   "execution_count": 25,
   "id": "881b2a5a",
   "metadata": {},
   "outputs": [],
   "source": [
    "redWorm_procd=modifying_litnet_dataset_into_common_format(redWorm)"
   ]
  },
  {
   "cell_type": "code",
   "execution_count": 26,
   "id": "30aba8f9",
   "metadata": {},
   "outputs": [],
   "source": [
    "udpFlood_procd=modifying_litnet_dataset_into_common_format(udpFlood)"
   ]
  },
  {
   "cell_type": "code",
   "execution_count": 27,
   "id": "613ee0fc",
   "metadata": {},
   "outputs": [],
   "source": [
    "landAttack_procd=modifying_litnet_dataset_into_common_format(landAttack)"
   ]
  },
  {
   "cell_type": "code",
   "execution_count": 28,
   "id": "23f70d7d",
   "metadata": {},
   "outputs": [],
   "source": [
    "smurf_procd=modifying_litnet_dataset_into_common_format(smurf)"
   ]
  },
  {
   "cell_type": "code",
   "execution_count": 29,
   "id": "e721fdaa",
   "metadata": {},
   "outputs": [],
   "source": [
    "scanning_procd=modifying_litnet_dataset_into_common_format(scanning)"
   ]
  },
  {
   "cell_type": "code",
   "execution_count": 30,
   "id": "faadb138",
   "metadata": {},
   "outputs": [],
   "source": [
    "spam_procd=modifying_litnet_dataset_into_common_format(spam)"
   ]
  },
  {
   "cell_type": "code",
   "execution_count": 31,
   "id": "5bbd0f0a",
   "metadata": {},
   "outputs": [],
   "source": [
    "synFlood_procd=modifying_litnet_dataset_into_common_format(synFlood)"
   ]
  },
  {
   "cell_type": "code",
   "execution_count": 32,
   "id": "d84b847b",
   "metadata": {},
   "outputs": [],
   "source": [
    "litnet_procd=[blasterWorm_procd, fragmentation_procd,httpFlood_procd,icmpFlood_procd, reaperWorm_procd,redWorm_procd,udpFlood_procd,landAttack_procd,smurf_procd,scanning_procd,spam_procd,synFlood_procd]"
   ]
  },
  {
   "cell_type": "code",
   "execution_count": 33,
   "id": "9f591ddd",
   "metadata": {},
   "outputs": [],
   "source": [
    "def check_for_null(df):\n",
    "    any_nulls = df.isna().any().any()\n",
    "    print(any_nulls)"
   ]
  },
  {
   "cell_type": "code",
   "execution_count": 34,
   "id": "e165dd89",
   "metadata": {},
   "outputs": [
    {
     "name": "stdout",
     "output_type": "stream",
     "text": [
      "False\n",
      "False\n",
      "False\n",
      "False\n",
      "False\n",
      "False\n",
      "False\n",
      "False\n",
      "False\n",
      "False\n",
      "False\n",
      "False\n"
     ]
    }
   ],
   "source": [
    "for df in litnet_procd:\n",
    "    check_for_null(df)"
   ]
  },
  {
   "cell_type": "code",
   "execution_count": 35,
   "id": "37853206",
   "metadata": {},
   "outputs": [],
   "source": [
    "def check_for_duplicates(df):\n",
    "    has_duplicates = df.duplicated().any()\n",
    "    print(has_duplicates)"
   ]
  },
  {
   "cell_type": "code",
   "execution_count": 36,
   "id": "fb08181b",
   "metadata": {},
   "outputs": [
    {
     "name": "stdout",
     "output_type": "stream",
     "text": [
      "True\n",
      "True\n",
      "True\n",
      "True\n",
      "True\n",
      "True\n",
      "True\n",
      "True\n",
      "True\n",
      "False\n",
      "True\n",
      "True\n"
     ]
    }
   ],
   "source": [
    "for df in litnet_procd:\n",
    "    check_for_duplicates(df)"
   ]
  },
  {
   "cell_type": "code",
   "execution_count": 37,
   "id": "d7181e50",
   "metadata": {},
   "outputs": [],
   "source": [
    "blasterWorm_procd=blasterWorm_procd[~blasterWorm_procd.duplicated()]"
   ]
  },
  {
   "cell_type": "code",
   "execution_count": 38,
   "id": "9a1a4a27",
   "metadata": {},
   "outputs": [],
   "source": [
    "fragmentation_procd=fragmentation_procd[~fragmentation_procd.duplicated()]"
   ]
  },
  {
   "cell_type": "code",
   "execution_count": 39,
   "id": "b5202e57",
   "metadata": {},
   "outputs": [],
   "source": [
    "httpFlood_procd=httpFlood_procd[~httpFlood_procd.duplicated()]"
   ]
  },
  {
   "cell_type": "code",
   "execution_count": 40,
   "id": "4b6d1c4e",
   "metadata": {},
   "outputs": [],
   "source": [
    "icmpFlood_procd=icmpFlood_procd[~icmpFlood_procd.duplicated()]"
   ]
  },
  {
   "cell_type": "code",
   "execution_count": 41,
   "id": "06f5401c",
   "metadata": {},
   "outputs": [],
   "source": [
    "reaperWorm_procd=reaperWorm_procd[~reaperWorm_procd.duplicated()]"
   ]
  },
  {
   "cell_type": "code",
   "execution_count": 42,
   "id": "7d3e0a38",
   "metadata": {},
   "outputs": [],
   "source": [
    "redWorm_procd=redWorm_procd[~redWorm_procd.duplicated()]"
   ]
  },
  {
   "cell_type": "code",
   "execution_count": 43,
   "id": "0f053e82",
   "metadata": {},
   "outputs": [],
   "source": [
    "udpFlood_procd=udpFlood_procd[~udpFlood_procd.duplicated()]"
   ]
  },
  {
   "cell_type": "code",
   "execution_count": 44,
   "id": "a1310fa2",
   "metadata": {},
   "outputs": [],
   "source": [
    "landAttack_procd=landAttack_procd[~landAttack_procd.duplicated()]"
   ]
  },
  {
   "cell_type": "code",
   "execution_count": 45,
   "id": "f4244714",
   "metadata": {},
   "outputs": [],
   "source": [
    "smurf_procd=smurf_procd[~smurf_procd.duplicated()]"
   ]
  },
  {
   "cell_type": "code",
   "execution_count": 46,
   "id": "19a48878",
   "metadata": {},
   "outputs": [],
   "source": [
    "spam_procd=spam_procd[~spam_procd.duplicated()]"
   ]
  },
  {
   "cell_type": "code",
   "execution_count": 47,
   "id": "9b588884",
   "metadata": {},
   "outputs": [],
   "source": [
    "synFlood_procd=synFlood_procd[~synFlood_procd.duplicated()]"
   ]
  },
  {
   "cell_type": "code",
   "execution_count": 48,
   "id": "dbccc9cc",
   "metadata": {},
   "outputs": [],
   "source": [
    "litnet_procd=[blasterWorm_procd, fragmentation_procd,httpFlood_procd,icmpFlood_procd, reaperWorm_procd,redWorm_procd,udpFlood_procd,landAttack_procd,smurf_procd,scanning_procd,spam_procd,synFlood_procd]"
   ]
  },
  {
   "cell_type": "code",
   "execution_count": 49,
   "id": "4b69011a",
   "metadata": {},
   "outputs": [
    {
     "name": "stdout",
     "output_type": "stream",
     "text": [
      "False\n",
      "False\n",
      "False\n",
      "False\n",
      "False\n",
      "False\n",
      "False\n",
      "False\n",
      "False\n",
      "False\n",
      "False\n",
      "False\n"
     ]
    }
   ],
   "source": [
    "for df in litnet_procd:\n",
    "    check_for_duplicates(df)"
   ]
  },
  {
   "cell_type": "code",
   "execution_count": 50,
   "id": "aab453b0",
   "metadata": {},
   "outputs": [],
   "source": [
    "def counter(df):\n",
    "  name =[x for x in globals() if globals()[x] is df][0]\n",
    "  print(name)\n",
    "  print(\"total: \",df.shape[0])\n",
    "  print(\"normal: \",(df['attackType'] ==\"none\").sum())\n",
    "  print(\"attack: \",(df['attackType'] !=\"none\").sum())"
   ]
  },
  {
   "cell_type": "code",
   "execution_count": 51,
   "id": "6aad4910",
   "metadata": {},
   "outputs": [],
   "source": [
    "def custom_summary(dataset_list):\n",
    "    for df in dataset_list:\n",
    "        counter(df)\n",
    "        print(\"----------------------------------------\")"
   ]
  },
  {
   "cell_type": "code",
   "execution_count": 52,
   "id": "6464895b",
   "metadata": {},
   "outputs": [
    {
     "name": "stdout",
     "output_type": "stream",
     "text": [
      "blasterWorm_procd\n",
      "total:  3119415\n",
      "normal:  3095124\n",
      "attack:  24291\n",
      "----------------------------------------\n",
      "fragmentation_procd\n",
      "total:  1327349\n",
      "normal:  1326874\n",
      "attack:  475\n",
      "----------------------------------------\n",
      "httpFlood_procd\n",
      "total:  4108999\n",
      "normal:  4086040\n",
      "attack:  22959\n",
      "----------------------------------------\n",
      "icmpFlood_procd\n",
      "total:  4401200\n",
      "normal:  4330170\n",
      "attack:  71030\n",
      "----------------------------------------\n",
      "reaperWorm_procd\n",
      "total:  4672898\n",
      "normal:  4671722\n",
      "attack:  1176\n",
      "----------------------------------------\n",
      "redWorm_procd\n",
      "total:  5637301\n",
      "normal:  4381599\n",
      "attack:  1255702\n",
      "----------------------------------------\n",
      "udpFlood_procd\n",
      "total:  630123\n",
      "normal:  536540\n",
      "attack:  93583\n",
      "----------------------------------------\n",
      "landAttack_procd\n",
      "total:  4032754\n",
      "normal:  3980337\n",
      "attack:  52417\n",
      "----------------------------------------\n",
      "smurf_procd\n",
      "total:  4401200\n",
      "normal:  4330170\n",
      "attack:  71030\n",
      "----------------------------------------\n",
      "scanning_procd\n",
      "total:  6687\n",
      "normal:  455\n",
      "attack:  6232\n",
      "----------------------------------------\n",
      "spam_procd\n",
      "total:  1240570\n",
      "normal:  1239823\n",
      "attack:  747\n",
      "----------------------------------------\n",
      "synFlood_procd\n",
      "total:  6012258\n",
      "normal:  4432249\n",
      "attack:  1580009\n",
      "----------------------------------------\n"
     ]
    }
   ],
   "source": [
    "custom_summary(litnet_procd)"
   ]
  },
  {
   "cell_type": "code",
   "execution_count": 53,
   "id": "df0e895f",
   "metadata": {},
   "outputs": [],
   "source": [
    "CIDDS_int_1=pd.read_csv('CIDDS_int_1.csv')\n",
    "CIDDS_int_1=CIDDS_int_1[~CIDDS_int_1.duplicated()]"
   ]
  },
  {
   "cell_type": "code",
   "execution_count": 54,
   "id": "63ad3eca",
   "metadata": {},
   "outputs": [],
   "source": [
    "CIDDS_int_2=pd.read_csv('CIDDS_int_2.csv')\n",
    "CIDDS_int_2=CIDDS_int_2[~CIDDS_int_2.duplicated()]"
   ]
  },
  {
   "cell_type": "code",
   "execution_count": 55,
   "id": "08112620",
   "metadata": {},
   "outputs": [],
   "source": [
    "CIDDS_int_3=pd.read_csv('CIDDS_int_3.csv')\n",
    "CIDDS_int_3=CIDDS_int_3[~CIDDS_int_3.duplicated()]"
   ]
  },
  {
   "cell_type": "code",
   "execution_count": 56,
   "id": "fd7adea5",
   "metadata": {},
   "outputs": [],
   "source": [
    "CIDDS_int_4=pd.read_csv('CIDDS_int_4.csv')\n",
    "CIDDS_int_4=CIDDS_int_4[~CIDDS_int_4.duplicated()]"
   ]
  },
  {
   "cell_type": "code",
   "execution_count": 57,
   "id": "cc43cd35",
   "metadata": {},
   "outputs": [],
   "source": [
    "def modifying_cidds_dataset_into_common_format(df):\n",
    "    df = df.drop(['Flows', 'Tos',\"attackID\",\"attackDescription\"], axis=1)\n",
    "    df['Date first seen'] = pd.to_datetime(df['Date first seen'])\n",
    "    flag_chars = ['U', 'A', 'P', 'R', 'S', 'F']\n",
    "    df['attackType'] = df['attackType'].replace('---', 'none')\n",
    "    # For each flag character, create a new column and populate with 1 or 0\n",
    "    for char in flag_chars:\n",
    "        df[char] = df['Flags'].apply(lambda x: int(char in x))\n",
    "\n",
    "    df = df.drop('Flags', axis=1)\n",
    "\n",
    "    df = df.reindex(columns=[\"Date first seen\",\"Duration\",\"Proto\",\"Src IP Addr\",\"Src Pt\",\"Dst IP Addr\",\"Dst Pt\",\"Packets\",\"Bytes\",\"U\",\"A\",\"P\",\"R\",\"S\",\"F\",\"class\",\"attackType\"])\n",
    "    return df"
   ]
  },
  {
   "cell_type": "code",
   "execution_count": 58,
   "id": "4c07f049",
   "metadata": {},
   "outputs": [],
   "source": [
    "CIDDS_int_1_procd=modifying_cidds_dataset_into_common_format(CIDDS_int_1)"
   ]
  },
  {
   "cell_type": "code",
   "execution_count": 59,
   "id": "a3d6424e",
   "metadata": {},
   "outputs": [],
   "source": [
    "CIDDS_int_2_procd=modifying_cidds_dataset_into_common_format(CIDDS_int_2)"
   ]
  },
  {
   "cell_type": "code",
   "execution_count": 60,
   "id": "39727771",
   "metadata": {},
   "outputs": [],
   "source": [
    "CIDDS_int_3_procd=modifying_cidds_dataset_into_common_format(CIDDS_int_3)"
   ]
  },
  {
   "cell_type": "code",
   "execution_count": 61,
   "id": "b9c617d1",
   "metadata": {},
   "outputs": [],
   "source": [
    "CIDDS_int_4_procd=modifying_cidds_dataset_into_common_format(CIDDS_int_4)"
   ]
  },
  {
   "cell_type": "code",
   "execution_count": 62,
   "id": "cef68cff",
   "metadata": {},
   "outputs": [],
   "source": [
    "cidds_procd=[CIDDS_int_1_procd,CIDDS_int_2_procd,CIDDS_int_3_procd,CIDDS_int_4_procd]"
   ]
  },
  {
   "cell_type": "code",
   "execution_count": 63,
   "id": "d857f27b",
   "metadata": {},
   "outputs": [
    {
     "name": "stdout",
     "output_type": "stream",
     "text": [
      "False\n",
      "False\n",
      "False\n",
      "False\n"
     ]
    }
   ],
   "source": [
    "for df in cidds_procd:\n",
    "    check_for_null(df)"
   ]
  },
  {
   "cell_type": "code",
   "execution_count": 64,
   "id": "8c847356",
   "metadata": {},
   "outputs": [
    {
     "name": "stdout",
     "output_type": "stream",
     "text": [
      "False\n",
      "False\n",
      "False\n",
      "False\n"
     ]
    }
   ],
   "source": [
    "for df in cidds_procd:\n",
    "    check_for_duplicates(df)"
   ]
  },
  {
   "cell_type": "code",
   "execution_count": 65,
   "id": "1aa75284",
   "metadata": {},
   "outputs": [],
   "source": [
    "def counter_cidds(df):\n",
    "  name =[x for x in globals() if globals()[x] is df][0]\n",
    "  print(name)\n",
    "  print(\"total: \",df.shape[0])\n",
    "  print(\"normal: \",(df['class'] ==\"normal\").sum())\n",
    "  print(\"attack: \",((df['class'] ==\"attacker\") | (df['class'] ==\"victim\") | (df['class'] ==\"suspicious\")).sum())\n",
    "  print(\"unknown: \",(df['class'] ==\"unknown\").sum())"
   ]
  },
  {
   "cell_type": "code",
   "execution_count": 66,
   "id": "6cf8c040",
   "metadata": {},
   "outputs": [],
   "source": [
    "def custom_summary_cidds(dataset_list):\n",
    "    for df in dataset_list:\n",
    "        counter_cidds(df)\n",
    "        print(\"----------------------------------------\")"
   ]
  },
  {
   "cell_type": "code",
   "execution_count": 67,
   "id": "af313b44",
   "metadata": {},
   "outputs": [
    {
     "name": "stdout",
     "output_type": "stream",
     "text": [
      "CIDDS_int_1_procd\n",
      "total:  8248753\n",
      "normal:  7010112\n",
      "attack:  1238641\n",
      "unknown:  0\n",
      "----------------------------------------\n",
      "CIDDS_int_2_procd\n",
      "total:  10036995\n",
      "normal:  8514291\n",
      "attack:  1522704\n",
      "unknown:  0\n",
      "----------------------------------------\n",
      "CIDDS_int_3_procd\n",
      "total:  6347711\n",
      "normal:  6347711\n",
      "attack:  0\n",
      "unknown:  0\n",
      "----------------------------------------\n",
      "df\n",
      "total:  6173941\n",
      "normal:  6173941\n",
      "attack:  0\n",
      "unknown:  0\n",
      "----------------------------------------\n"
     ]
    }
   ],
   "source": [
    "custom_summary_cidds(cidds_procd)"
   ]
  },
  {
   "cell_type": "code",
   "execution_count": 68,
   "id": "0949f140",
   "metadata": {},
   "outputs": [],
   "source": [
    "CIDDS_ext_1=pd.read_csv('CIDDS-001-external-week1.csv')\n",
    "CIDDS_ext_1=CIDDS_ext_1[~CIDDS_ext_1.duplicated()]"
   ]
  },
  {
   "cell_type": "code",
   "execution_count": 69,
   "id": "330f3bdb",
   "metadata": {},
   "outputs": [],
   "source": [
    "CIDDS_ext_2=pd.read_csv('CIDDS-001-external-week2.csv')\n",
    "CIDDS_ext_2=CIDDS_ext_2[~CIDDS_ext_2.duplicated()]"
   ]
  },
  {
   "cell_type": "code",
   "execution_count": 70,
   "id": "baa812c5",
   "metadata": {},
   "outputs": [],
   "source": [
    "CIDDS_ext_3=pd.read_csv('CIDDS-001-external-week3.csv')\n",
    "CIDDS_ext_3=CIDDS_ext_3[~CIDDS_ext_3.duplicated()]"
   ]
  },
  {
   "cell_type": "code",
   "execution_count": 71,
   "id": "d7af620d",
   "metadata": {},
   "outputs": [],
   "source": [
    "CIDDS_ext_4=pd.read_csv('CIDDS-001-external-week4.csv')\n",
    "CIDDS_ext_4=CIDDS_ext_4[~CIDDS_ext_4.duplicated()]"
   ]
  },
  {
   "cell_type": "code",
   "execution_count": 72,
   "id": "a4d6b167",
   "metadata": {},
   "outputs": [],
   "source": [
    "CIDDS_ext_1_procd=modifying_cidds_dataset_into_common_format(CIDDS_ext_1)"
   ]
  },
  {
   "cell_type": "code",
   "execution_count": 73,
   "id": "cc2c4e58",
   "metadata": {},
   "outputs": [],
   "source": [
    "CIDDS_ext_2_procd=modifying_cidds_dataset_into_common_format(CIDDS_ext_2)"
   ]
  },
  {
   "cell_type": "code",
   "execution_count": 74,
   "id": "341fec01",
   "metadata": {},
   "outputs": [],
   "source": [
    "CIDDS_ext_3_procd=modifying_cidds_dataset_into_common_format(CIDDS_ext_3)"
   ]
  },
  {
   "cell_type": "code",
   "execution_count": 75,
   "id": "5df8d014",
   "metadata": {},
   "outputs": [],
   "source": [
    "CIDDS_ext_4_procd=modifying_cidds_dataset_into_common_format(CIDDS_ext_4)"
   ]
  },
  {
   "cell_type": "code",
   "execution_count": 76,
   "id": "75ab0a2a",
   "metadata": {},
   "outputs": [],
   "source": [
    "cidds_ext_procd=[CIDDS_ext_1_procd,CIDDS_ext_2_procd,CIDDS_ext_3_procd,CIDDS_ext_4_procd]"
   ]
  },
  {
   "cell_type": "code",
   "execution_count": 77,
   "id": "768c56a2",
   "metadata": {},
   "outputs": [
    {
     "name": "stdout",
     "output_type": "stream",
     "text": [
      "False\n",
      "False\n",
      "False\n",
      "False\n"
     ]
    }
   ],
   "source": [
    "for df in cidds_ext_procd:\n",
    "    check_for_null(df)"
   ]
  },
  {
   "cell_type": "code",
   "execution_count": 78,
   "id": "311daf6d",
   "metadata": {},
   "outputs": [
    {
     "name": "stdout",
     "output_type": "stream",
     "text": [
      "False\n",
      "False\n",
      "False\n",
      "False\n"
     ]
    }
   ],
   "source": [
    "for df in cidds_ext_procd:\n",
    "    check_for_duplicates(df)"
   ]
  },
  {
   "cell_type": "code",
   "execution_count": 79,
   "id": "d6319c15",
   "metadata": {},
   "outputs": [
    {
     "name": "stdout",
     "output_type": "stream",
     "text": [
      "CIDDS_ext_1_procd\n",
      "total:  172838\n",
      "normal:  49606\n",
      "attack:  107344\n",
      "unknown:  15888\n",
      "----------------------------------------\n",
      "CIDDS_ext_2_procd\n",
      "total:  159373\n",
      "normal:  28436\n",
      "attack:  121366\n",
      "unknown:  9571\n",
      "----------------------------------------\n",
      "CIDDS_ext_3_procd\n",
      "total:  153026\n",
      "normal:  6180\n",
      "attack:  113009\n",
      "unknown:  33837\n",
      "----------------------------------------\n",
      "df\n",
      "total:  186004\n",
      "normal:  50018\n",
      "attack:  117359\n",
      "unknown:  18627\n",
      "----------------------------------------\n"
     ]
    }
   ],
   "source": [
    "custom_summary_cidds(cidds_ext_procd)"
   ]
  },
  {
   "cell_type": "code",
   "execution_count": 84,
   "id": "b127b273",
   "metadata": {},
   "outputs": [],
   "source": [
    "blasterWorm_procd.to_csv('./PreprocessedCSVs/blasterWormProcessed.csv', index=False)"
   ]
  },
  {
   "cell_type": "code",
   "execution_count": 86,
   "id": "66d1c5a3",
   "metadata": {},
   "outputs": [],
   "source": [
    "fragmentation_procd.to_csv('./PreprocessedCSVs/fragmentationProcessed.csv', index=False)"
   ]
  },
  {
   "cell_type": "code",
   "execution_count": 87,
   "id": "cb591ae9",
   "metadata": {},
   "outputs": [],
   "source": [
    "httpFlood_procd.to_csv('./PreprocessedCSVs/httpFloodProcessed.csv', index=False)"
   ]
  },
  {
   "cell_type": "code",
   "execution_count": 88,
   "id": "23f898a8",
   "metadata": {},
   "outputs": [],
   "source": [
    "icmpFlood_procd.to_csv('./PreprocessedCSVs/icmpFloodProcessed.csv', index=False)"
   ]
  },
  {
   "cell_type": "code",
   "execution_count": 89,
   "id": "c3691dd5",
   "metadata": {},
   "outputs": [],
   "source": [
    "reaperWorm_procd.to_csv('./PreprocessedCSVs/reaperWormProcessed.csv', index=False)"
   ]
  },
  {
   "cell_type": "code",
   "execution_count": 90,
   "id": "c359f2ca",
   "metadata": {},
   "outputs": [],
   "source": [
    "redWorm_procd.to_csv('./PreprocessedCSVs/redWormProcessed.csv', index=False)"
   ]
  },
  {
   "cell_type": "code",
   "execution_count": 91,
   "id": "1920d44b",
   "metadata": {},
   "outputs": [],
   "source": [
    "udpFlood_procd.to_csv('./PreprocessedCSVs/udpFloodProcessed.csv', index=False)"
   ]
  },
  {
   "cell_type": "code",
   "execution_count": 92,
   "id": "0ae49ff6",
   "metadata": {},
   "outputs": [],
   "source": [
    "landAttack_procd.to_csv('./PreprocessedCSVs/landAttackProcessed.csv', index=False)"
   ]
  },
  {
   "cell_type": "code",
   "execution_count": 93,
   "id": "ef40e5e1",
   "metadata": {},
   "outputs": [],
   "source": [
    "smurf_procd.to_csv('./PreprocessedCSVs/smurfProcessed.csv', index=False)"
   ]
  },
  {
   "cell_type": "code",
   "execution_count": 94,
   "id": "c88b403a",
   "metadata": {},
   "outputs": [],
   "source": [
    "scanning_procd.to_csv('./PreprocessedCSVs/scanningProcessed.csv', index=False)"
   ]
  },
  {
   "cell_type": "code",
   "execution_count": 95,
   "id": "a156754c",
   "metadata": {},
   "outputs": [],
   "source": [
    "spam_procd.to_csv('./PreprocessedCSVs/spamProcessed.csv', index=False)"
   ]
  },
  {
   "cell_type": "code",
   "execution_count": 96,
   "id": "be7184ac",
   "metadata": {},
   "outputs": [],
   "source": [
    "synFlood_procd.to_csv('./PreprocessedCSVs/synFloodProcessed.csv', index=False)"
   ]
  },
  {
   "cell_type": "code",
   "execution_count": 97,
   "id": "220b4ed5",
   "metadata": {},
   "outputs": [],
   "source": [
    "CIDDS_int_1_procd.to_csv('./PreprocessedCSVs/ciddsint1Processed.csv', index=False)"
   ]
  },
  {
   "cell_type": "code",
   "execution_count": 98,
   "id": "ef4a22c5",
   "metadata": {},
   "outputs": [],
   "source": [
    "CIDDS_int_2_procd.to_csv('./PreprocessedCSVs/ciddsint2Processed.csv', index=False)"
   ]
  },
  {
   "cell_type": "code",
   "execution_count": 99,
   "id": "0e818e90",
   "metadata": {},
   "outputs": [],
   "source": [
    "CIDDS_int_3_procd.to_csv('./PreprocessedCSVs/ciddsint3Processed.csv', index=False)"
   ]
  },
  {
   "cell_type": "code",
   "execution_count": 100,
   "id": "fe0f2198",
   "metadata": {},
   "outputs": [],
   "source": [
    "CIDDS_int_4_procd.to_csv('./PreprocessedCSVs/ciddsint4Processed.csv', index=False)"
   ]
  },
  {
   "cell_type": "code",
   "execution_count": 101,
   "id": "c766ec94",
   "metadata": {},
   "outputs": [],
   "source": [
    "CIDDS_ext_1_procd.to_csv('./PreprocessedCSVs/ciddslogext1Processed.csv', index=False)"
   ]
  },
  {
   "cell_type": "code",
   "execution_count": 102,
   "id": "427236f3",
   "metadata": {},
   "outputs": [],
   "source": [
    "CIDDS_ext_2_procd.to_csv('./PreprocessedCSVs/ciddslogext2Processed.csv', index=False)"
   ]
  },
  {
   "cell_type": "code",
   "execution_count": 103,
   "id": "04bcacd3",
   "metadata": {},
   "outputs": [],
   "source": [
    "CIDDS_ext_3_procd.to_csv('./PreprocessedCSVs/ciddslogext3Processed.csv', index=False)"
   ]
  },
  {
   "cell_type": "code",
   "execution_count": 104,
   "id": "8f065355",
   "metadata": {},
   "outputs": [],
   "source": [
    "CIDDS_ext_4_procd.to_csv('./PreprocessedCSVs/ciddslogext4Processed.csv', index=False)"
   ]
  },
  {
   "cell_type": "code",
   "execution_count": 110,
   "id": "a1867190",
   "metadata": {},
   "outputs": [],
   "source": [
    "concattestout= pd.concat([blasterWorm_procd, CIDDS_int_1_procd], axis=0)"
   ]
  },
  {
   "cell_type": "code",
   "execution_count": 111,
   "id": "56496734",
   "metadata": {},
   "outputs": [
    {
     "data": {
      "text/plain": [
       "(11368168, 17)"
      ]
     },
     "execution_count": 111,
     "metadata": {},
     "output_type": "execute_result"
    }
   ],
   "source": [
    "concattestout.shape"
   ]
  },
  {
   "cell_type": "code",
   "execution_count": 113,
   "id": "1d623255",
   "metadata": {},
   "outputs": [
    {
     "data": {
      "text/plain": [
       "11368168"
      ]
     },
     "execution_count": 113,
     "metadata": {},
     "output_type": "execute_result"
    }
   ],
   "source": [
    "blasterWorm_procd.shape[0]+CIDDS_int_1_procd.shape[0]"
   ]
  },
  {
   "cell_type": "code",
   "execution_count": 114,
   "id": "c6c3cec6",
   "metadata": {},
   "outputs": [],
   "source": [
    "concattestout2= pd.concat([blasterWorm_procd, CIDDS_ext_1_procd], axis=0)"
   ]
  },
  {
   "cell_type": "code",
   "execution_count": 115,
   "id": "97e7e5ce",
   "metadata": {},
   "outputs": [
    {
     "data": {
      "text/plain": [
       "(3292253, 17)"
      ]
     },
     "execution_count": 115,
     "metadata": {},
     "output_type": "execute_result"
    }
   ],
   "source": [
    "concattestout2.shape"
   ]
  },
  {
   "cell_type": "code",
   "execution_count": 116,
   "id": "61abbe57",
   "metadata": {},
   "outputs": [
    {
     "data": {
      "text/plain": [
       "3292253"
      ]
     },
     "execution_count": 116,
     "metadata": {},
     "output_type": "execute_result"
    }
   ],
   "source": [
    "blasterWorm_procd.shape[0]+CIDDS_ext_1_procd.shape[0]"
   ]
  },
  {
   "cell_type": "code",
   "execution_count": 117,
   "id": "0f2f7838",
   "metadata": {},
   "outputs": [],
   "source": [
    "concattestout3= pd.concat([CIDDS_ext_1_procd, CIDDS_int_1_procd], axis=0)"
   ]
  },
  {
   "cell_type": "code",
   "execution_count": 119,
   "id": "c25e7a34",
   "metadata": {},
   "outputs": [
    {
     "data": {
      "text/plain": [
       "(8421591, 17)"
      ]
     },
     "execution_count": 119,
     "metadata": {},
     "output_type": "execute_result"
    }
   ],
   "source": [
    "concattestout3.shape"
   ]
  },
  {
   "cell_type": "code",
   "execution_count": 120,
   "id": "d7ac72e9",
   "metadata": {},
   "outputs": [
    {
     "data": {
      "text/plain": [
       "8421591"
      ]
     },
     "execution_count": 120,
     "metadata": {},
     "output_type": "execute_result"
    }
   ],
   "source": [
    "CIDDS_int_1_procd.shape[0]+CIDDS_ext_1_procd.shape[0]"
   ]
  },
  {
   "cell_type": "code",
   "execution_count": 7,
   "id": "b35b7a74",
   "metadata": {},
   "outputs": [],
   "source": [
    "blasterWormFinalTest = pd.read_csv('./PreprocessedCSVs/blasterWormProcessed.csv')"
   ]
  },
  {
   "cell_type": "code",
   "execution_count": 8,
   "id": "62e1a7e5",
   "metadata": {},
   "outputs": [
    {
     "data": {
      "text/html": [
       "<div>\n",
       "<style scoped>\n",
       "    .dataframe tbody tr th:only-of-type {\n",
       "        vertical-align: middle;\n",
       "    }\n",
       "\n",
       "    .dataframe tbody tr th {\n",
       "        vertical-align: top;\n",
       "    }\n",
       "\n",
       "    .dataframe thead th {\n",
       "        text-align: right;\n",
       "    }\n",
       "</style>\n",
       "<table border=\"1\" class=\"dataframe\">\n",
       "  <thead>\n",
       "    <tr style=\"text-align: right;\">\n",
       "      <th></th>\n",
       "      <th>Date first seen</th>\n",
       "      <th>Duration</th>\n",
       "      <th>Proto</th>\n",
       "      <th>Src IP Addr</th>\n",
       "      <th>Src Pt</th>\n",
       "      <th>Dst IP Addr</th>\n",
       "      <th>Dst Pt</th>\n",
       "      <th>Packets</th>\n",
       "      <th>Bytes</th>\n",
       "      <th>U</th>\n",
       "      <th>A</th>\n",
       "      <th>P</th>\n",
       "      <th>R</th>\n",
       "      <th>S</th>\n",
       "      <th>F</th>\n",
       "      <th>class</th>\n",
       "      <th>attackType</th>\n",
       "    </tr>\n",
       "  </thead>\n",
       "  <tbody>\n",
       "    <tr>\n",
       "      <th>0</th>\n",
       "      <td>2020-01-25 03:44:57</td>\n",
       "      <td>0.28</td>\n",
       "      <td>TCP</td>\n",
       "      <td>193.219.74.172</td>\n",
       "      <td>59758</td>\n",
       "      <td>83.169.5.121</td>\n",
       "      <td>3306</td>\n",
       "      <td>10</td>\n",
       "      <td>1080</td>\n",
       "      <td>0</td>\n",
       "      <td>1</td>\n",
       "      <td>1</td>\n",
       "      <td>0</td>\n",
       "      <td>0</td>\n",
       "      <td>1</td>\n",
       "      <td>normal</td>\n",
       "      <td>none</td>\n",
       "    </tr>\n",
       "    <tr>\n",
       "      <th>1</th>\n",
       "      <td>2020-01-25 03:44:52</td>\n",
       "      <td>4.73</td>\n",
       "      <td>TCP</td>\n",
       "      <td>184.73.156.247</td>\n",
       "      <td>443</td>\n",
       "      <td>193.219.75.85</td>\n",
       "      <td>58895</td>\n",
       "      <td>10</td>\n",
       "      <td>7300</td>\n",
       "      <td>0</td>\n",
       "      <td>1</td>\n",
       "      <td>0</td>\n",
       "      <td>0</td>\n",
       "      <td>0</td>\n",
       "      <td>1</td>\n",
       "      <td>normal</td>\n",
       "      <td>none</td>\n",
       "    </tr>\n",
       "    <tr>\n",
       "      <th>2</th>\n",
       "      <td>2020-01-25 03:44:57</td>\n",
       "      <td>0.00</td>\n",
       "      <td>TCP</td>\n",
       "      <td>83.171.40.3</td>\n",
       "      <td>6666</td>\n",
       "      <td>80.82.77.132</td>\n",
       "      <td>56667</td>\n",
       "      <td>5</td>\n",
       "      <td>200</td>\n",
       "      <td>0</td>\n",
       "      <td>1</td>\n",
       "      <td>0</td>\n",
       "      <td>1</td>\n",
       "      <td>0</td>\n",
       "      <td>0</td>\n",
       "      <td>normal</td>\n",
       "      <td>none</td>\n",
       "    </tr>\n",
       "    <tr>\n",
       "      <th>3</th>\n",
       "      <td>2020-01-25 03:44:38</td>\n",
       "      <td>19.29</td>\n",
       "      <td>TCP</td>\n",
       "      <td>95.108.213.17</td>\n",
       "      <td>62443</td>\n",
       "      <td>158.129.192.240</td>\n",
       "      <td>80</td>\n",
       "      <td>20</td>\n",
       "      <td>1080</td>\n",
       "      <td>0</td>\n",
       "      <td>1</td>\n",
       "      <td>0</td>\n",
       "      <td>0</td>\n",
       "      <td>1</td>\n",
       "      <td>1</td>\n",
       "      <td>normal</td>\n",
       "      <td>none</td>\n",
       "    </tr>\n",
       "    <tr>\n",
       "      <th>4</th>\n",
       "      <td>2020-01-25 03:44:55</td>\n",
       "      <td>1.82</td>\n",
       "      <td>TCP</td>\n",
       "      <td>124.115.207.226</td>\n",
       "      <td>56637</td>\n",
       "      <td>158.129.192.178</td>\n",
       "      <td>33896</td>\n",
       "      <td>10</td>\n",
       "      <td>825</td>\n",
       "      <td>0</td>\n",
       "      <td>1</td>\n",
       "      <td>1</td>\n",
       "      <td>1</td>\n",
       "      <td>0</td>\n",
       "      <td>0</td>\n",
       "      <td>normal</td>\n",
       "      <td>none</td>\n",
       "    </tr>\n",
       "  </tbody>\n",
       "</table>\n",
       "</div>"
      ],
      "text/plain": [
       "       Date first seen  Duration Proto      Src IP Addr  Src Pt  \\\n",
       "0  2020-01-25 03:44:57      0.28   TCP   193.219.74.172   59758   \n",
       "1  2020-01-25 03:44:52      4.73   TCP   184.73.156.247     443   \n",
       "2  2020-01-25 03:44:57      0.00   TCP      83.171.40.3    6666   \n",
       "3  2020-01-25 03:44:38     19.29   TCP    95.108.213.17   62443   \n",
       "4  2020-01-25 03:44:55      1.82   TCP  124.115.207.226   56637   \n",
       "\n",
       "       Dst IP Addr  Dst Pt  Packets  Bytes  U  A  P  R  S  F   class  \\\n",
       "0     83.169.5.121    3306       10   1080  0  1  1  0  0  1  normal   \n",
       "1    193.219.75.85   58895       10   7300  0  1  0  0  0  1  normal   \n",
       "2     80.82.77.132   56667        5    200  0  1  0  1  0  0  normal   \n",
       "3  158.129.192.240      80       20   1080  0  1  0  0  1  1  normal   \n",
       "4  158.129.192.178   33896       10    825  0  1  1  1  0  0  normal   \n",
       "\n",
       "  attackType  \n",
       "0       none  \n",
       "1       none  \n",
       "2       none  \n",
       "3       none  \n",
       "4       none  "
      ]
     },
     "execution_count": 8,
     "metadata": {},
     "output_type": "execute_result"
    }
   ],
   "source": [
    "blasterWormFinalTest.head()"
   ]
  },
  {
   "cell_type": "code",
   "execution_count": null,
   "id": "5f5bdda1",
   "metadata": {},
   "outputs": [],
   "source": []
  }
 ],
 "metadata": {
  "kernelspec": {
   "display_name": "Python 3 (ipykernel)",
   "language": "python",
   "name": "python3"
  },
  "language_info": {
   "codemirror_mode": {
    "name": "ipython",
    "version": 3
   },
   "file_extension": ".py",
   "mimetype": "text/x-python",
   "name": "python",
   "nbconvert_exporter": "python",
   "pygments_lexer": "ipython3",
   "version": "3.9.12"
  }
 },
 "nbformat": 4,
 "nbformat_minor": 5
}
