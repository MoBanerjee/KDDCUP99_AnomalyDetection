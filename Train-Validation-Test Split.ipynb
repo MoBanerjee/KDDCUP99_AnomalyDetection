{
 "cells": [
  {
   "cell_type": "code",
   "execution_count": 2,
   "id": "7ea5cc52",
   "metadata": {},
   "outputs": [
    {
     "name": "stdout",
     "output_type": "stream",
     "text": [
      "Requirement already satisfied: scipy in /Users/mohorbanerjee/opt/anaconda3/lib/python3.9/site-packages (1.11.3)\n",
      "Collecting scipy\n",
      "  Obtaining dependency information for scipy from https://files.pythonhosted.org/packages/c5/e0/9872b7923c0ff7a420af8f559d0f5c6831143477b4ce57afe1b2a7c59a63/scipy-1.11.4-cp39-cp39-macosx_10_9_x86_64.whl.metadata\n",
      "  Downloading scipy-1.11.4-cp39-cp39-macosx_10_9_x86_64.whl.metadata (60 kB)\n",
      "\u001b[2K     \u001b[90m━━━━━━━━━━━━━━━━━━━━━━━━━━━━━━━━━━━━━━━━\u001b[0m \u001b[32m60.4/60.4 kB\u001b[0m \u001b[31m3.2 MB/s\u001b[0m eta \u001b[36m0:00:00\u001b[0m\n",
      "\u001b[?25hRequirement already satisfied: numpy<1.28.0,>=1.21.6 in /Users/mohorbanerjee/opt/anaconda3/lib/python3.9/site-packages (from scipy) (1.23.5)\n",
      "Downloading scipy-1.11.4-cp39-cp39-macosx_10_9_x86_64.whl (37.3 MB)\n",
      "\u001b[2K   \u001b[90m━━━━━━━━━━━━━━━━━━━━━━━━━━━━━━━━━━━━━━━━\u001b[0m \u001b[32m37.3/37.3 MB\u001b[0m \u001b[31m18.1 MB/s\u001b[0m eta \u001b[36m0:00:00\u001b[0m00:01\u001b[0m00:01\u001b[0m\n",
      "\u001b[?25hInstalling collected packages: scipy\n",
      "  Attempting uninstall: scipy\n",
      "    Found existing installation: scipy 1.11.3\n",
      "    Uninstalling scipy-1.11.3:\n",
      "      Successfully uninstalled scipy-1.11.3\n",
      "Successfully installed scipy-1.11.4\n",
      "Note: you may need to restart the kernel to use updated packages.\n"
     ]
    }
   ],
   "source": [
    "pip install --upgrade scipy\n"
   ]
  },
  {
   "cell_type": "code",
   "execution_count": 1,
   "id": "6bf633fc",
   "metadata": {},
   "outputs": [
    {
     "name": "stderr",
     "output_type": "stream",
     "text": [
      "<frozen importlib._bootstrap>:228: RuntimeWarning: scipy._lib.messagestream.MessageStream size changed, may indicate binary incompatibility. Expected 56 from C header, got 64 from PyObject\n"
     ]
    }
   ],
   "source": [
    "import pandas as pd\n",
    "from sklearn.model_selection import train_test_split"
   ]
  },
  {
   "cell_type": "code",
   "execution_count": 3,
   "id": "7d4c921e",
   "metadata": {},
   "outputs": [],
   "source": [
    "no_anomaly_dataset = pd.read_csv('./FinalDatasets/NoAnomalyDataset.csv')"
   ]
  },
  {
   "cell_type": "code",
   "execution_count": 4,
   "id": "ce931670",
   "metadata": {},
   "outputs": [],
   "source": [
    "anomaly_dataset = pd.read_csv('./FinalDatasets/AnomalyDataset.csv')"
   ]
  },
  {
   "cell_type": "code",
   "execution_count": 5,
   "id": "4eedebf4",
   "metadata": {},
   "outputs": [],
   "source": [
    "no_anomaly_features = no_anomaly_dataset.drop(['class', 'attackType'], axis=1)\n",
    "no_anomaly_targets_class = no_anomaly_dataset['class']\n",
    "no_anomaly_targets_attackType = no_anomaly_dataset['attackType']"
   ]
  },
  {
   "cell_type": "code",
   "execution_count": 7,
   "id": "d1313200",
   "metadata": {},
   "outputs": [],
   "source": [
    "X_train, X_temp, y1_train, y1_temp, y2_train, y2_temp = train_test_split(\n",
    "    no_anomaly_features, no_anomaly_targets_class, no_anomaly_targets_attackType, test_size=0.2, stratify=no_anomaly_dataset['Proto'], random_state=42)"
   ]
  },
  {
   "cell_type": "code",
   "execution_count": 8,
   "id": "5d929314",
   "metadata": {},
   "outputs": [],
   "source": [
    "anomaly_features = anomaly_dataset.drop(['class', 'attackType'], axis=1)\n",
    "anomaly_targets_class = anomaly_dataset['class']\n",
    "anomaly_targets_attackType = anomaly_dataset['attackType']"
   ]
  },
  {
   "cell_type": "code",
   "execution_count": 9,
   "id": "169e812f",
   "metadata": {},
   "outputs": [],
   "source": [
    "test_and_valid_features= pd.concat([anomaly_features, X_temp], axis=0)"
   ]
  },
  {
   "cell_type": "code",
   "execution_count": 10,
   "id": "6e861484",
   "metadata": {},
   "outputs": [],
   "source": [
    "test_and_valid_targets_class= pd.concat([anomaly_targets_class, y1_temp], axis=0)"
   ]
  },
  {
   "cell_type": "code",
   "execution_count": 11,
   "id": "5e3226db",
   "metadata": {},
   "outputs": [],
   "source": [
    "test_and_valid_targets_attackType= pd.concat([anomaly_targets_attackType, y2_temp], axis=0)"
   ]
  },
  {
   "cell_type": "code",
   "execution_count": 13,
   "id": "46e09fa5",
   "metadata": {},
   "outputs": [],
   "source": [
    "X_test, X_valid, y1_test, y1_valid, y2_test, y2_valid = train_test_split(\n",
    "   test_and_valid_features,test_and_valid_targets_class,test_and_valid_targets_attackType, test_size=0.1, stratify=test_and_valid_features['Proto'], random_state=42)"
   ]
  },
  {
   "cell_type": "code",
   "execution_count": 14,
   "id": "731a7ca9",
   "metadata": {},
   "outputs": [
    {
     "data": {
      "text/plain": [
       "(26962766, 15)"
      ]
     },
     "execution_count": 14,
     "metadata": {},
     "output_type": "execute_result"
    }
   ],
   "source": [
    "X_train.shape"
   ]
  },
  {
   "cell_type": "code",
   "execution_count": 15,
   "id": "f3444205",
   "metadata": {},
   "outputs": [
    {
     "data": {
      "text/plain": [
       "(11412218, 15)"
      ]
     },
     "execution_count": 15,
     "metadata": {},
     "output_type": "execute_result"
    }
   ],
   "source": [
    "X_test.shape"
   ]
  },
  {
   "cell_type": "code",
   "execution_count": 16,
   "id": "266cf692",
   "metadata": {},
   "outputs": [
    {
     "data": {
      "text/plain": [
       "(1268025, 15)"
      ]
     },
     "execution_count": 16,
     "metadata": {},
     "output_type": "execute_result"
    }
   ],
   "source": [
    "X_valid.shape"
   ]
  },
  {
   "cell_type": "code",
   "execution_count": 18,
   "id": "cc3cc81b",
   "metadata": {},
   "outputs": [
    {
     "data": {
      "text/plain": [
       "39643009"
      ]
     },
     "execution_count": 18,
     "metadata": {},
     "output_type": "execute_result"
    }
   ],
   "source": [
    "X_test.shape[0]+X_valid.shape[0]+X_train.shape[0]"
   ]
  },
  {
   "cell_type": "code",
   "execution_count": 19,
   "id": "6e2b411f",
   "metadata": {},
   "outputs": [
    {
     "data": {
      "text/plain": [
       "39643009"
      ]
     },
     "execution_count": 19,
     "metadata": {},
     "output_type": "execute_result"
    }
   ],
   "source": [
    "no_anomaly_dataset.shape[0]+anomaly_dataset.shape[0]"
   ]
  },
  {
   "cell_type": "code",
   "execution_count": 20,
   "id": "14215d7b",
   "metadata": {},
   "outputs": [],
   "source": [
    "Train_set_for_unsupervisedAD=pd.concat([X_train, y1_train,y2_train], axis=1)"
   ]
  },
  {
   "cell_type": "code",
   "execution_count": 21,
   "id": "c01ae5b8",
   "metadata": {},
   "outputs": [],
   "source": [
    "Test_set_for_unsupervisedAD=pd.concat([X_test, y1_test,y2_test], axis=1)"
   ]
  },
  {
   "cell_type": "code",
   "execution_count": 22,
   "id": "8068cf32",
   "metadata": {},
   "outputs": [],
   "source": [
    "Validation_set_for_unsupervisedAD=pd.concat([X_valid, y1_valid,y2_valid], axis=1)"
   ]
  },
  {
   "cell_type": "code",
   "execution_count": 23,
   "id": "5d4ad683",
   "metadata": {},
   "outputs": [
    {
     "data": {
      "text/plain": [
       "(26962766, 17)"
      ]
     },
     "execution_count": 23,
     "metadata": {},
     "output_type": "execute_result"
    }
   ],
   "source": [
    "Train_set_for_unsupervisedAD.shape"
   ]
  },
  {
   "cell_type": "code",
   "execution_count": 24,
   "id": "8815d77a",
   "metadata": {},
   "outputs": [],
   "source": [
    "Train_set_for_unsupervisedAD.to_csv('./Unsupervised_Anomaly_Detection_Datasets/TrainSet.csv', index=False)"
   ]
  },
  {
   "cell_type": "code",
   "execution_count": 25,
   "id": "1a72103e",
   "metadata": {},
   "outputs": [],
   "source": [
    "Test_set_for_unsupervisedAD.to_csv('./Unsupervised_Anomaly_Detection_Datasets/TestSet.csv', index=False)"
   ]
  },
  {
   "cell_type": "code",
   "execution_count": 26,
   "id": "2c0effb5",
   "metadata": {},
   "outputs": [],
   "source": [
    "Validation_set_for_unsupervisedAD.to_csv('./Unsupervised_Anomaly_Detection_Datasets/ValidationSet.csv', index=False)"
   ]
  },
  {
   "cell_type": "code",
   "execution_count": null,
   "id": "1fcff99c",
   "metadata": {},
   "outputs": [],
   "source": []
  }
 ],
 "metadata": {
  "kernelspec": {
   "display_name": "Python 3 (ipykernel)",
   "language": "python",
   "name": "python3"
  },
  "language_info": {
   "codemirror_mode": {
    "name": "ipython",
    "version": 3
   },
   "file_extension": ".py",
   "mimetype": "text/x-python",
   "name": "python",
   "nbconvert_exporter": "python",
   "pygments_lexer": "ipython3",
   "version": "3.9.12"
  }
 },
 "nbformat": 4,
 "nbformat_minor": 5
}
