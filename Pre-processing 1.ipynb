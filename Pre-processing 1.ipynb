{
 "cells": [
  {
   "cell_type": "code",
   "execution_count": 1,
   "id": "ea57182d",
   "metadata": {},
   "outputs": [],
   "source": [
    "# importing pandas library\n",
    "import pandas as pd"
   ]
  },
  {
   "cell_type": "code",
   "execution_count": 2,
   "id": "106bb6a6",
   "metadata": {},
   "outputs": [],
   "source": [
    "# importing numpy library\n",
    "import numpy as np"
   ]
  },
  {
   "cell_type": "code",
   "execution_count": 3,
   "id": "96e3b016",
   "metadata": {},
   "outputs": [],
   "source": [
    "import warnings\n",
    "\n",
    "# Ignore all warnings\n",
    "warnings.filterwarnings(\"ignore\")"
   ]
  },
  {
   "cell_type": "code",
   "execution_count": 4,
   "id": "c80b5bc3",
   "metadata": {},
   "outputs": [],
   "source": [
    "# adding headers\n",
    "header_orig = [\"ID\",\"ts_year\",\"ts_month\",\"ts_day\",\"ts_hour\",\"ts_min\",\"ts_second\",\"te_year\",\"te_month\",\n",
    "          \"te_day\",\"te_hour\",\"te_min\",\"te_second\",\"duration\",\"Src IP Addr\",\"Dst IP Addr\",\"Src Port\",\"Dst Port\",\"Protocol\",\"_flag1\",\"_flag2\",\n",
    "          \"_flag3\",\"_flag4\",\"_flag5\",\"_flag6\",\"fwd\",\"stos\",\"Packets\",\"Bytes\",\"opkt\",\"obyt\",\"_in\",\"out\",\n",
    "          \"sas\",\"das\",\"smk\",\"dmk\",\"dtos\",\"_dir\",\"nh\",\"nhb\",\"svln\",\"dvln\",\"ismc\",\"odmc\",\"idmc\",\"osmc\",\n",
    "          \"mpls1\",\"mpls2\",\"mpls3\",\"mpls4\",\"mpls5\",\"mpls6\",\"mpls7\",\"mpls8\",\"mpls9\",\"mpls10\",\"cl\",\"sl\",\n",
    "          \"al\",\"ra\",\"eng\",\"exid\",\"tr\",\"icmp_dst_ip_b\",\"icmp_src_ip\",\"udp_dst_p\",\"tcp_f_s\",\"tcp_f_n_a\",\n",
    "          \"tcp_f_n_f\",\"tcp_f_n_r\",\"tcp_f_n_p\",\"tcp_f_n_u\",\"tcp_dst_p\",\"tcp_src_dst_f_s\",\"tcp_src_tftp\",\n",
    "          \"tcp_src_kerb\",\"tcp_src_rpc\",\"tcp_dst_p_src\",\"smtp_dst\",\"udp_p_r_range\",\"p_range_dst\",\n",
    "          \"udp_src_p_0\",\"class\",\"attack_a\"]"
   ]
  },
  {
   "cell_type": "code",
   "execution_count": 5,
   "id": "83e9a0da",
   "metadata": {},
   "outputs": [
    {
     "name": "stdout",
     "output_type": "stream",
     "text": [
      "Don't know how to reset  blaster_worm, please run `%reset?` for details\n"
     ]
    }
   ],
   "source": [
    "# reading blaster_worm files\n",
    "blaster_worm = pd.read_csv('BLASTER_WORM_v2.csv',names=header_orig)\n",
    "\n",
    "# sampling 58000 rows \n",
    "blaster_worm_sample = blaster_worm.sample(58000)\n",
    "blaster_worm_sample['attack_name'] = 'Blaster Worm'\n",
    "\n",
    "# deleting the baster_worm dataset to save space\n",
    "del blaster_worm\n",
    "%reset -f blaster_worm"
   ]
  },
  {
   "cell_type": "code",
   "execution_count": 6,
   "id": "ed024fec",
   "metadata": {},
   "outputs": [
    {
     "name": "stdout",
     "output_type": "stream",
     "text": [
      "Don't know how to reset  fragmentation, please run `%reset?` for details\n"
     ]
    }
   ],
   "source": [
    "# reading fragmentation csv\n",
    "fragmentation = pd.read_csv('FRAGMENTATION_v2.csv',names=header_orig)\n",
    "fragmentation_sample = fragmentation.sample(58000)\n",
    "fragmentation_sample['attack_name'] = 'Fragmentation'\n",
    "\n",
    "# deleting to save space\n",
    "del fragmentation \n",
    "%reset -f fragmentation"
   ]
  },
  {
   "cell_type": "code",
   "execution_count": 7,
   "id": "75762f30",
   "metadata": {},
   "outputs": [
    {
     "name": "stdout",
     "output_type": "stream",
     "text": [
      "Don't know how to reset  http_flood, please run `%reset?` for details\n"
     ]
    }
   ],
   "source": [
    "http_flood = pd.read_csv('HTTP_FLOOD_v2.csv',names = header_orig)\n",
    "\n",
    "http_flood_sample = http_flood.sample(58000)\n",
    "http_flood_sample['attack_name'] = 'HTTP Flood'\n",
    "\n",
    "del http_flood\n",
    "%reset -f http_flood"
   ]
  },
  {
   "cell_type": "code",
   "execution_count": 8,
   "id": "68d8cc2b",
   "metadata": {},
   "outputs": [
    {
     "name": "stdout",
     "output_type": "stream",
     "text": [
      "Don't know how to reset  icmp_flood, please run `%reset?` for details\n"
     ]
    }
   ],
   "source": [
    "icmp_flood = pd.read_csv('ICMP_FLOOD_v2.csv',names=header_orig)\n",
    "\n",
    "icmp_flood_sample = icmp_flood.sample(58000)\n",
    "icmp_flood_sample['attack_name']='ICMP Flood'\n",
    "\n",
    "del icmp_flood\n",
    "%reset -f icmp_flood"
   ]
  },
  {
   "cell_type": "code",
   "execution_count": 9,
   "id": "5cb1e456",
   "metadata": {},
   "outputs": [
    {
     "name": "stdout",
     "output_type": "stream",
     "text": [
      "Don't know how to reset  reaper_flood, please run `%reset?` for details\n"
     ]
    }
   ],
   "source": [
    "reaper_flood = pd.read_csv('REAPER_WORM_v2.csv',names = header_orig)\n",
    "\n",
    "reaper_flood_sample = reaper_flood.sample(58000)\n",
    "reaper_flood_sample['attack_name']='Reaper Flood'\n",
    "\n",
    "del reaper_flood\n",
    "%reset -f reaper_flood"
   ]
  },
  {
   "cell_type": "code",
   "execution_count": 10,
   "id": "56faa4c1",
   "metadata": {},
   "outputs": [
    {
     "name": "stdout",
     "output_type": "stream",
     "text": [
      "Don't know how to reset  red_worm, please run `%reset?` for details\n"
     ]
    }
   ],
   "source": [
    "red_worm = pd.read_csv('RED_WORM_v2.csv',names=header_orig)\n",
    "\n",
    "red_worm_sample = red_worm.sample(58000)\n",
    "red_worm_sample['attack_name'] = 'Red Worm'\n",
    "\n",
    "del red_worm\n",
    "%reset -f red_worm"
   ]
  },
  {
   "cell_type": "code",
   "execution_count": 11,
   "id": "efad1e75",
   "metadata": {},
   "outputs": [
    {
     "name": "stdout",
     "output_type": "stream",
     "text": [
      "Don't know how to reset  udp_flood, please run `%reset?` for details\n"
     ]
    }
   ],
   "source": [
    "udp_flood = pd.read_csv('UDP_FLOOD_v2.csv',names=header_orig)\n",
    "\n",
    "udp_flood_sample = udp_flood.sample(58000)\n",
    "udp_flood_sample['attack_name'] = 'UDP Flood'\n",
    "\n",
    "del udp_flood\n",
    "%reset -f udp_flood"
   ]
  },
  {
   "cell_type": "code",
   "execution_count": 12,
   "id": "925b2d5e",
   "metadata": {},
   "outputs": [],
   "source": [
    "def tcp_flags(elem):\n",
    "    if elem in (\"U\", \"A\", \"P\", \"R\", \"S\", \"F\"):  #flag is set\n",
    "        return 1\n",
    "    else:\n",
    "        return 0\n",
    "\n",
    "# U --> urgent \n",
    "# A --> Acknowledgment \n",
    "# P --> Push\n",
    "# R --> Reset\n",
    "# S --> Synchronise\n",
    "# F --> Finish"
   ]
  },
  {
   "cell_type": "code",
   "execution_count": 13,
   "id": "dff715d0",
   "metadata": {},
   "outputs": [],
   "source": [
    "def modifying_dataset(df):\n",
    "    # only extracting the necessary columns \n",
    "    df = df[['ts_year', 'ts_month', 'ts_day', 'ts_hour', 'ts_min',\n",
    "       'ts_second', 'te_year', 'te_month', 'te_day', 'te_hour', 'te_min',\n",
    "       'te_second','duration',\"Src IP Addr\",\"Dst IP Addr\",\"Src Port\",\"Dst Port\",\"Protocol\",\"_flag1\",\"_flag2\",\n",
    "          \"_flag3\",\"_flag4\",\"_flag5\",\"_flag6\",'class','attack_name']]\n",
    "    \n",
    "    # one hot encoding the flags and renaming to U,A,P,R,S,F for better understanding\n",
    "    flags_df = df[[\"_flag1\", \"_flag2\", \"_flag3\", \"_flag4\", \"_flag5\", \"_flag6\"]]\n",
    "    df[[\"_flag1\", \"_flag2\", \"_flag3\", \"_flag4\", \"_flag5\", \"_flag6\"]] = flags_df.applymap(tcp_flags)\n",
    "    column_mapping = {'_flag1':'U','_flag2':'A','_flag3':'P','_flag4':'R','_flag5':'S','_flag6':'F'}\n",
    "    df.rename(columns = column_mapping, inplace = True)\n",
    "    \n",
    "    # changing class values to none and victim\n",
    "    df['class'] = np.where(df['class'] != 'none', 'victim', df['class'])\n",
    "    return df"
   ]
  },
  {
   "cell_type": "markdown",
   "id": "1977df74",
   "metadata": {},
   "source": [
    "Guide to what each column name means\n",
    "1. ts_year, ts_month, ts_day - the date on which the attack started\n",
    "2. ts_hour, ts_min, ts_second - the time at which the attack started\n",
    "3. te_year, te_month, te_day - the date on which the attack ended\n",
    "4. te_hour, te_min, te_second - the time at which the attack ended \n",
    "5. duration - the time the attack lasted for \n",
    "6. Src IP Addr, Dst IP Addr - the source and destination ip address respectively\n",
    "7. Src Port, Dst Port - the source and destination port address respectively \n",
    "8. Protocol - protocol of the network connection (ex- TCP, UDP, ICMP etc)\n",
    "9. _ flags are renamed to U, A, P, R, S, F\n",
    "10. class - attack or no \n",
    "11. attack_name - name of the attack "
   ]
  },
  {
   "cell_type": "code",
   "execution_count": 25,
   "id": "b5782378",
   "metadata": {},
   "outputs": [],
   "source": [
    "blaster_worm_sample = modifying_dataset(blaster_worm_sample)"
   ]
  },
  {
   "cell_type": "code",
   "execution_count": 27,
   "id": "25eede48",
   "metadata": {},
   "outputs": [],
   "source": [
    "fragmentation_sample = modifying_dataset(fragmentation_sample)"
   ]
  },
  {
   "cell_type": "code",
   "execution_count": 28,
   "id": "e768c1fd",
   "metadata": {},
   "outputs": [],
   "source": [
    "http_flood_sample = modifying_dataset(http_flood_sample)"
   ]
  },
  {
   "cell_type": "code",
   "execution_count": 29,
   "id": "e56a92fd",
   "metadata": {},
   "outputs": [],
   "source": [
    "icmp_flood_sample = modifying_dataset(icmp_flood_sample)"
   ]
  },
  {
   "cell_type": "code",
   "execution_count": 30,
   "id": "86e4fae3",
   "metadata": {},
   "outputs": [],
   "source": [
    "reaper_flood_sample = modifying_dataset(reaper_flood_sample)"
   ]
  },
  {
   "cell_type": "code",
   "execution_count": 31,
   "id": "32b6cd3d",
   "metadata": {},
   "outputs": [],
   "source": [
    "red_worm_sample = modifying_dataset(red_worm_sample)"
   ]
  },
  {
   "cell_type": "code",
   "execution_count": 32,
   "id": "d36a896b",
   "metadata": {},
   "outputs": [],
   "source": [
    "udp_flood_sample = modifying_dataset(udp_flood_sample)"
   ]
  },
  {
   "cell_type": "code",
   "execution_count": 33,
   "id": "32320684",
   "metadata": {},
   "outputs": [],
   "source": [
    "datasets = [blaster_worm_sample,fragmentation_sample,http_flood_sample,icmp_flood_sample,reaper_flood_sample,red_worm_sample,udp_flood_sample]"
   ]
  },
  {
   "cell_type": "code",
   "execution_count": 34,
   "id": "faee8875",
   "metadata": {},
   "outputs": [],
   "source": [
    "all_attacks_dataset = pd.concat(datasets, axis=0, ignore_index=True)"
   ]
  },
  {
   "cell_type": "code",
   "execution_count": 35,
   "id": "06bbc863",
   "metadata": {},
   "outputs": [
    {
     "data": {
      "text/html": [
       "<div>\n",
       "<style scoped>\n",
       "    .dataframe tbody tr th:only-of-type {\n",
       "        vertical-align: middle;\n",
       "    }\n",
       "\n",
       "    .dataframe tbody tr th {\n",
       "        vertical-align: top;\n",
       "    }\n",
       "\n",
       "    .dataframe thead th {\n",
       "        text-align: right;\n",
       "    }\n",
       "</style>\n",
       "<table border=\"1\" class=\"dataframe\">\n",
       "  <thead>\n",
       "    <tr style=\"text-align: right;\">\n",
       "      <th></th>\n",
       "      <th>ts_year</th>\n",
       "      <th>ts_month</th>\n",
       "      <th>ts_day</th>\n",
       "      <th>ts_hour</th>\n",
       "      <th>ts_min</th>\n",
       "      <th>ts_second</th>\n",
       "      <th>te_year</th>\n",
       "      <th>te_month</th>\n",
       "      <th>te_day</th>\n",
       "      <th>te_hour</th>\n",
       "      <th>...</th>\n",
       "      <th>Dst Port</th>\n",
       "      <th>Protocol</th>\n",
       "      <th>U</th>\n",
       "      <th>A</th>\n",
       "      <th>P</th>\n",
       "      <th>R</th>\n",
       "      <th>S</th>\n",
       "      <th>F</th>\n",
       "      <th>class</th>\n",
       "      <th>attack_name</th>\n",
       "    </tr>\n",
       "  </thead>\n",
       "  <tbody>\n",
       "    <tr>\n",
       "      <th>0</th>\n",
       "      <td>2020</td>\n",
       "      <td>1</td>\n",
       "      <td>25</td>\n",
       "      <td>3</td>\n",
       "      <td>45</td>\n",
       "      <td>1</td>\n",
       "      <td>2020</td>\n",
       "      <td>1</td>\n",
       "      <td>25</td>\n",
       "      <td>3</td>\n",
       "      <td>...</td>\n",
       "      <td>55114</td>\n",
       "      <td>TCP</td>\n",
       "      <td>0</td>\n",
       "      <td>0</td>\n",
       "      <td>0</td>\n",
       "      <td>0</td>\n",
       "      <td>1</td>\n",
       "      <td>0</td>\n",
       "      <td>none</td>\n",
       "      <td>Blaster Worm</td>\n",
       "    </tr>\n",
       "    <tr>\n",
       "      <th>1</th>\n",
       "      <td>2020</td>\n",
       "      <td>1</td>\n",
       "      <td>25</td>\n",
       "      <td>3</td>\n",
       "      <td>47</td>\n",
       "      <td>8</td>\n",
       "      <td>2020</td>\n",
       "      <td>1</td>\n",
       "      <td>25</td>\n",
       "      <td>3</td>\n",
       "      <td>...</td>\n",
       "      <td>35535</td>\n",
       "      <td>TCP</td>\n",
       "      <td>0</td>\n",
       "      <td>1</td>\n",
       "      <td>0</td>\n",
       "      <td>0</td>\n",
       "      <td>0</td>\n",
       "      <td>0</td>\n",
       "      <td>none</td>\n",
       "      <td>Blaster Worm</td>\n",
       "    </tr>\n",
       "    <tr>\n",
       "      <th>2</th>\n",
       "      <td>2020</td>\n",
       "      <td>1</td>\n",
       "      <td>25</td>\n",
       "      <td>3</td>\n",
       "      <td>45</td>\n",
       "      <td>44</td>\n",
       "      <td>2020</td>\n",
       "      <td>1</td>\n",
       "      <td>25</td>\n",
       "      <td>3</td>\n",
       "      <td>...</td>\n",
       "      <td>35799</td>\n",
       "      <td>TCP</td>\n",
       "      <td>0</td>\n",
       "      <td>0</td>\n",
       "      <td>0</td>\n",
       "      <td>0</td>\n",
       "      <td>1</td>\n",
       "      <td>0</td>\n",
       "      <td>none</td>\n",
       "      <td>Blaster Worm</td>\n",
       "    </tr>\n",
       "    <tr>\n",
       "      <th>3</th>\n",
       "      <td>2020</td>\n",
       "      <td>1</td>\n",
       "      <td>25</td>\n",
       "      <td>3</td>\n",
       "      <td>45</td>\n",
       "      <td>44</td>\n",
       "      <td>2020</td>\n",
       "      <td>1</td>\n",
       "      <td>25</td>\n",
       "      <td>3</td>\n",
       "      <td>...</td>\n",
       "      <td>3310</td>\n",
       "      <td>TCP</td>\n",
       "      <td>0</td>\n",
       "      <td>0</td>\n",
       "      <td>0</td>\n",
       "      <td>0</td>\n",
       "      <td>1</td>\n",
       "      <td>0</td>\n",
       "      <td>none</td>\n",
       "      <td>Blaster Worm</td>\n",
       "    </tr>\n",
       "    <tr>\n",
       "      <th>4</th>\n",
       "      <td>2020</td>\n",
       "      <td>1</td>\n",
       "      <td>25</td>\n",
       "      <td>3</td>\n",
       "      <td>45</td>\n",
       "      <td>20</td>\n",
       "      <td>2020</td>\n",
       "      <td>1</td>\n",
       "      <td>25</td>\n",
       "      <td>3</td>\n",
       "      <td>...</td>\n",
       "      <td>7777</td>\n",
       "      <td>TCP</td>\n",
       "      <td>0</td>\n",
       "      <td>0</td>\n",
       "      <td>0</td>\n",
       "      <td>0</td>\n",
       "      <td>1</td>\n",
       "      <td>0</td>\n",
       "      <td>none</td>\n",
       "      <td>Blaster Worm</td>\n",
       "    </tr>\n",
       "    <tr>\n",
       "      <th>...</th>\n",
       "      <td>...</td>\n",
       "      <td>...</td>\n",
       "      <td>...</td>\n",
       "      <td>...</td>\n",
       "      <td>...</td>\n",
       "      <td>...</td>\n",
       "      <td>...</td>\n",
       "      <td>...</td>\n",
       "      <td>...</td>\n",
       "      <td>...</td>\n",
       "      <td>...</td>\n",
       "      <td>...</td>\n",
       "      <td>...</td>\n",
       "      <td>...</td>\n",
       "      <td>...</td>\n",
       "      <td>...</td>\n",
       "      <td>...</td>\n",
       "      <td>...</td>\n",
       "      <td>...</td>\n",
       "      <td>...</td>\n",
       "      <td>...</td>\n",
       "    </tr>\n",
       "    <tr>\n",
       "      <th>405995</th>\n",
       "      <td>2019</td>\n",
       "      <td>3</td>\n",
       "      <td>6</td>\n",
       "      <td>21</td>\n",
       "      <td>15</td>\n",
       "      <td>18</td>\n",
       "      <td>2019</td>\n",
       "      <td>3</td>\n",
       "      <td>6</td>\n",
       "      <td>21</td>\n",
       "      <td>...</td>\n",
       "      <td>53</td>\n",
       "      <td>UDP</td>\n",
       "      <td>0</td>\n",
       "      <td>0</td>\n",
       "      <td>0</td>\n",
       "      <td>0</td>\n",
       "      <td>0</td>\n",
       "      <td>0</td>\n",
       "      <td>none</td>\n",
       "      <td>UDP Flood</td>\n",
       "    </tr>\n",
       "    <tr>\n",
       "      <th>405996</th>\n",
       "      <td>2019</td>\n",
       "      <td>3</td>\n",
       "      <td>6</td>\n",
       "      <td>21</td>\n",
       "      <td>18</td>\n",
       "      <td>36</td>\n",
       "      <td>2019</td>\n",
       "      <td>3</td>\n",
       "      <td>6</td>\n",
       "      <td>21</td>\n",
       "      <td>...</td>\n",
       "      <td>41964</td>\n",
       "      <td>UDP</td>\n",
       "      <td>0</td>\n",
       "      <td>0</td>\n",
       "      <td>0</td>\n",
       "      <td>0</td>\n",
       "      <td>0</td>\n",
       "      <td>0</td>\n",
       "      <td>none</td>\n",
       "      <td>UDP Flood</td>\n",
       "    </tr>\n",
       "    <tr>\n",
       "      <th>405997</th>\n",
       "      <td>2019</td>\n",
       "      <td>3</td>\n",
       "      <td>6</td>\n",
       "      <td>21</td>\n",
       "      <td>18</td>\n",
       "      <td>9</td>\n",
       "      <td>2019</td>\n",
       "      <td>3</td>\n",
       "      <td>6</td>\n",
       "      <td>21</td>\n",
       "      <td>...</td>\n",
       "      <td>53</td>\n",
       "      <td>UDP</td>\n",
       "      <td>0</td>\n",
       "      <td>0</td>\n",
       "      <td>0</td>\n",
       "      <td>0</td>\n",
       "      <td>0</td>\n",
       "      <td>0</td>\n",
       "      <td>none</td>\n",
       "      <td>UDP Flood</td>\n",
       "    </tr>\n",
       "    <tr>\n",
       "      <th>405998</th>\n",
       "      <td>2019</td>\n",
       "      <td>3</td>\n",
       "      <td>6</td>\n",
       "      <td>21</td>\n",
       "      <td>13</td>\n",
       "      <td>59</td>\n",
       "      <td>2019</td>\n",
       "      <td>3</td>\n",
       "      <td>6</td>\n",
       "      <td>21</td>\n",
       "      <td>...</td>\n",
       "      <td>53</td>\n",
       "      <td>UDP</td>\n",
       "      <td>0</td>\n",
       "      <td>0</td>\n",
       "      <td>0</td>\n",
       "      <td>0</td>\n",
       "      <td>0</td>\n",
       "      <td>0</td>\n",
       "      <td>none</td>\n",
       "      <td>UDP Flood</td>\n",
       "    </tr>\n",
       "    <tr>\n",
       "      <th>405999</th>\n",
       "      <td>2019</td>\n",
       "      <td>3</td>\n",
       "      <td>6</td>\n",
       "      <td>21</td>\n",
       "      <td>17</td>\n",
       "      <td>17</td>\n",
       "      <td>2019</td>\n",
       "      <td>3</td>\n",
       "      <td>6</td>\n",
       "      <td>21</td>\n",
       "      <td>...</td>\n",
       "      <td>53</td>\n",
       "      <td>UDP</td>\n",
       "      <td>0</td>\n",
       "      <td>0</td>\n",
       "      <td>0</td>\n",
       "      <td>0</td>\n",
       "      <td>0</td>\n",
       "      <td>0</td>\n",
       "      <td>none</td>\n",
       "      <td>UDP Flood</td>\n",
       "    </tr>\n",
       "  </tbody>\n",
       "</table>\n",
       "<p>406000 rows × 26 columns</p>\n",
       "</div>"
      ],
      "text/plain": [
       "        ts_year  ts_month  ts_day  ts_hour  ts_min  ts_second  te_year  \\\n",
       "0          2020         1      25        3      45          1     2020   \n",
       "1          2020         1      25        3      47          8     2020   \n",
       "2          2020         1      25        3      45         44     2020   \n",
       "3          2020         1      25        3      45         44     2020   \n",
       "4          2020         1      25        3      45         20     2020   \n",
       "...         ...       ...     ...      ...     ...        ...      ...   \n",
       "405995     2019         3       6       21      15         18     2019   \n",
       "405996     2019         3       6       21      18         36     2019   \n",
       "405997     2019         3       6       21      18          9     2019   \n",
       "405998     2019         3       6       21      13         59     2019   \n",
       "405999     2019         3       6       21      17         17     2019   \n",
       "\n",
       "        te_month  te_day  te_hour  ...  Dst Port  Protocol  U  A  P  R  S  F  \\\n",
       "0              1      25        3  ...     55114       TCP  0  0  0  0  1  0   \n",
       "1              1      25        3  ...     35535       TCP  0  1  0  0  0  0   \n",
       "2              1      25        3  ...     35799       TCP  0  0  0  0  1  0   \n",
       "3              1      25        3  ...      3310       TCP  0  0  0  0  1  0   \n",
       "4              1      25        3  ...      7777       TCP  0  0  0  0  1  0   \n",
       "...          ...     ...      ...  ...       ...       ... .. .. .. .. .. ..   \n",
       "405995         3       6       21  ...        53       UDP  0  0  0  0  0  0   \n",
       "405996         3       6       21  ...     41964       UDP  0  0  0  0  0  0   \n",
       "405997         3       6       21  ...        53       UDP  0  0  0  0  0  0   \n",
       "405998         3       6       21  ...        53       UDP  0  0  0  0  0  0   \n",
       "405999         3       6       21  ...        53       UDP  0  0  0  0  0  0   \n",
       "\n",
       "        class   attack_name  \n",
       "0        none  Blaster Worm  \n",
       "1        none  Blaster Worm  \n",
       "2        none  Blaster Worm  \n",
       "3        none  Blaster Worm  \n",
       "4        none  Blaster Worm  \n",
       "...       ...           ...  \n",
       "405995   none     UDP Flood  \n",
       "405996   none     UDP Flood  \n",
       "405997   none     UDP Flood  \n",
       "405998   none     UDP Flood  \n",
       "405999   none     UDP Flood  \n",
       "\n",
       "[406000 rows x 26 columns]"
      ]
     },
     "execution_count": 35,
     "metadata": {},
     "output_type": "execute_result"
    }
   ],
   "source": [
    "all_attacks_dataset"
   ]
  },
  {
   "cell_type": "code",
   "execution_count": 37,
   "id": "986d4533",
   "metadata": {},
   "outputs": [
    {
     "data": {
      "text/plain": [
       "Index(['ts_year', 'ts_month', 'ts_day', 'ts_hour', 'ts_min', 'ts_second',\n",
       "       'te_year', 'te_month', 'te_day', 'te_hour', 'te_min', 'te_second',\n",
       "       'duration', 'Src IP Addr', 'Dst IP Addr', 'Src Port', 'Dst Port',\n",
       "       'Protocol', 'U', 'A', 'P', 'R', 'S', 'F', 'class', 'attack_name'],\n",
       "      dtype='object')"
      ]
     },
     "execution_count": 37,
     "metadata": {},
     "output_type": "execute_result"
    }
   ],
   "source": [
    "all_attacks_dataset.keys()"
   ]
  },
  {
   "cell_type": "code",
   "execution_count": null,
   "id": "baf53698",
   "metadata": {},
   "outputs": [],
   "source": []
  }
 ],
 "metadata": {
  "kernelspec": {
   "display_name": "Python 3 (ipykernel)",
   "language": "python",
   "name": "python3"
  },
  "language_info": {
   "codemirror_mode": {
    "name": "ipython",
    "version": 3
   },
   "file_extension": ".py",
   "mimetype": "text/x-python",
   "name": "python",
   "nbconvert_exporter": "python",
   "pygments_lexer": "ipython3",
   "version": "3.9.13"
  }
 },
 "nbformat": 4,
 "nbformat_minor": 5
}
