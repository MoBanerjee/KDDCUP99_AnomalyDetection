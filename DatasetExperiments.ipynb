{
 "cells": [
  {
   "cell_type": "code",
   "execution_count": 2,
   "id": "1eff61cb",
   "metadata": {},
   "outputs": [],
   "source": [
    "import pandas as pd\n",
    "import numpy as np\n",
    "import warnings\n",
    "warnings.filterwarnings(\"ignore\")\n"
   ]
  },
  {
   "cell_type": "code",
   "execution_count": 3,
   "id": "8d3afa13",
   "metadata": {},
   "outputs": [],
   "source": [
    "def counter(df):\n",
    "  name =[x for x in globals() if globals()[x] is df][0]\n",
    "  print(name)\n",
    "  print(\"total: \",df.shape[0])\n",
    "  print(\"normal: \",(df['attack_a'] ==0).sum())\n",
    "  print(\"attack: \",(df['attack_a'] ==1).sum())"
   ]
  },
  {
   "cell_type": "code",
   "execution_count": 4,
   "id": "69d5ac91",
   "metadata": {},
   "outputs": [],
   "source": [
    "header_orig = [\"ID\",\"ts_year\",\"ts_month\",\"ts_day\",\"ts_hour\",\"ts_min\",\"ts_second\",\"te_year\",\"te_month\",\n",
    "          \"te_day\",\"te_hour\",\"te_min\",\"te_second\",\"duration\",\"Src IP Addr\",\"Dst IP Addr\",\"Src Port\",\"Dst Port\",\"Protocol\",\"_flag1\",\"_flag2\",\n",
    "          \"_flag3\",\"_flag4\",\"_flag5\",\"_flag6\",\"fwd\",\"stos\",\"Packets\",\"Bytes\",\"opkt\",\"obyt\",\"_in\",\"out\",\n",
    "          \"sas\",\"das\",\"smk\",\"dmk\",\"dtos\",\"_dir\",\"nh\",\"nhb\",\"svln\",\"dvln\",\"ismc\",\"odmc\",\"idmc\",\"osmc\",\n",
    "          \"mpls1\",\"mpls2\",\"mpls3\",\"mpls4\",\"mpls5\",\"mpls6\",\"mpls7\",\"mpls8\",\"mpls9\",\"mpls10\",\"cl\",\"sl\",\n",
    "          \"al\",\"ra\",\"eng\",\"exid\",\"tr\",\"icmp_dst_ip_b\",\"icmp_src_ip\",\"udp_dst_p\",\"tcp_f_s\",\"tcp_f_n_a\",\n",
    "          \"tcp_f_n_f\",\"tcp_f_n_r\",\"tcp_f_n_p\",\"tcp_f_n_u\",\"tcp_dst_p\",\"tcp_src_dst_f_s\",\"tcp_src_tftp\",\n",
    "          \"tcp_src_kerb\",\"tcp_src_rpc\",\"tcp_dst_p_src\",\"smtp_dst\",\"udp_p_r_range\",\"p_range_dst\",\n",
    "          \"udp_src_p_0\",\"class\",\"attack_a\"]"
   ]
  },
  {
   "cell_type": "code",
   "execution_count": 5,
   "id": "5712d757",
   "metadata": {},
   "outputs": [],
   "source": [
    "blaster_worm = pd.read_csv('BLASTER_WORM_v2.csv',names=header_orig)"
   ]
  },
  {
   "cell_type": "code",
   "execution_count": 55,
   "id": "8ee24c2d",
   "metadata": {},
   "outputs": [
    {
     "data": {
      "text/plain": [
       ".    807349\n",
       "A    500868\n",
       "      19230\n",
       "Name: _flag2, dtype: int64"
      ]
     },
     "execution_count": 55,
     "metadata": {},
     "output_type": "execute_result"
    }
   ],
   "source": [
    "fragmentation[\"_flag2\"].value_counts()"
   ]
  },
  {
   "cell_type": "code",
   "execution_count": 6,
   "id": "799dc2aa",
   "metadata": {},
   "outputs": [],
   "source": [
    "fragmentation = pd.read_csv('FRAGMENTATION_v2.csv',names=header_orig)"
   ]
  },
  {
   "cell_type": "code",
   "execution_count": 7,
   "id": "dbf36e71",
   "metadata": {},
   "outputs": [],
   "source": [
    "http_flood = pd.read_csv('HTTP_FLOOD_v2.csv',names = header_orig)"
   ]
  },
  {
   "cell_type": "code",
   "execution_count": 8,
   "id": "6ba272a8",
   "metadata": {},
   "outputs": [],
   "source": [
    "icmp_flood = pd.read_csv('ICMP_FLOOD_v2.csv',names=header_orig)"
   ]
  },
  {
   "cell_type": "code",
   "execution_count": 9,
   "id": "f605bc58",
   "metadata": {},
   "outputs": [],
   "source": [
    "reaper_flood = pd.read_csv('REAPER_WORM_v2.csv',names = header_orig)"
   ]
  },
  {
   "cell_type": "code",
   "execution_count": 10,
   "id": "458511d3",
   "metadata": {},
   "outputs": [],
   "source": [
    "red_worm = pd.read_csv('RED_WORM_v2.csv',names=header_orig)"
   ]
  },
  {
   "cell_type": "code",
   "execution_count": 11,
   "id": "700fbc1c",
   "metadata": {},
   "outputs": [],
   "source": [
    "udp_flood = pd.read_csv('UDP_FLOOD_v2.csv',names=header_orig)"
   ]
  },
  {
   "cell_type": "code",
   "execution_count": 12,
   "id": "dd241d46",
   "metadata": {},
   "outputs": [],
   "source": [
    "land_flood = pd.read_csv('LAND_ATTACK_v2.csv',names=header_orig)"
   ]
  },
  {
   "cell_type": "code",
   "execution_count": 13,
   "id": "17ecb62c",
   "metadata": {},
   "outputs": [],
   "source": [
    "smurf = pd.read_csv('SMURF_v2.csv',names=header_orig)"
   ]
  },
  {
   "cell_type": "code",
   "execution_count": 14,
   "id": "0667b6fa",
   "metadata": {},
   "outputs": [],
   "source": [
    "scanning = pd.read_csv('SCANNING_SPREAD_v2.csv',names=header_orig)"
   ]
  },
  {
   "cell_type": "code",
   "execution_count": 15,
   "id": "c7f1707a",
   "metadata": {},
   "outputs": [],
   "source": [
    "spam = pd.read_csv('SPAM_v2.csv',names=header_orig)"
   ]
  },
  {
   "cell_type": "code",
   "execution_count": 16,
   "id": "a9913201",
   "metadata": {},
   "outputs": [],
   "source": [
    "syn_flood = pd.read_csv('SYN_FLOOD.csv',names=header_orig)"
   ]
  },
  {
   "cell_type": "code",
   "execution_count": 17,
   "id": "ac0f3e31",
   "metadata": {},
   "outputs": [],
   "source": [
    "litnet_raw=[blaster_worm, fragmentation,http_flood,icmp_flood, reaper_flood,red_worm,udp_flood,land_flood,smurf,scanning,spam,syn_flood]"
   ]
  },
  {
   "cell_type": "code",
   "execution_count": 19,
   "id": "2d9888f8",
   "metadata": {},
   "outputs": [],
   "source": [
    "def custom_summary(dataset_list):\n",
    "    for df in dataset_list:\n",
    "        counter(df)\n",
    "        print(\"----------------------------------------\")\n",
    "    "
   ]
  },
  {
   "cell_type": "code",
   "execution_count": 20,
   "id": "5df72d9a",
   "metadata": {},
   "outputs": [
    {
     "name": "stdout",
     "output_type": "stream",
     "text": [
      "blaster_worm\n",
      "total:  3119478\n",
      "normal:  3095187\n",
      "attack:  24291\n",
      "----------------------------------------\n",
      "fragmentation\n",
      "total:  1327447\n",
      "normal:  1326970\n",
      "attack:  477\n",
      "----------------------------------------\n",
      "http_flood\n",
      "total:  4109117\n",
      "normal:  4086158\n",
      "attack:  22959\n",
      "----------------------------------------\n",
      "icmp_flood\n",
      "total:  4407202\n",
      "normal:  4336095\n",
      "attack:  71107\n",
      "----------------------------------------\n",
      "reaper_flood\n",
      "total:  4673030\n",
      "normal:  4671854\n",
      "attack:  1176\n",
      "----------------------------------------\n",
      "red_worm\n",
      "total:  5637310\n",
      "normal:  4381608\n",
      "attack:  1255702\n",
      "----------------------------------------\n",
      "udp_flood\n",
      "total:  630124\n",
      "normal:  536541\n",
      "attack:  93583\n",
      "----------------------------------------\n",
      "land_flood\n",
      "total:  4032845\n",
      "normal:  3980428\n",
      "attack:  52417\n",
      "----------------------------------------\n",
      "smurf\n",
      "total:  4407202\n",
      "normal:  4336095\n",
      "attack:  71107\n",
      "----------------------------------------\n",
      "scanning\n",
      "total:  6687\n",
      "normal:  455\n",
      "attack:  6232\n",
      "----------------------------------------\n",
      "spam\n",
      "total:  1240708\n",
      "normal:  1239961\n",
      "attack:  747\n",
      "----------------------------------------\n",
      "syn_flood\n",
      "total:  6012524\n",
      "normal:  4432508\n",
      "attack:  1580016\n",
      "----------------------------------------\n"
     ]
    }
   ],
   "source": [
    "custom_summary(litnet_raw)"
   ]
  },
  {
   "cell_type": "code",
   "execution_count": 21,
   "id": "0a89a2e7",
   "metadata": {},
   "outputs": [],
   "source": [
    "import matplotlib.pyplot as plt\n",
    "from sklearn import preprocessing"
   ]
  },
  {
   "cell_type": "code",
   "execution_count": 21,
   "id": "b9906d11",
   "metadata": {},
   "outputs": [],
   "source": [
    "CIDDS_int_1=pd.read_csv('CIDDS_int_1.csv')"
   ]
  },
  {
   "cell_type": "code",
   "execution_count": 31,
   "id": "8dd0f4ac",
   "metadata": {},
   "outputs": [],
   "source": [
    "CIDDS_int_2=pd.read_csv('CIDDS_int_2.csv')"
   ]
  },
  {
   "cell_type": "code",
   "execution_count": 39,
   "id": "f9bb7bfc",
   "metadata": {},
   "outputs": [
    {
     "data": {
      "text/plain": [
       "---    6175897\n",
       "Name: attackType, dtype: int64"
      ]
     },
     "execution_count": 39,
     "metadata": {},
     "output_type": "execute_result"
    }
   ],
   "source": [
    "CIDDS_int_4.attackType.value_counts()"
   ]
  },
  {
   "cell_type": "code",
   "execution_count": 25,
   "id": "7fbf0fec",
   "metadata": {},
   "outputs": [
    {
     "name": "stdout",
     "output_type": "stream",
     "text": [
      "ID                int64\n",
      "ts_year           int64\n",
      "ts_month          int64\n",
      "ts_day            int64\n",
      "ts_hour           int64\n",
      "                  ...  \n",
      "udp_p_r_range    object\n",
      "p_range_dst      object\n",
      "udp_src_p_0      object\n",
      "class            object\n",
      "attack_a          int64\n",
      "Length: 85, dtype: object\n"
     ]
    }
   ],
   "source": [
    "\n",
    "print(blaster_worm.dtypes)"
   ]
  },
  {
   "cell_type": "code",
   "execution_count": 36,
   "id": "9d440d1d",
   "metadata": {},
   "outputs": [],
   "source": [
    "CIDDS_int_3=pd.read_csv('CIDDS_int_3.csv')"
   ]
  },
  {
   "cell_type": "code",
   "execution_count": 37,
   "id": "e9223b4d",
   "metadata": {},
   "outputs": [],
   "source": [
    "CIDDS_int_4=pd.read_csv('CIDDS_int_4.csv')"
   ]
  },
  {
   "cell_type": "code",
   "execution_count": 27,
   "id": "fbd63531",
   "metadata": {},
   "outputs": [],
   "source": [
    "CIDDS_int_raw=[CIDDS_int_1,CIDDS_int_2,CIDDS_int_3,CIDDS_int_4]"
   ]
  },
  {
   "cell_type": "code",
   "execution_count": 48,
   "id": "2e832380",
   "metadata": {},
   "outputs": [
    {
     "data": {
      "text/plain": [
       "array(['---', '1', '2', '3', '4', '5', '6', '7', '8', '9', '10', '11',\n",
       "       '12', '13', '14', '15', '16', '17', '18', '19', '20', '21', '22',\n",
       "       '23', '24', '25', '26', '27', '28', '29', '30', '31', '32', '33',\n",
       "       '34', '35', '36', '37', '38', '39', '40', '41', '42'], dtype=object)"
      ]
     },
     "execution_count": 48,
     "metadata": {},
     "output_type": "execute_result"
    }
   ],
   "source": [
    "CIDDS_int_1[\"attackID\"].unique()"
   ]
  },
  {
   "cell_type": "code",
   "execution_count": 49,
   "id": "6754e9ab",
   "metadata": {},
   "outputs": [
    {
     "data": {
      "text/plain": [
       "array(['---', '43', '44', '45', '46', '47', '48', '49', '50', '51', '52',\n",
       "       '53', '54', '55', '56', '57', '58', '59', '60', '61', '62', '63',\n",
       "       '64', '65', '66', '67', '68', '69', '70'], dtype=object)"
      ]
     },
     "execution_count": 49,
     "metadata": {},
     "output_type": "execute_result"
    }
   ],
   "source": [
    "CIDDS_int_2[\"attackID\"].unique()"
   ]
  },
  {
   "cell_type": "code",
   "execution_count": 50,
   "id": "67e15f15",
   "metadata": {},
   "outputs": [
    {
     "data": {
      "text/plain": [
       "array(['---'], dtype=object)"
      ]
     },
     "execution_count": 50,
     "metadata": {},
     "output_type": "execute_result"
    }
   ],
   "source": [
    "CIDDS_int_3[\"attackID\"].unique()"
   ]
  },
  {
   "cell_type": "code",
   "execution_count": 51,
   "id": "1f888e15",
   "metadata": {},
   "outputs": [
    {
     "data": {
      "text/plain": [
       "array(['---'], dtype=object)"
      ]
     },
     "execution_count": 51,
     "metadata": {},
     "output_type": "execute_result"
    }
   ],
   "source": [
    "CIDDS_int_4[\"attackID\"].unique()"
   ]
  },
  {
   "cell_type": "code",
   "execution_count": 64,
   "id": "acb02ff6",
   "metadata": {},
   "outputs": [
    {
     "data": {
      "text/plain": [
       "---    7010897\n",
       "18      295302\n",
       "16      261003\n",
       "42      184040\n",
       "31      144845\n",
       "26       74471\n",
       "23       72788\n",
       "4        72063\n",
       "6        37134\n",
       "3        37118\n",
       "9        37057\n",
       "28       36306\n",
       "37       26114\n",
       "29       19732\n",
       "11       17401\n",
       "14       13807\n",
       "17       13338\n",
       "34       12909\n",
       "20       11748\n",
       "19       11672\n",
       "40       11609\n",
       "12       11526\n",
       "7         9586\n",
       "1         7657\n",
       "21        5113\n",
       "5         4948\n",
       "8         4424\n",
       "2         1927\n",
       "27         680\n",
       "13         513\n",
       "36         494\n",
       "24         466\n",
       "41         379\n",
       "39         364\n",
       "32         335\n",
       "10         311\n",
       "33         307\n",
       "22         295\n",
       "38         267\n",
       "35         263\n",
       "25         201\n",
       "15          64\n",
       "30          46\n",
       "Name: attackID, dtype: int64"
      ]
     },
     "execution_count": 64,
     "metadata": {},
     "output_type": "execute_result"
    }
   ],
   "source": [
    "CIDDS_int_1[\"attackID\"].value_counts()"
   ]
  },
  {
   "cell_type": "code",
   "execution_count": 87,
   "id": "c4c41c2a",
   "metadata": {},
   "outputs": [
    {
     "data": {
      "text/plain": [
       "---    8515329\n",
       "53      516299\n",
       "60      333627\n",
       "44      261169\n",
       "45      224960\n",
       "63      148641\n",
       "46      111720\n",
       "59      110484\n",
       "49       17629\n",
       "48       13600\n",
       "67       13426\n",
       "47       13420\n",
       "51       11968\n",
       "68        5632\n",
       "50        4589\n",
       "43        2143\n",
       "55         757\n",
       "61         705\n",
       "52         607\n",
       "62         574\n",
       "57         522\n",
       "58         510\n",
       "64         480\n",
       "56         427\n",
       "65         373\n",
       "69         360\n",
       "66         359\n",
       "70         240\n",
       "54         183\n",
       "Name: attackID, dtype: int64"
      ]
     },
     "execution_count": 87,
     "metadata": {},
     "output_type": "execute_result"
    }
   ],
   "source": [
    "CIDDS_int_2[\"attackID\"].value_counts()"
   ]
  },
  {
   "cell_type": "code",
   "execution_count": 61,
   "id": "3479d5cd",
   "metadata": {},
   "outputs": [],
   "source": [
    "CIDDS_combo = pd.concat([CIDDS_int_1, CIDDS_int_2])\n",
    "unique_combinations = CIDDS_combo[['attackID', 'class']].drop_duplicates()"
   ]
  },
  {
   "cell_type": "code",
   "execution_count": 62,
   "id": "fa6fef7e",
   "metadata": {},
   "outputs": [
    {
     "data": {
      "text/html": [
       "<div>\n",
       "<style scoped>\n",
       "    .dataframe tbody tr th:only-of-type {\n",
       "        vertical-align: middle;\n",
       "    }\n",
       "\n",
       "    .dataframe tbody tr th {\n",
       "        vertical-align: top;\n",
       "    }\n",
       "\n",
       "    .dataframe thead th {\n",
       "        text-align: right;\n",
       "    }\n",
       "</style>\n",
       "<table border=\"1\" class=\"dataframe\">\n",
       "  <thead>\n",
       "    <tr style=\"text-align: right;\">\n",
       "      <th></th>\n",
       "      <th>attackID</th>\n",
       "      <th>class</th>\n",
       "    </tr>\n",
       "  </thead>\n",
       "  <tbody>\n",
       "    <tr>\n",
       "      <th>0</th>\n",
       "      <td>---</td>\n",
       "      <td>normal</td>\n",
       "    </tr>\n",
       "    <tr>\n",
       "      <th>77</th>\n",
       "      <td>1</td>\n",
       "      <td>victim</td>\n",
       "    </tr>\n",
       "    <tr>\n",
       "      <th>78</th>\n",
       "      <td>1</td>\n",
       "      <td>attacker</td>\n",
       "    </tr>\n",
       "    <tr>\n",
       "      <th>334144</th>\n",
       "      <td>2</td>\n",
       "      <td>attacker</td>\n",
       "    </tr>\n",
       "    <tr>\n",
       "      <th>356906</th>\n",
       "      <td>2</td>\n",
       "      <td>victim</td>\n",
       "    </tr>\n",
       "    <tr>\n",
       "      <th>...</th>\n",
       "      <td>...</td>\n",
       "      <td>...</td>\n",
       "    </tr>\n",
       "    <tr>\n",
       "      <th>8935933</th>\n",
       "      <td>68</td>\n",
       "      <td>victim</td>\n",
       "    </tr>\n",
       "    <tr>\n",
       "      <th>10279077</th>\n",
       "      <td>69</td>\n",
       "      <td>attacker</td>\n",
       "    </tr>\n",
       "    <tr>\n",
       "      <th>10279824</th>\n",
       "      <td>69</td>\n",
       "      <td>victim</td>\n",
       "    </tr>\n",
       "    <tr>\n",
       "      <th>10294284</th>\n",
       "      <td>70</td>\n",
       "      <td>attacker</td>\n",
       "    </tr>\n",
       "    <tr>\n",
       "      <th>10294285</th>\n",
       "      <td>70</td>\n",
       "      <td>victim</td>\n",
       "    </tr>\n",
       "  </tbody>\n",
       "</table>\n",
       "<p>138 rows × 2 columns</p>\n",
       "</div>"
      ],
      "text/plain": [
       "         attackID     class\n",
       "0             ---    normal\n",
       "77              1    victim\n",
       "78              1  attacker\n",
       "334144          2  attacker\n",
       "356906          2    victim\n",
       "...           ...       ...\n",
       "8935933        68    victim\n",
       "10279077       69  attacker\n",
       "10279824       69    victim\n",
       "10294284       70  attacker\n",
       "10294285       70    victim\n",
       "\n",
       "[138 rows x 2 columns]"
      ]
     },
     "execution_count": 62,
     "metadata": {},
     "output_type": "execute_result"
    }
   ],
   "source": [
    "unique_combinations.head(138)"
   ]
  },
  {
   "cell_type": "code",
   "execution_count": 68,
   "id": "5846963b",
   "metadata": {},
   "outputs": [
    {
     "data": {
      "text/plain": [
       "(138, 2)"
      ]
     },
     "execution_count": 68,
     "metadata": {},
     "output_type": "execute_result"
    }
   ],
   "source": [
    "unique_combinations.shape"
   ]
  },
  {
   "cell_type": "code",
   "execution_count": 71,
   "id": "e02bb354",
   "metadata": {},
   "outputs": [
    {
     "data": {
      "text/plain": [
       "35     2\n",
       "43     2\n",
       "49     2\n",
       "48     2\n",
       "47     2\n",
       "      ..\n",
       "19     2\n",
       "62     1\n",
       "64     1\n",
       "55     1\n",
       "---    1\n",
       "Name: attackID, Length: 71, dtype: int64"
      ]
     },
     "execution_count": 71,
     "metadata": {},
     "output_type": "execute_result"
    }
   ],
   "source": [
    "unique_combinations[\"attackID\"].value_counts()"
   ]
  },
  {
   "cell_type": "code",
   "execution_count": 78,
   "id": "5adedf11",
   "metadata": {},
   "outputs": [
    {
     "name": "stdout",
     "output_type": "stream",
     "text": [
      "0          ---\n",
      "5378030     55\n",
      "6439160     62\n",
      "6743658     64\n",
      "Name: attackID, dtype: object 0            normal\n",
      "5378030    attacker\n",
      "6439160    attacker\n",
      "6743658    attacker\n",
      "Name: class, dtype: object\n"
     ]
    }
   ],
   "source": [
    "attack_id_counts = unique_combinations['attackID'].value_counts()\n",
    "\n",
    "# Step 2: Filter IDs that occur exactly once\n",
    "ids_occurring_once = attack_id_counts[attack_id_counts == 1].index\n",
    "\n",
    "# Step 3: Select 'class' for these IDs\n",
    "selected_values_ID = unique_combinations[unique_combinations['attackID'].isin(ids_occurring_once)]['attackID']\n",
    "selected_values_class = unique_combinations[unique_combinations['attackID'].isin(ids_occurring_once)]['class']\n",
    "# Print the result\n",
    "print(selected_values_ID,selected_values_class)"
   ]
  },
  {
   "cell_type": "code",
   "execution_count": 66,
   "id": "61ea498e",
   "metadata": {},
   "outputs": [],
   "source": [
    "def counter_cidds(df):\n",
    "  name =[x for x in globals() if globals()[x] is df][0]\n",
    "  print(name)\n",
    "  print(\"total: \",df.shape[0])\n",
    "  print(\"normal: \",(df['attackID'] ==\"---\").sum())\n",
    "  print(\"attack: \",(df['attackID'] !=\"---\").sum())"
   ]
  },
  {
   "cell_type": "code",
   "execution_count": 67,
   "id": "4d0189f4",
   "metadata": {},
   "outputs": [
    {
     "name": "stdout",
     "output_type": "stream",
     "text": [
      "CIDDS_int_1\n",
      "total:  8451520\n",
      "normal:  7010897\n",
      "attack:  1440623\n",
      "----------------------------------------\n",
      "CIDDS_int_2\n",
      "total:  10310733\n",
      "normal:  8515329\n",
      "attack:  1795404\n",
      "----------------------------------------\n",
      "CIDDS_int_3\n",
      "total:  6349783\n",
      "normal:  6349783\n",
      "attack:  0\n",
      "----------------------------------------\n",
      "CIDDS_int_4\n",
      "total:  6175897\n",
      "normal:  6175897\n",
      "attack:  0\n",
      "----------------------------------------\n"
     ]
    }
   ],
   "source": [
    "custom_summary(CIDDS_int_raw)"
   ]
  },
  {
   "cell_type": "code",
   "execution_count": 79,
   "id": "daae7e24",
   "metadata": {},
   "outputs": [
    {
     "name": "stdout",
     "output_type": "stream",
     "text": [
      "['Date first seen', 'Duration', 'Proto', 'Src IP Addr', 'Src Pt', 'Dst IP Addr', 'Dst Pt', 'Packets', 'Bytes', 'Flows', 'Flags', 'Tos', 'class', 'attackType', 'attackID', 'attackDescription']\n"
     ]
    }
   ],
   "source": [
    "columns_list = CIDDS_int_1.columns.tolist()\n",
    "print(columns_list)"
   ]
  },
  {
   "cell_type": "code",
   "execution_count": 95,
   "id": "ad9cb703",
   "metadata": {},
   "outputs": [],
   "source": [
    "selected_values = CIDDS_int_2.loc[CIDDS_int_2[\"attackID\"]==55,\"class\"]"
   ]
  },
  {
   "cell_type": "code",
   "execution_count": 96,
   "id": "f12ceb91",
   "metadata": {},
   "outputs": [
    {
     "name": "stdout",
     "output_type": "stream",
     "text": [
      "Series([], Name: class, dtype: object)\n"
     ]
    }
   ],
   "source": [
    "print(selected_values)"
   ]
  },
  {
   "cell_type": "code",
   "execution_count": 98,
   "id": "981521b8",
   "metadata": {},
   "outputs": [
    {
     "name": "stdout",
     "output_type": "stream",
     "text": [
      "True\n"
     ]
    }
   ],
   "source": [
    "has_duplicates = CIDDS_combo.duplicated().any()\n",
    "print(has_duplicates)\n"
   ]
  },
  {
   "cell_type": "code",
   "execution_count": 104,
   "id": "435b7403",
   "metadata": {},
   "outputs": [
    {
     "name": "stdout",
     "output_type": "stream",
     "text": [
      "0          False\n",
      "1          False\n",
      "2          False\n",
      "3          False\n",
      "4           True\n",
      "           ...  \n",
      "8451515    False\n",
      "8451516    False\n",
      "8451517    False\n",
      "8451518    False\n",
      "8451519    False\n",
      "Length: 8451520, dtype: bool\n"
     ]
    }
   ],
   "source": [
    "duplicates = CIDDS_int_1.duplicated()\n",
    "print(duplicates)"
   ]
  },
  {
   "cell_type": "code",
   "execution_count": 101,
   "id": "ed343d81",
   "metadata": {},
   "outputs": [
    {
     "data": {
      "text/html": [
       "<div>\n",
       "<style scoped>\n",
       "    .dataframe tbody tr th:only-of-type {\n",
       "        vertical-align: middle;\n",
       "    }\n",
       "\n",
       "    .dataframe tbody tr th {\n",
       "        vertical-align: top;\n",
       "    }\n",
       "\n",
       "    .dataframe thead th {\n",
       "        text-align: right;\n",
       "    }\n",
       "</style>\n",
       "<table border=\"1\" class=\"dataframe\">\n",
       "  <thead>\n",
       "    <tr style=\"text-align: right;\">\n",
       "      <th></th>\n",
       "      <th>Date first seen</th>\n",
       "      <th>Duration</th>\n",
       "      <th>Proto</th>\n",
       "      <th>Src IP Addr</th>\n",
       "      <th>Src Pt</th>\n",
       "      <th>Dst IP Addr</th>\n",
       "      <th>Dst Pt</th>\n",
       "      <th>Packets</th>\n",
       "      <th>Bytes</th>\n",
       "      <th>Flows</th>\n",
       "      <th>Flags</th>\n",
       "      <th>Tos</th>\n",
       "      <th>class</th>\n",
       "      <th>attackType</th>\n",
       "      <th>attackID</th>\n",
       "      <th>attackDescription</th>\n",
       "    </tr>\n",
       "  </thead>\n",
       "  <tbody>\n",
       "    <tr>\n",
       "      <th>0</th>\n",
       "      <td>2017-03-15 00:01:16.632</td>\n",
       "      <td>0.000</td>\n",
       "      <td>TCP</td>\n",
       "      <td>192.168.100.5</td>\n",
       "      <td>445</td>\n",
       "      <td>192.168.220.16</td>\n",
       "      <td>58844.0</td>\n",
       "      <td>1</td>\n",
       "      <td>108</td>\n",
       "      <td>1</td>\n",
       "      <td>.AP...</td>\n",
       "      <td>0</td>\n",
       "      <td>normal</td>\n",
       "      <td>---</td>\n",
       "      <td>---</td>\n",
       "      <td>---</td>\n",
       "    </tr>\n",
       "    <tr>\n",
       "      <th>1</th>\n",
       "      <td>2017-03-15 00:01:16.552</td>\n",
       "      <td>0.000</td>\n",
       "      <td>TCP</td>\n",
       "      <td>192.168.100.5</td>\n",
       "      <td>445</td>\n",
       "      <td>192.168.220.15</td>\n",
       "      <td>48888.0</td>\n",
       "      <td>1</td>\n",
       "      <td>108</td>\n",
       "      <td>1</td>\n",
       "      <td>.AP...</td>\n",
       "      <td>0</td>\n",
       "      <td>normal</td>\n",
       "      <td>---</td>\n",
       "      <td>---</td>\n",
       "      <td>---</td>\n",
       "    </tr>\n",
       "    <tr>\n",
       "      <th>2</th>\n",
       "      <td>2017-03-15 00:01:16.551</td>\n",
       "      <td>0.004</td>\n",
       "      <td>TCP</td>\n",
       "      <td>192.168.220.15</td>\n",
       "      <td>48888</td>\n",
       "      <td>192.168.100.5</td>\n",
       "      <td>445.0</td>\n",
       "      <td>2</td>\n",
       "      <td>174</td>\n",
       "      <td>1</td>\n",
       "      <td>.AP...</td>\n",
       "      <td>0</td>\n",
       "      <td>normal</td>\n",
       "      <td>---</td>\n",
       "      <td>---</td>\n",
       "      <td>---</td>\n",
       "    </tr>\n",
       "    <tr>\n",
       "      <th>3</th>\n",
       "      <td>2017-03-15 00:01:16.631</td>\n",
       "      <td>0.004</td>\n",
       "      <td>TCP</td>\n",
       "      <td>192.168.220.16</td>\n",
       "      <td>58844</td>\n",
       "      <td>192.168.100.5</td>\n",
       "      <td>445.0</td>\n",
       "      <td>2</td>\n",
       "      <td>174</td>\n",
       "      <td>1</td>\n",
       "      <td>.AP...</td>\n",
       "      <td>0</td>\n",
       "      <td>normal</td>\n",
       "      <td>---</td>\n",
       "      <td>---</td>\n",
       "      <td>---</td>\n",
       "    </tr>\n",
       "    <tr>\n",
       "      <th>4</th>\n",
       "      <td>2017-03-15 00:01:16.552</td>\n",
       "      <td>0.000</td>\n",
       "      <td>TCP</td>\n",
       "      <td>192.168.100.5</td>\n",
       "      <td>445</td>\n",
       "      <td>192.168.220.15</td>\n",
       "      <td>48888.0</td>\n",
       "      <td>1</td>\n",
       "      <td>108</td>\n",
       "      <td>1</td>\n",
       "      <td>.AP...</td>\n",
       "      <td>0</td>\n",
       "      <td>normal</td>\n",
       "      <td>---</td>\n",
       "      <td>---</td>\n",
       "      <td>---</td>\n",
       "    </tr>\n",
       "  </tbody>\n",
       "</table>\n",
       "</div>"
      ],
      "text/plain": [
       "           Date first seen  Duration  Proto     Src IP Addr  Src Pt  \\\n",
       "0  2017-03-15 00:01:16.632     0.000  TCP     192.168.100.5     445   \n",
       "1  2017-03-15 00:01:16.552     0.000  TCP     192.168.100.5     445   \n",
       "2  2017-03-15 00:01:16.551     0.004  TCP    192.168.220.15   48888   \n",
       "3  2017-03-15 00:01:16.631     0.004  TCP    192.168.220.16   58844   \n",
       "4  2017-03-15 00:01:16.552     0.000  TCP     192.168.100.5     445   \n",
       "\n",
       "      Dst IP Addr   Dst Pt  Packets     Bytes  Flows   Flags  Tos   class  \\\n",
       "0  192.168.220.16  58844.0        1       108      1  .AP...    0  normal   \n",
       "1  192.168.220.15  48888.0        1       108      1  .AP...    0  normal   \n",
       "2   192.168.100.5    445.0        2       174      1  .AP...    0  normal   \n",
       "3   192.168.100.5    445.0        2       174      1  .AP...    0  normal   \n",
       "4  192.168.220.15  48888.0        1       108      1  .AP...    0  normal   \n",
       "\n",
       "  attackType attackID attackDescription  \n",
       "0        ---      ---               ---  \n",
       "1        ---      ---               ---  \n",
       "2        ---      ---               ---  \n",
       "3        ---      ---               ---  \n",
       "4        ---      ---               ---  "
      ]
     },
     "execution_count": 101,
     "metadata": {},
     "output_type": "execute_result"
    }
   ],
   "source": [
    "CIDDS_int_1.head()"
   ]
  },
  {
   "cell_type": "code",
   "execution_count": 106,
   "id": "7ffd38eb",
   "metadata": {},
   "outputs": [
    {
     "name": "stdout",
     "output_type": "stream",
     "text": [
      "False\n",
      "False\n",
      "False\n",
      "False\n",
      "False\n",
      "False\n",
      "False\n",
      "False\n",
      "False\n",
      "False\n",
      "False\n",
      "False\n"
     ]
    }
   ],
   "source": [
    "for df in litnet_raw:\n",
    "    has_duplicates = df.duplicated().any()\n",
    "    print(has_duplicates)"
   ]
  },
  {
   "cell_type": "code",
   "execution_count": 107,
   "id": "65d5807e",
   "metadata": {},
   "outputs": [],
   "source": [
    "CIDDS_int_1_nodup = CIDDS_int_1[~CIDDS_int_1.duplicated()]"
   ]
  },
  {
   "cell_type": "code",
   "execution_count": 108,
   "id": "c42a2190",
   "metadata": {},
   "outputs": [],
   "source": [
    "CIDDS_int_2_nodup = CIDDS_int_2[~CIDDS_int_2.duplicated()]"
   ]
  },
  {
   "cell_type": "code",
   "execution_count": 109,
   "id": "1c35a29f",
   "metadata": {},
   "outputs": [],
   "source": [
    "CIDDS_int_3_nodup = CIDDS_int_3[~CIDDS_int_3.duplicated()]"
   ]
  },
  {
   "cell_type": "code",
   "execution_count": 110,
   "id": "0a792a5e",
   "metadata": {},
   "outputs": [],
   "source": [
    "CIDDS_int_4_nodup = CIDDS_int_4[~CIDDS_int_4.duplicated()]"
   ]
  },
  {
   "cell_type": "code",
   "execution_count": 112,
   "id": "d424e6c8",
   "metadata": {},
   "outputs": [],
   "source": [
    "def custom_summary_cidds(list_df):\n",
    "    for df in list_df:\n",
    "        counter_cidds(df)\n",
    "        print(\"----------------------------------------\")"
   ]
  },
  {
   "cell_type": "code",
   "execution_count": 113,
   "id": "deb912d8",
   "metadata": {},
   "outputs": [],
   "source": [
    "nodup_Cidds=[CIDDS_int_1_nodup,CIDDS_int_2_nodup,CIDDS_int_3_nodup,CIDDS_int_4_nodup]"
   ]
  },
  {
   "cell_type": "code",
   "execution_count": 114,
   "id": "3c63d7d9",
   "metadata": {},
   "outputs": [
    {
     "name": "stdout",
     "output_type": "stream",
     "text": [
      "CIDDS_int_1_nodup\n",
      "total:  8248753\n",
      "normal:  7010112\n",
      "attack:  1238641\n",
      "----------------------------------------\n",
      "CIDDS_int_2_nodup\n",
      "total:  10036995\n",
      "normal:  8514291\n",
      "attack:  1522704\n",
      "----------------------------------------\n",
      "CIDDS_int_3_nodup\n",
      "total:  6347711\n",
      "normal:  6347711\n",
      "attack:  0\n",
      "----------------------------------------\n",
      "CIDDS_int_4_nodup\n",
      "total:  6173941\n",
      "normal:  6173941\n",
      "attack:  0\n",
      "----------------------------------------\n"
     ]
    }
   ],
   "source": [
    "custom_summary_cidds(nodup_Cidds)"
   ]
  },
  {
   "cell_type": "code",
   "execution_count": 115,
   "id": "48eea285",
   "metadata": {},
   "outputs": [
    {
     "name": "stdout",
     "output_type": "stream",
     "text": [
      "False\n",
      "False\n",
      "False\n",
      "False\n"
     ]
    }
   ],
   "source": [
    "for df in nodup_Cidds:\n",
    "    has_duplicates = df.duplicated().any()\n",
    "    print(has_duplicates)"
   ]
  },
  {
   "cell_type": "code",
   "execution_count": 116,
   "id": "24951232",
   "metadata": {},
   "outputs": [
    {
     "name": "stdout",
     "output_type": "stream",
     "text": [
      "False\n",
      "False\n",
      "False\n",
      "False\n"
     ]
    }
   ],
   "source": [
    "for df in nodup_Cidds:\n",
    "    has_missing_values = df.isna().any().any()\n",
    "    print(has_missing_values)\n"
   ]
  },
  {
   "cell_type": "code",
   "execution_count": 117,
   "id": "f337f0c5",
   "metadata": {},
   "outputs": [
    {
     "name": "stdout",
     "output_type": "stream",
     "text": [
      "False\n",
      "False\n",
      "False\n",
      "False\n",
      "False\n",
      "False\n",
      "False\n",
      "False\n",
      "False\n",
      "False\n",
      "False\n",
      "False\n"
     ]
    }
   ],
   "source": [
    "for df in litnet_raw:\n",
    "    has_missing_values = df.isna().any().any()\n",
    "    print(has_missing_values)"
   ]
  },
  {
   "cell_type": "code",
   "execution_count": 118,
   "id": "b2f4b65c",
   "metadata": {},
   "outputs": [
    {
     "data": {
      "text/plain": [
       "array(['---', '1', '2', '3', '4', '5', '6', '7', '8', '9', '10', '11',\n",
       "       '12', '13', '14', '15', '16', '17', '18', '19', '20', '21', '22',\n",
       "       '23', '24', '25', '26', '27', '28', '29', '30', '31', '32', '33',\n",
       "       '34', '35', '36', '37', '38', '39', '40', '41', '42'], dtype=object)"
      ]
     },
     "execution_count": 118,
     "metadata": {},
     "output_type": "execute_result"
    }
   ],
   "source": [
    "CIDDS_int_1_nodup[\"attackID\"].unique()"
   ]
  },
  {
   "cell_type": "code",
   "execution_count": 119,
   "id": "a099dcd1",
   "metadata": {},
   "outputs": [
    {
     "data": {
      "text/plain": [
       "array(['---', '43', '44', '45', '46', '47', '48', '49', '50', '51', '52',\n",
       "       '53', '54', '55', '56', '57', '58', '59', '60', '61', '62', '63',\n",
       "       '64', '65', '66', '67', '68', '69', '70'], dtype=object)"
      ]
     },
     "execution_count": 119,
     "metadata": {},
     "output_type": "execute_result"
    }
   ],
   "source": [
    "CIDDS_int_2_nodup[\"attackID\"].unique()"
   ]
  },
  {
   "cell_type": "code",
   "execution_count": 120,
   "id": "e6d91e6b",
   "metadata": {},
   "outputs": [
    {
     "data": {
      "text/plain": [
       "array(['---'], dtype=object)"
      ]
     },
     "execution_count": 120,
     "metadata": {},
     "output_type": "execute_result"
    }
   ],
   "source": [
    "CIDDS_int_3_nodup[\"attackID\"].unique()"
   ]
  },
  {
   "cell_type": "code",
   "execution_count": 121,
   "id": "c8ce8d68",
   "metadata": {},
   "outputs": [
    {
     "data": {
      "text/plain": [
       "array(['---'], dtype=object)"
      ]
     },
     "execution_count": 121,
     "metadata": {},
     "output_type": "execute_result"
    }
   ],
   "source": [
    "CIDDS_int_4_nodup[\"attackID\"].unique()"
   ]
  },
  {
   "cell_type": "code",
   "execution_count": 122,
   "id": "16a4345e",
   "metadata": {},
   "outputs": [
    {
     "data": {
      "text/plain": [
       "---    8514291\n",
       "53      434248\n",
       "60      281691\n",
       "44      219962\n",
       "45      189049\n",
       "63      124582\n",
       "59       93370\n",
       "46       93304\n",
       "49       16232\n",
       "48       13412\n",
       "67       13379\n",
       "47       13302\n",
       "51       11762\n",
       "68        5631\n",
       "50        4589\n",
       "43        2126\n",
       "55         744\n",
       "61         697\n",
       "52         603\n",
       "62         571\n",
       "57         522\n",
       "58         509\n",
       "64         480\n",
       "56         427\n",
       "65         371\n",
       "66         359\n",
       "69         359\n",
       "70         240\n",
       "54         183\n",
       "Name: attackID, dtype: int64"
      ]
     },
     "execution_count": 122,
     "metadata": {},
     "output_type": "execute_result"
    }
   ],
   "source": [
    "CIDDS_int_2_nodup[\"attackID\"].value_counts()"
   ]
  },
  {
   "cell_type": "code",
   "execution_count": 128,
   "id": "56bb1789",
   "metadata": {},
   "outputs": [
    {
     "data": {
      "text/html": [
       "<div>\n",
       "<style scoped>\n",
       "    .dataframe tbody tr th:only-of-type {\n",
       "        vertical-align: middle;\n",
       "    }\n",
       "\n",
       "    .dataframe tbody tr th {\n",
       "        vertical-align: top;\n",
       "    }\n",
       "\n",
       "    .dataframe thead th {\n",
       "        text-align: right;\n",
       "    }\n",
       "</style>\n",
       "<table border=\"1\" class=\"dataframe\">\n",
       "  <thead>\n",
       "    <tr style=\"text-align: right;\">\n",
       "      <th></th>\n",
       "      <th>Date first seen</th>\n",
       "      <th>Duration</th>\n",
       "      <th>Proto</th>\n",
       "      <th>Src IP Addr</th>\n",
       "      <th>Src Pt</th>\n",
       "      <th>Dst IP Addr</th>\n",
       "      <th>Dst Pt</th>\n",
       "      <th>Packets</th>\n",
       "      <th>Bytes</th>\n",
       "      <th>Flows</th>\n",
       "      <th>Flags</th>\n",
       "      <th>Tos</th>\n",
       "      <th>class</th>\n",
       "      <th>attackType</th>\n",
       "      <th>attackID</th>\n",
       "      <th>attackDescription</th>\n",
       "    </tr>\n",
       "  </thead>\n",
       "  <tbody>\n",
       "    <tr>\n",
       "      <th>3434519</th>\n",
       "      <td>2017-03-23 14:12:22.664</td>\n",
       "      <td>0.0</td>\n",
       "      <td>ICMP</td>\n",
       "      <td>192.168.210.2</td>\n",
       "      <td>0</td>\n",
       "      <td>192.168.220.15</td>\n",
       "      <td>0.0</td>\n",
       "      <td>1</td>\n",
       "      <td>42</td>\n",
       "      <td>1</td>\n",
       "      <td>......</td>\n",
       "      <td>0</td>\n",
       "      <td>victim</td>\n",
       "      <td>portScan</td>\n",
       "      <td>49</td>\n",
       "      <td>nmap args: -sS -T 3</td>\n",
       "    </tr>\n",
       "    <tr>\n",
       "      <th>3434520</th>\n",
       "      <td>2017-03-23 14:12:22.668</td>\n",
       "      <td>0.0</td>\n",
       "      <td>ICMP</td>\n",
       "      <td>192.168.220.15</td>\n",
       "      <td>0</td>\n",
       "      <td>192.168.210.3</td>\n",
       "      <td>8.0</td>\n",
       "      <td>1</td>\n",
       "      <td>42</td>\n",
       "      <td>1</td>\n",
       "      <td>......</td>\n",
       "      <td>0</td>\n",
       "      <td>attacker</td>\n",
       "      <td>portScan</td>\n",
       "      <td>49</td>\n",
       "      <td>nmap args: -sS -T 3</td>\n",
       "    </tr>\n",
       "    <tr>\n",
       "      <th>3434521</th>\n",
       "      <td>2017-03-23 14:12:22.664</td>\n",
       "      <td>0.0</td>\n",
       "      <td>ICMP</td>\n",
       "      <td>192.168.220.15</td>\n",
       "      <td>0</td>\n",
       "      <td>192.168.210.2</td>\n",
       "      <td>8.0</td>\n",
       "      <td>1</td>\n",
       "      <td>42</td>\n",
       "      <td>1</td>\n",
       "      <td>......</td>\n",
       "      <td>0</td>\n",
       "      <td>attacker</td>\n",
       "      <td>portScan</td>\n",
       "      <td>49</td>\n",
       "      <td>nmap args: -sS -T 3</td>\n",
       "    </tr>\n",
       "    <tr>\n",
       "      <th>3434522</th>\n",
       "      <td>2017-03-23 14:12:22.672</td>\n",
       "      <td>0.0</td>\n",
       "      <td>ICMP</td>\n",
       "      <td>192.168.210.3</td>\n",
       "      <td>0</td>\n",
       "      <td>192.168.220.15</td>\n",
       "      <td>0.0</td>\n",
       "      <td>1</td>\n",
       "      <td>42</td>\n",
       "      <td>1</td>\n",
       "      <td>......</td>\n",
       "      <td>0</td>\n",
       "      <td>victim</td>\n",
       "      <td>portScan</td>\n",
       "      <td>49</td>\n",
       "      <td>nmap args: -sS -T 3</td>\n",
       "    </tr>\n",
       "    <tr>\n",
       "      <th>3434523</th>\n",
       "      <td>2017-03-23 14:12:22.663</td>\n",
       "      <td>0.0</td>\n",
       "      <td>ICMP</td>\n",
       "      <td>192.168.210.1</td>\n",
       "      <td>0</td>\n",
       "      <td>192.168.220.15</td>\n",
       "      <td>0.0</td>\n",
       "      <td>1</td>\n",
       "      <td>42</td>\n",
       "      <td>1</td>\n",
       "      <td>......</td>\n",
       "      <td>0</td>\n",
       "      <td>victim</td>\n",
       "      <td>portScan</td>\n",
       "      <td>49</td>\n",
       "      <td>nmap args: -sS -T 3</td>\n",
       "    </tr>\n",
       "    <tr>\n",
       "      <th>3434524</th>\n",
       "      <td>2017-03-23 14:12:22.664</td>\n",
       "      <td>0.0</td>\n",
       "      <td>ICMP</td>\n",
       "      <td>192.168.220.15</td>\n",
       "      <td>0</td>\n",
       "      <td>192.168.210.5</td>\n",
       "      <td>8.0</td>\n",
       "      <td>1</td>\n",
       "      <td>42</td>\n",
       "      <td>1</td>\n",
       "      <td>......</td>\n",
       "      <td>0</td>\n",
       "      <td>attacker</td>\n",
       "      <td>portScan</td>\n",
       "      <td>49</td>\n",
       "      <td>nmap args: -sS -T 3</td>\n",
       "    </tr>\n",
       "    <tr>\n",
       "      <th>3434525</th>\n",
       "      <td>2017-03-23 14:12:22.668</td>\n",
       "      <td>0.0</td>\n",
       "      <td>ICMP</td>\n",
       "      <td>192.168.210.5</td>\n",
       "      <td>0</td>\n",
       "      <td>192.168.220.15</td>\n",
       "      <td>0.0</td>\n",
       "      <td>1</td>\n",
       "      <td>42</td>\n",
       "      <td>1</td>\n",
       "      <td>......</td>\n",
       "      <td>0</td>\n",
       "      <td>victim</td>\n",
       "      <td>portScan</td>\n",
       "      <td>49</td>\n",
       "      <td>nmap args: -sS -T 3</td>\n",
       "    </tr>\n",
       "    <tr>\n",
       "      <th>3434526</th>\n",
       "      <td>2017-03-23 14:12:22.663</td>\n",
       "      <td>0.0</td>\n",
       "      <td>ICMP</td>\n",
       "      <td>192.168.220.15</td>\n",
       "      <td>0</td>\n",
       "      <td>192.168.210.1</td>\n",
       "      <td>8.0</td>\n",
       "      <td>1</td>\n",
       "      <td>42</td>\n",
       "      <td>1</td>\n",
       "      <td>......</td>\n",
       "      <td>0</td>\n",
       "      <td>attacker</td>\n",
       "      <td>portScan</td>\n",
       "      <td>49</td>\n",
       "      <td>nmap args: -sS -T 3</td>\n",
       "    </tr>\n",
       "    <tr>\n",
       "      <th>3434527</th>\n",
       "      <td>2017-03-23 14:12:24.018</td>\n",
       "      <td>0.0</td>\n",
       "      <td>TCP</td>\n",
       "      <td>192.168.220.15</td>\n",
       "      <td>36714</td>\n",
       "      <td>192.168.210.7</td>\n",
       "      <td>80.0</td>\n",
       "      <td>1</td>\n",
       "      <td>54</td>\n",
       "      <td>1</td>\n",
       "      <td>.A....</td>\n",
       "      <td>0</td>\n",
       "      <td>attacker</td>\n",
       "      <td>portScan</td>\n",
       "      <td>49</td>\n",
       "      <td>nmap args: -sS -T 3</td>\n",
       "    </tr>\n",
       "    <tr>\n",
       "      <th>3434528</th>\n",
       "      <td>2017-03-23 14:12:24.018</td>\n",
       "      <td>0.0</td>\n",
       "      <td>TCP</td>\n",
       "      <td>192.168.220.15</td>\n",
       "      <td>36714</td>\n",
       "      <td>192.168.210.8</td>\n",
       "      <td>443.0</td>\n",
       "      <td>1</td>\n",
       "      <td>58</td>\n",
       "      <td>1</td>\n",
       "      <td>....S.</td>\n",
       "      <td>0</td>\n",
       "      <td>attacker</td>\n",
       "      <td>portScan</td>\n",
       "      <td>49</td>\n",
       "      <td>nmap args: -sS -T 3</td>\n",
       "    </tr>\n",
       "  </tbody>\n",
       "</table>\n",
       "</div>"
      ],
      "text/plain": [
       "                 Date first seen  Duration  Proto     Src IP Addr  Src Pt  \\\n",
       "3434519  2017-03-23 14:12:22.664       0.0  ICMP    192.168.210.2       0   \n",
       "3434520  2017-03-23 14:12:22.668       0.0  ICMP   192.168.220.15       0   \n",
       "3434521  2017-03-23 14:12:22.664       0.0  ICMP   192.168.220.15       0   \n",
       "3434522  2017-03-23 14:12:22.672       0.0  ICMP    192.168.210.3       0   \n",
       "3434523  2017-03-23 14:12:22.663       0.0  ICMP    192.168.210.1       0   \n",
       "3434524  2017-03-23 14:12:22.664       0.0  ICMP   192.168.220.15       0   \n",
       "3434525  2017-03-23 14:12:22.668       0.0  ICMP    192.168.210.5       0   \n",
       "3434526  2017-03-23 14:12:22.663       0.0  ICMP   192.168.220.15       0   \n",
       "3434527  2017-03-23 14:12:24.018       0.0  TCP    192.168.220.15   36714   \n",
       "3434528  2017-03-23 14:12:24.018       0.0  TCP    192.168.220.15   36714   \n",
       "\n",
       "            Dst IP Addr  Dst Pt  Packets     Bytes  Flows   Flags  Tos  \\\n",
       "3434519  192.168.220.15     0.0        1        42      1  ......    0   \n",
       "3434520   192.168.210.3     8.0        1        42      1  ......    0   \n",
       "3434521   192.168.210.2     8.0        1        42      1  ......    0   \n",
       "3434522  192.168.220.15     0.0        1        42      1  ......    0   \n",
       "3434523  192.168.220.15     0.0        1        42      1  ......    0   \n",
       "3434524   192.168.210.5     8.0        1        42      1  ......    0   \n",
       "3434525  192.168.220.15     0.0        1        42      1  ......    0   \n",
       "3434526   192.168.210.1     8.0        1        42      1  ......    0   \n",
       "3434527   192.168.210.7    80.0        1        54      1  .A....    0   \n",
       "3434528   192.168.210.8   443.0        1        58      1  ....S.    0   \n",
       "\n",
       "            class attackType attackID    attackDescription  \n",
       "3434519    victim   portScan       49  nmap args: -sS -T 3  \n",
       "3434520  attacker   portScan       49  nmap args: -sS -T 3  \n",
       "3434521  attacker   portScan       49  nmap args: -sS -T 3  \n",
       "3434522    victim   portScan       49  nmap args: -sS -T 3  \n",
       "3434523    victim   portScan       49  nmap args: -sS -T 3  \n",
       "3434524  attacker   portScan       49  nmap args: -sS -T 3  \n",
       "3434525    victim   portScan       49  nmap args: -sS -T 3  \n",
       "3434526  attacker   portScan       49  nmap args: -sS -T 3  \n",
       "3434527  attacker   portScan       49  nmap args: -sS -T 3  \n",
       "3434528  attacker   portScan       49  nmap args: -sS -T 3  "
      ]
     },
     "execution_count": 128,
     "metadata": {},
     "output_type": "execute_result"
    }
   ],
   "source": [
    "filtered_rows = CIDDS_int_2_nodup[CIDDS_int_2_nodup['attackID'] == \"49\"]\n",
    "filtered_rows.head(10)"
   ]
  },
  {
   "cell_type": "code",
   "execution_count": 127,
   "id": "04166470",
   "metadata": {},
   "outputs": [
    {
     "data": {
      "text/plain": [
       "---           8514291\n",
       "dos           1436206\n",
       "portScan        80433\n",
       "bruteForce       3342\n",
       "pingScan         2723\n",
       "Name: attackType, dtype: int64"
      ]
     },
     "execution_count": 127,
     "metadata": {},
     "output_type": "execute_result"
    }
   ],
   "source": [
    "CIDDS_int_2_nodup[\"attackType\"].value_counts()"
   ]
  },
  {
   "cell_type": "code",
   "execution_count": 129,
   "id": "284f6ecc",
   "metadata": {},
   "outputs": [
    {
     "data": {
      "text/plain": [
       "array([  0,  32, 192,  16])"
      ]
     },
     "execution_count": 129,
     "metadata": {},
     "output_type": "execute_result"
    }
   ],
   "source": [
    "CIDDS_int_2_nodup[\"Tos\"].unique()"
   ]
  },
  {
   "cell_type": "code",
   "execution_count": 130,
   "id": "599afd80",
   "metadata": {},
   "outputs": [],
   "source": [
    "CIDDS_combo_nodup = pd.concat([CIDDS_int_1_nodup, CIDDS_int_2_nodup])\n",
    "unique_combinations = CIDDS_combo[['attackID', 'attackType']].drop_duplicates()"
   ]
  },
  {
   "cell_type": "code",
   "execution_count": 131,
   "id": "059f26bd",
   "metadata": {},
   "outputs": [
    {
     "data": {
      "text/html": [
       "<div>\n",
       "<style scoped>\n",
       "    .dataframe tbody tr th:only-of-type {\n",
       "        vertical-align: middle;\n",
       "    }\n",
       "\n",
       "    .dataframe tbody tr th {\n",
       "        vertical-align: top;\n",
       "    }\n",
       "\n",
       "    .dataframe thead th {\n",
       "        text-align: right;\n",
       "    }\n",
       "</style>\n",
       "<table border=\"1\" class=\"dataframe\">\n",
       "  <thead>\n",
       "    <tr style=\"text-align: right;\">\n",
       "      <th></th>\n",
       "      <th>attackID</th>\n",
       "      <th>attackType</th>\n",
       "    </tr>\n",
       "  </thead>\n",
       "  <tbody>\n",
       "    <tr>\n",
       "      <th>0</th>\n",
       "      <td>---</td>\n",
       "      <td>---</td>\n",
       "    </tr>\n",
       "    <tr>\n",
       "      <th>77</th>\n",
       "      <td>1</td>\n",
       "      <td>portScan</td>\n",
       "    </tr>\n",
       "    <tr>\n",
       "      <th>334144</th>\n",
       "      <td>2</td>\n",
       "      <td>portScan</td>\n",
       "    </tr>\n",
       "    <tr>\n",
       "      <th>727519</th>\n",
       "      <td>3</td>\n",
       "      <td>dos</td>\n",
       "    </tr>\n",
       "    <tr>\n",
       "      <th>855821</th>\n",
       "      <td>4</td>\n",
       "      <td>dos</td>\n",
       "    </tr>\n",
       "    <tr>\n",
       "      <th>...</th>\n",
       "      <td>...</td>\n",
       "      <td>...</td>\n",
       "    </tr>\n",
       "    <tr>\n",
       "      <th>7600419</th>\n",
       "      <td>66</td>\n",
       "      <td>pingScan</td>\n",
       "    </tr>\n",
       "    <tr>\n",
       "      <th>7621116</th>\n",
       "      <td>67</td>\n",
       "      <td>portScan</td>\n",
       "    </tr>\n",
       "    <tr>\n",
       "      <th>8918665</th>\n",
       "      <td>68</td>\n",
       "      <td>portScan</td>\n",
       "    </tr>\n",
       "    <tr>\n",
       "      <th>10279077</th>\n",
       "      <td>69</td>\n",
       "      <td>pingScan</td>\n",
       "    </tr>\n",
       "    <tr>\n",
       "      <th>10294284</th>\n",
       "      <td>70</td>\n",
       "      <td>bruteForce</td>\n",
       "    </tr>\n",
       "  </tbody>\n",
       "</table>\n",
       "<p>71 rows × 2 columns</p>\n",
       "</div>"
      ],
      "text/plain": [
       "         attackID  attackType\n",
       "0             ---         ---\n",
       "77              1    portScan\n",
       "334144          2    portScan\n",
       "727519          3         dos\n",
       "855821          4         dos\n",
       "...           ...         ...\n",
       "7600419        66    pingScan\n",
       "7621116        67    portScan\n",
       "8918665        68    portScan\n",
       "10279077       69    pingScan\n",
       "10294284       70  bruteForce\n",
       "\n",
       "[71 rows x 2 columns]"
      ]
     },
     "execution_count": 131,
     "metadata": {},
     "output_type": "execute_result"
    }
   ],
   "source": [
    "unique_combinations.head(138)"
   ]
  },
  {
   "cell_type": "code",
   "execution_count": 133,
   "id": "c348950b",
   "metadata": {},
   "outputs": [
    {
     "data": {
      "text/plain": [
       "portScan      24\n",
       "dos           18\n",
       "pingScan      16\n",
       "bruteForce    12\n",
       "---            1\n",
       "Name: attackType, dtype: int64"
      ]
     },
     "execution_count": 133,
     "metadata": {},
     "output_type": "execute_result"
    }
   ],
   "source": [
    "unique_combinations[\"attackType\"].value_counts()"
   ]
  },
  {
   "cell_type": "code",
   "execution_count": 20,
   "id": "b453dd1f",
   "metadata": {},
   "outputs": [
    {
     "name": "stdout",
     "output_type": "stream",
     "text": [
      "none         3095187\n",
      "tcp_w32_w      24291\n",
      "Name: class, dtype: int64\n",
      "none     1326970\n",
      "udp_0        477\n",
      "Name: class, dtype: int64\n",
      "none      4086158\n",
      "http_f      22959\n",
      "Name: class, dtype: int64\n",
      "none        4336095\n",
      "icmp_smf      59479\n",
      "icmp_f        11628\n",
      "Name: class, dtype: int64\n",
      "none            4671854\n",
      "udp_reaper_w       1176\n",
      "Name: class, dtype: int64\n",
      "none         4381608\n",
      "tcp_red_w    1255702\n",
      "Name: class, dtype: int64\n",
      "none     536541\n",
      "udp_f     93583\n",
      "Name: class, dtype: int64\n",
      "none        3980428\n",
      "tcp_land      52417\n",
      "Name: class, dtype: int64\n",
      "none        4336095\n",
      "icmp_smf      59479\n",
      "icmp_f        11628\n",
      "Name: class, dtype: int64\n",
      "tcp_udp_win_p    6232\n",
      "none              455\n",
      "Name: class, dtype: int64\n",
      "none      1239961\n",
      "smtp_b        747\n",
      "Name: class, dtype: int64\n",
      "none         4432508\n",
      "tcp_syn_f    1580016\n",
      "Name: class, dtype: int64\n"
     ]
    }
   ],
   "source": [
    "for df in litnet_raw:\n",
    "    print(df[\"class\"].value_counts())"
   ]
  },
  {
   "cell_type": "code",
   "execution_count": 27,
   "id": "83ec6f49",
   "metadata": {},
   "outputs": [
    {
     "name": "stdout",
     "output_type": "stream",
     "text": [
      "<class 'str'>\n"
     ]
    }
   ],
   "source": [
    "print(type(\"2017-03-23 14:12:22.664\"))"
   ]
  },
  {
   "cell_type": "code",
   "execution_count": 29,
   "id": "bef063fc",
   "metadata": {},
   "outputs": [
    {
     "name": "stdout",
     "output_type": "stream",
     "text": [
      "0         2017-03-15 00:01:16.632\n",
      "1         2017-03-15 00:01:16.552\n",
      "2         2017-03-15 00:01:16.551\n",
      "3         2017-03-15 00:01:16.631\n",
      "4         2017-03-15 00:01:16.552\n",
      "                    ...          \n",
      "8451515   2017-03-21 23:59:56.083\n",
      "8451516   2017-03-21 23:59:57.037\n",
      "8451517   2017-03-21 23:59:56.920\n",
      "8451518   2017-03-21 23:59:58.299\n",
      "8451519   2017-03-21 23:59:58.298\n",
      "Name: Date first seen, Length: 8451520, dtype: datetime64[ns]\n"
     ]
    }
   ],
   "source": [
    "CIDDS_int_1['Date first seen'] = pd.to_datetime(CIDDS_int_1['Date first seen'])\n",
    "\n",
    "\n"
   ]
  },
  {
   "cell_type": "code",
   "execution_count": 30,
   "id": "67f3d75a",
   "metadata": {},
   "outputs": [
    {
     "name": "stdout",
     "output_type": "stream",
     "text": [
      "Date first seen      datetime64[ns]\n",
      "Duration                    float64\n",
      "Proto                        object\n",
      "Src IP Addr                  object\n",
      "Src Pt                        int64\n",
      "Dst IP Addr                  object\n",
      "Dst Pt                      float64\n",
      "Packets                       int64\n",
      "Bytes                        object\n",
      "Flows                         int64\n",
      "Flags                        object\n",
      "Tos                           int64\n",
      "class                        object\n",
      "attackType                   object\n",
      "attackID                     object\n",
      "attackDescription            object\n",
      "dtype: object\n"
     ]
    }
   ],
   "source": [
    "print(CIDDS_int_1.dtypes)"
   ]
  },
  {
   "cell_type": "code",
   "execution_count": 61,
   "id": "2551bd44",
   "metadata": {},
   "outputs": [
    {
     "data": {
      "text/plain": [
       "normal      7010897\n",
       "attacker     746230\n",
       "victim       694393\n",
       "Name: class, dtype: int64"
      ]
     },
     "execution_count": 61,
     "metadata": {},
     "output_type": "execute_result"
    }
   ],
   "source": [
    "CIDDS_int_1[\"class\"].value_counts()"
   ]
  },
  {
   "cell_type": "code",
   "execution_count": 56,
   "id": "f6eaf46f",
   "metadata": {},
   "outputs": [
    {
     "name": "stdout",
     "output_type": "stream",
     "text": [
      "False\n",
      "False\n",
      "False\n",
      "False\n",
      "False\n",
      "False\n",
      "False\n",
      "False\n",
      "False\n",
      "False\n",
      "False\n",
      "False\n"
     ]
    }
   ],
   "source": [
    "for df in litnet_raw:\n",
    "    any_nulls = df.isna().any().any()\n",
    "    print(any_nulls)"
   ]
  },
  {
   "cell_type": "code",
   "execution_count": 60,
   "id": "c2d640e5",
   "metadata": {},
   "outputs": [
    {
     "ename": "AttributeError",
     "evalue": "'DataFrame' object has no attribute 'name'",
     "output_type": "error",
     "traceback": [
      "\u001b[0;31m---------------------------------------------------------------------------\u001b[0m",
      "\u001b[0;31mAttributeError\u001b[0m                            Traceback (most recent call last)",
      "Input \u001b[0;32mIn [60]\u001b[0m, in \u001b[0;36m<cell line: 1>\u001b[0;34m()\u001b[0m\n\u001b[0;32m----> 1\u001b[0m \u001b[38;5;28mtype\u001b[39m(\u001b[43mfragmentation\u001b[49m\u001b[38;5;241;43m.\u001b[39;49m\u001b[43mname\u001b[49m())\n",
      "File \u001b[0;32m~/opt/anaconda3/lib/python3.9/site-packages/pandas/core/generic.py:5575\u001b[0m, in \u001b[0;36mNDFrame.__getattr__\u001b[0;34m(self, name)\u001b[0m\n\u001b[1;32m   5568\u001b[0m \u001b[38;5;28;01mif\u001b[39;00m (\n\u001b[1;32m   5569\u001b[0m     name \u001b[38;5;129;01mnot\u001b[39;00m \u001b[38;5;129;01min\u001b[39;00m \u001b[38;5;28mself\u001b[39m\u001b[38;5;241m.\u001b[39m_internal_names_set\n\u001b[1;32m   5570\u001b[0m     \u001b[38;5;129;01mand\u001b[39;00m name \u001b[38;5;129;01mnot\u001b[39;00m \u001b[38;5;129;01min\u001b[39;00m \u001b[38;5;28mself\u001b[39m\u001b[38;5;241m.\u001b[39m_metadata\n\u001b[1;32m   5571\u001b[0m     \u001b[38;5;129;01mand\u001b[39;00m name \u001b[38;5;129;01mnot\u001b[39;00m \u001b[38;5;129;01min\u001b[39;00m \u001b[38;5;28mself\u001b[39m\u001b[38;5;241m.\u001b[39m_accessors\n\u001b[1;32m   5572\u001b[0m     \u001b[38;5;129;01mand\u001b[39;00m \u001b[38;5;28mself\u001b[39m\u001b[38;5;241m.\u001b[39m_info_axis\u001b[38;5;241m.\u001b[39m_can_hold_identifiers_and_holds_name(name)\n\u001b[1;32m   5573\u001b[0m ):\n\u001b[1;32m   5574\u001b[0m     \u001b[38;5;28;01mreturn\u001b[39;00m \u001b[38;5;28mself\u001b[39m[name]\n\u001b[0;32m-> 5575\u001b[0m \u001b[38;5;28;01mreturn\u001b[39;00m \u001b[38;5;28;43mobject\u001b[39;49m\u001b[38;5;241;43m.\u001b[39;49m\u001b[38;5;21;43m__getattribute__\u001b[39;49m\u001b[43m(\u001b[49m\u001b[38;5;28;43mself\u001b[39;49m\u001b[43m,\u001b[49m\u001b[43m \u001b[49m\u001b[43mname\u001b[49m\u001b[43m)\u001b[49m\n",
      "\u001b[0;31mAttributeError\u001b[0m: 'DataFrame' object has no attribute 'name'"
     ]
    }
   ],
   "source": [
    "type(fragmentation.name())"
   ]
  },
  {
   "cell_type": "code",
   "execution_count": null,
   "id": "e1a279af",
   "metadata": {},
   "outputs": [],
   "source": []
  }
 ],
 "metadata": {
  "kernelspec": {
   "display_name": "Python 3 (ipykernel)",
   "language": "python",
   "name": "python3"
  },
  "language_info": {
   "codemirror_mode": {
    "name": "ipython",
    "version": 3
   },
   "file_extension": ".py",
   "mimetype": "text/x-python",
   "name": "python",
   "nbconvert_exporter": "python",
   "pygments_lexer": "ipython3",
   "version": "3.9.12"
  }
 },
 "nbformat": 4,
 "nbformat_minor": 5
}
