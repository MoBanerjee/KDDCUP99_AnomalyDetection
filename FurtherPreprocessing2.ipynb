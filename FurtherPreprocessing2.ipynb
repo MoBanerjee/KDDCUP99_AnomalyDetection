{
 "cells": [
  {
   "cell_type": "code",
   "execution_count": 35,
   "id": "e10e298e",
   "metadata": {},
   "outputs": [],
   "source": [
    "import pandas as pd\n",
    "import ipaddress"
   ]
  },
  {
   "cell_type": "code",
   "execution_count": 36,
   "id": "4276bcbf",
   "metadata": {},
   "outputs": [],
   "source": [
    "cidI1 = pd.read_csv('./PreprocessedCSVs/ciddsint1Processed.csv')"
   ]
  },
  {
   "cell_type": "code",
   "execution_count": 37,
   "id": "fd3d5d51",
   "metadata": {},
   "outputs": [],
   "source": [
    "cidI2 = pd.read_csv('./PreprocessedCSVs/ciddsint2Processed.csv')"
   ]
  },
  {
   "cell_type": "code",
   "execution_count": 38,
   "id": "71146618",
   "metadata": {},
   "outputs": [],
   "source": [
    "cidI3 = pd.read_csv('./PreprocessedCSVs/ciddsint3Processed.csv')"
   ]
  },
  {
   "cell_type": "code",
   "execution_count": 39,
   "id": "718be601",
   "metadata": {},
   "outputs": [],
   "source": [
    "cidI4 = pd.read_csv('./PreprocessedCSVs/ciddsint4Processed.csv')"
   ]
  },
  {
   "cell_type": "code",
   "execution_count": 40,
   "id": "98e8a08c",
   "metadata": {},
   "outputs": [],
   "source": [
    "cidE1 = pd.read_csv('./PreprocessedCSVs/ciddslogext1Processed.csv')"
   ]
  },
  {
   "cell_type": "code",
   "execution_count": 41,
   "id": "c9ac6d77",
   "metadata": {},
   "outputs": [],
   "source": [
    "cidE2 = pd.read_csv('./PreprocessedCSVs/ciddslogext2Processed.csv')"
   ]
  },
  {
   "cell_type": "code",
   "execution_count": 42,
   "id": "4f014d4a",
   "metadata": {},
   "outputs": [],
   "source": [
    "cidE3 = pd.read_csv('./PreprocessedCSVs/ciddslogext3Processed.csv')"
   ]
  },
  {
   "cell_type": "code",
   "execution_count": 43,
   "id": "dcf9e30f",
   "metadata": {},
   "outputs": [],
   "source": [
    "cidE4 = pd.read_csv('./PreprocessedCSVs/ciddslogext4Processed.csv')"
   ]
  },
  {
   "cell_type": "code",
   "execution_count": 44,
   "id": "7e4b941f",
   "metadata": {},
   "outputs": [],
   "source": [
    "blasterWorm=pd.read_csv('./PreprocessedCSVs/blasterWormProcessed.csv')"
   ]
  },
  {
   "cell_type": "code",
   "execution_count": 45,
   "id": "4dcf528c",
   "metadata": {},
   "outputs": [],
   "source": [
    "fragmentation=pd.read_csv('./PreprocessedCSVs/fragmentationProcessed.csv')"
   ]
  },
  {
   "cell_type": "code",
   "execution_count": 46,
   "id": "040ea3ad",
   "metadata": {},
   "outputs": [],
   "source": [
    "httpFlood=pd.read_csv('./PreprocessedCSVs/httpFloodProcessed.csv')"
   ]
  },
  {
   "cell_type": "code",
   "execution_count": 47,
   "id": "88947749",
   "metadata": {},
   "outputs": [],
   "source": [
    "icmpFlood=pd.read_csv('./PreprocessedCSVs/icmpFloodProcessed.csv')"
   ]
  },
  {
   "cell_type": "code",
   "execution_count": 48,
   "id": "bce96e17",
   "metadata": {},
   "outputs": [],
   "source": [
    "reaperWorm=pd.read_csv('./PreprocessedCSVs/reaperWormProcessed.csv')"
   ]
  },
  {
   "cell_type": "code",
   "execution_count": 49,
   "id": "a947398e",
   "metadata": {},
   "outputs": [],
   "source": [
    "redWorm=pd.read_csv('./PreprocessedCSVs/redWormProcessed.csv')"
   ]
  },
  {
   "cell_type": "code",
   "execution_count": 50,
   "id": "4057c9f4",
   "metadata": {},
   "outputs": [],
   "source": [
    "landAttack=pd.read_csv('./PreprocessedCSVs/landAttackProcessed.csv')"
   ]
  },
  {
   "cell_type": "code",
   "execution_count": 51,
   "id": "d9fe8e27",
   "metadata": {},
   "outputs": [],
   "source": [
    "scanning=pd.read_csv('./PreprocessedCSVs/scanningProcessed.csv')"
   ]
  },
  {
   "cell_type": "code",
   "execution_count": 52,
   "id": "9dabee5a",
   "metadata": {},
   "outputs": [],
   "source": [
    "spam=pd.read_csv('./PreprocessedCSVs/spamProcessed.csv')"
   ]
  },
  {
   "cell_type": "code",
   "execution_count": 53,
   "id": "13e9d924",
   "metadata": {},
   "outputs": [],
   "source": [
    "smurf=pd.read_csv('./PreprocessedCSVs/smurfProcessed.csv')"
   ]
  },
  {
   "cell_type": "code",
   "execution_count": 54,
   "id": "fd8147b7",
   "metadata": {},
   "outputs": [],
   "source": [
    "synFlood=pd.read_csv('./PreprocessedCSVs/synFloodProcessed.csv')"
   ]
  },
  {
   "cell_type": "code",
   "execution_count": 55,
   "id": "7b5ee254",
   "metadata": {},
   "outputs": [],
   "source": [
    "udpFlood=pd.read_csv('./PreprocessedCSVs/udpFloodProcessed.csv')"
   ]
  },
  {
   "cell_type": "code",
   "execution_count": 56,
   "id": "e1968cd8",
   "metadata": {},
   "outputs": [],
   "source": [
    "dflist=[cidI1,cidI2,cidI3,cidI4,cidE1,cidE2,cidE3,cidE4,blasterWorm,fragmentation,httpFlood,icmpFlood,reaperWorm,redWorm,landAttack,scanning,spam,smurf,synFlood,udpFlood]\n",
    "total_dataset=pd.concat(dflist)"
   ]
  },
  {
   "cell_type": "code",
   "execution_count": 57,
   "id": "26ae0984",
   "metadata": {},
   "outputs": [],
   "source": [
    "def is_valid_ip(ip):\n",
    "    try:\n",
    "        ipaddress.ip_address(ip)\n",
    "        return True\n",
    "    except ValueError:\n",
    "        return False"
   ]
  },
  {
   "cell_type": "code",
   "execution_count": 58,
   "id": "47a95c8d",
   "metadata": {},
   "outputs": [],
   "source": [
    "total_dataset['is_valid_src'] = total_dataset['Src IP Addr'].apply(is_valid_ip)\n",
    "total_dataset['is_valid_dst'] = total_dataset['Dst IP Addr'].apply(is_valid_ip)"
   ]
  },
  {
   "cell_type": "code",
   "execution_count": 59,
   "id": "a5aebc32",
   "metadata": {},
   "outputs": [],
   "source": [
    "total_dataset= total_dataset[(total_dataset['is_valid_src'] == True) & (total_dataset['is_valid_dst'] == True)]"
   ]
  },
  {
   "cell_type": "code",
   "execution_count": 60,
   "id": "0dcf9006",
   "metadata": {},
   "outputs": [],
   "source": [
    "total_dataset=total_dataset.drop(columns=['is_valid_src','is_valid_dst'], axis=1)"
   ]
  },
  {
   "cell_type": "code",
   "execution_count": 61,
   "id": "cb7d0fcb",
   "metadata": {},
   "outputs": [],
   "source": [
    "def further_preprocessing(df):\n",
    "    df[\"Duration\"]= df['Duration'].round(3)\n",
    "    df['Proto'] = df['Proto'].str.replace(r\"\\s+\", \"\", regex=True)\n",
    "    df['class'] = df['class'].str.replace(r\"\\s+\", \"\", regex=True)\n",
    "    df['attackType'] = df['attackType'].str.replace(r\"\\s+\", \"\", regex=True)\n",
    "    df['Date first seen'] = pd.to_datetime(df['Date first seen'], format='%Y-%m-%d %H:%M:%S.%f')"
   ]
  },
  {
   "cell_type": "code",
   "execution_count": 62,
   "id": "2a4578c0",
   "metadata": {},
   "outputs": [],
   "source": [
    "further_preprocessing(total_dataset)"
   ]
  },
  {
   "cell_type": "code",
   "execution_count": 70,
   "id": "aaae0ffa",
   "metadata": {},
   "outputs": [],
   "source": [
    "total_dataset['is_valid_src'] = total_dataset['Src IP Addr'].apply(is_valid_ip)\n",
    "total_dataset['is_valid_dst'] = total_dataset['Dst IP Addr'].apply(is_valid_ip)"
   ]
  },
  {
   "cell_type": "code",
   "execution_count": 71,
   "id": "1ce51a72",
   "metadata": {},
   "outputs": [
    {
     "data": {
      "text/plain": [
       "array([ True])"
      ]
     },
     "execution_count": 71,
     "metadata": {},
     "output_type": "execute_result"
    }
   ],
   "source": [
    "total_dataset['is_valid_src'].unique()"
   ]
  },
  {
   "cell_type": "code",
   "execution_count": 72,
   "id": "ff218377",
   "metadata": {},
   "outputs": [
    {
     "data": {
      "text/plain": [
       "array([ True])"
      ]
     },
     "execution_count": 72,
     "metadata": {},
     "output_type": "execute_result"
    }
   ],
   "source": [
    "total_dataset['is_valid_dst'].unique()"
   ]
  },
  {
   "cell_type": "code",
   "execution_count": 73,
   "id": "e46da382",
   "metadata": {},
   "outputs": [],
   "source": [
    "total_dataset=total_dataset.drop(columns=['is_valid_src','is_valid_dst'], axis=1)"
   ]
  },
  {
   "cell_type": "code",
   "execution_count": 74,
   "id": "86c4ddd3",
   "metadata": {},
   "outputs": [],
   "source": [
    "def check_for_duplicates(df):\n",
    "    has_duplicates = df.duplicated().any()\n",
    "    print(has_duplicates)"
   ]
  },
  {
   "cell_type": "code",
   "execution_count": 75,
   "id": "8a702a56",
   "metadata": {},
   "outputs": [
    {
     "name": "stdout",
     "output_type": "stream",
     "text": [
      "True\n"
     ]
    }
   ],
   "source": [
    "check_for_duplicates(total_dataset)"
   ]
  },
  {
   "cell_type": "code",
   "execution_count": 76,
   "id": "bfc19476",
   "metadata": {},
   "outputs": [],
   "source": [
    "total_dataset=total_dataset[~total_dataset.duplicated()]"
   ]
  },
  {
   "cell_type": "code",
   "execution_count": 77,
   "id": "08fe799f",
   "metadata": {},
   "outputs": [
    {
     "name": "stdout",
     "output_type": "stream",
     "text": [
      "False\n"
     ]
    }
   ],
   "source": [
    "check_for_duplicates(total_dataset)"
   ]
  },
  {
   "cell_type": "code",
   "execution_count": 78,
   "id": "7de755b9",
   "metadata": {},
   "outputs": [],
   "source": [
    "def check_for_null(df):\n",
    "    any_nulls = df.isna().any().any()\n",
    "    print(any_nulls)"
   ]
  },
  {
   "cell_type": "code",
   "execution_count": 79,
   "id": "7cf2160c",
   "metadata": {},
   "outputs": [
    {
     "name": "stdout",
     "output_type": "stream",
     "text": [
      "False\n"
     ]
    }
   ],
   "source": [
    "check_for_null(total_dataset)"
   ]
  },
  {
   "cell_type": "code",
   "execution_count": 81,
   "id": "fb6c4448",
   "metadata": {},
   "outputs": [
    {
     "data": {
      "text/plain": [
       "(39643009, 17)"
      ]
     },
     "execution_count": 81,
     "metadata": {},
     "output_type": "execute_result"
    }
   ],
   "source": [
    "total_dataset.shape"
   ]
  },
  {
   "cell_type": "code",
   "execution_count": 82,
   "id": "dff16f7e",
   "metadata": {},
   "outputs": [],
   "source": [
    "total_dataset.to_csv('./FinalDatasets/TotalDataset.csv', index=False)"
   ]
  },
  {
   "cell_type": "code",
   "execution_count": null,
   "id": "d22ba50c",
   "metadata": {},
   "outputs": [],
   "source": []
  }
 ],
 "metadata": {
  "kernelspec": {
   "display_name": "Python 3 (ipykernel)",
   "language": "python",
   "name": "python3"
  },
  "language_info": {
   "codemirror_mode": {
    "name": "ipython",
    "version": 3
   },
   "file_extension": ".py",
   "mimetype": "text/x-python",
   "name": "python",
   "nbconvert_exporter": "python",
   "pygments_lexer": "ipython3",
   "version": "3.9.12"
  }
 },
 "nbformat": 4,
 "nbformat_minor": 5
}
