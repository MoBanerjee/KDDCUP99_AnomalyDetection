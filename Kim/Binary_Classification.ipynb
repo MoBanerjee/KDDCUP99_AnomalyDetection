{
 "cells": [
  {
   "cell_type": "code",
   "execution_count": 1,
   "metadata": {},
   "outputs": [],
   "source": [
    "import numpy as np \n",
    "import pandas as pd\n",
    "from tqdm import tqdm\n",
    "from sklearn.model_selection import StratifiedKFold\n",
    "from sklearn.model_selection import train_test_split\n",
    "from sklearn.preprocessing import LabelEncoder\n",
    "from xgboost import XGBClassifier\n",
    "from sklearn.linear_model import LogisticRegression\n",
    "from catboost import CatBoostClassifier\n",
    "from sklearn.metrics import accuracy_score\n",
    "from sklearn.metrics import roc_auc_score"
   ]
  },
  {
   "cell_type": "code",
   "execution_count": 2,
   "metadata": {},
   "outputs": [],
   "source": [
    "total_data = pd.read_csv(\"./FinalDatasets/TotalDataset_Engineered.csv\")"
   ]
  },
  {
   "cell_type": "code",
   "execution_count": 3,
   "metadata": {},
   "outputs": [],
   "source": [
    "for col in ['Proto', 'Src IP Addr', 'Dst IP Addr']:\n",
    "    total_data[col] = total_data[col].astype('category')"
   ]
  },
  {
   "cell_type": "code",
   "execution_count": 4,
   "metadata": {},
   "outputs": [
    {
     "name": "stdout",
     "output_type": "stream",
     "text": [
      "['Duration', 'Src Pt', 'Dst Pt', 'Packets', 'Bytes', 'U', 'A', 'P', 'R', 'S', 'F', 'year', 'month', 'days', 'hours', 'minutes', 'seconds']\n"
     ]
    }
   ],
   "source": [
    "features = list(total_data.columns)\n",
    "features.remove(\"Unnamed: 0\")\n",
    "features.remove(\"Date first seen\")\n",
    "features.remove(\"class\")\n",
    "features.remove(\"attackType\")\n",
    "\n",
    "# Dropping these columns for now\n",
    "features.remove('Proto')\n",
    "features.remove('Src IP Addr')\n",
    "features.remove('Dst IP Addr')\n",
    "\n",
    "print(features)\n",
    "\n",
    "target = \"class\" "
   ]
  },
  {
   "cell_type": "code",
   "execution_count": 5,
   "metadata": {},
   "outputs": [],
   "source": [
    "# Label Encoding our target variable column\n",
    "le = LabelEncoder()\n",
    "total_data[target] = le.fit_transform(total_data[target])"
   ]
  },
  {
   "cell_type": "code",
   "execution_count": 6,
   "metadata": {},
   "outputs": [
    {
     "name": "stdout",
     "output_type": "stream",
     "text": [
      "{'attacker': 0, 'normal': 1, 'victim': 2}\n"
     ]
    }
   ],
   "source": [
    "le_name_mapping = dict(zip(le.classes_, le.transform(le.classes_)))\n",
    "print(le_name_mapping)"
   ]
  },
  {
   "cell_type": "markdown",
   "metadata": {},
   "source": [
    "### I might want to merge 'attacker' and 'victim' class later to make it a simple binary case"
   ]
  },
  {
   "cell_type": "code",
   "execution_count": 7,
   "metadata": {},
   "outputs": [
    {
     "name": "stdout",
     "output_type": "stream",
     "text": [
      "<class 'pandas.core.frame.DataFrame'>\n",
      "RangeIndex: 39643009 entries, 0 to 39643008\n",
      "Data columns (total 24 columns):\n",
      " #   Column           Dtype   \n",
      "---  ------           -----   \n",
      " 0   Unnamed: 0       int64   \n",
      " 1   Date first seen  object  \n",
      " 2   Duration         float64 \n",
      " 3   Proto            category\n",
      " 4   Src IP Addr      category\n",
      " 5   Src Pt           int64   \n",
      " 6   Dst IP Addr      category\n",
      " 7   Dst Pt           float64 \n",
      " 8   Packets          int64   \n",
      " 9   Bytes            int64   \n",
      " 10  U                int64   \n",
      " 11  A                int64   \n",
      " 12  P                int64   \n",
      " 13  R                int64   \n",
      " 14  S                int64   \n",
      " 15  F                int64   \n",
      " 16  class            int64   \n",
      " 17  attackType       object  \n",
      " 18  year             int64   \n",
      " 19  month            int64   \n",
      " 20  days             int64   \n",
      " 21  hours            int64   \n",
      " 22  minutes          int64   \n",
      " 23  seconds          float64 \n",
      "dtypes: category(3), float64(3), int64(16), object(2)\n",
      "memory usage: 6.7+ GB\n"
     ]
    }
   ],
   "source": [
    "total_data.info()"
   ]
  },
  {
   "cell_type": "markdown",
   "metadata": {},
   "source": [
    "# Model"
   ]
  },
  {
   "cell_type": "code",
   "execution_count": 8,
   "metadata": {},
   "outputs": [],
   "source": [
    "xgb = XGBClassifier(objective='multi:softprob',\n",
    "                   enable_categorical=True)\n",
    "\n",
    "cat = CatBoostClassifier(loss_function='MultiClass', # MultiClass, MultiClassOneVsAll\n",
    "                         eval_metric =  'Accuracy', # AUC\n",
    "                         verbose=10,\n",
    "                         depth = 5,\n",
    "                         early_stopping_rounds=10,\n",
    "                         # cat_features=[1, 2, 4]\n",
    "                        )\n",
    "\n",
    "lr = LogisticRegression()"
   ]
  },
  {
   "cell_type": "markdown",
   "metadata": {},
   "source": [
    "# Training and Testing (3 classes)"
   ]
  },
  {
   "cell_type": "code",
   "execution_count": 10,
   "metadata": {},
   "outputs": [
    {
     "name": "stdout",
     "output_type": "stream",
     "text": [
      "Fold - 1\n",
      "----------------------\n",
      "Training\n",
      "----------------------\n",
      "Learning rate set to 0.132847\n",
      "0:\tlearn: 0.9413106\ttest: 0.7917912\tbest: 0.7917912 (0)\ttotal: 5.53s\tremaining: 1h 32m 7s\n",
      "10:\tlearn: 0.9804483\ttest: 0.7823097\tbest: 0.7917912 (0)\ttotal: 43.9s\tremaining: 1h 5m 47s\n",
      "Stopped by overfitting detector  (10 iterations wait)\n",
      "\n",
      "bestTest = 0.7917911632\n",
      "bestIteration = 0\n",
      "\n",
      "Shrink model to first 1 iterations.\n",
      "Fold - 1 Accuracy: 79.18%\n",
      "----------------------\n",
      "Fold - 2\n",
      "----------------------\n",
      "Training\n",
      "----------------------\n",
      "Learning rate set to 0.132847\n",
      "0:\tlearn: 0.9468745\ttest: 0.9390557\tbest: 0.9390557 (0)\ttotal: 5.09s\tremaining: 1h 24m 43s\n",
      "10:\tlearn: 0.9753420\ttest: 0.9831597\tbest: 0.9831712 (5)\ttotal: 47.7s\tremaining: 1h 11m 25s\n",
      "20:\tlearn: 0.9844000\ttest: 0.9839571\tbest: 0.9839571 (20)\ttotal: 1m 28s\tremaining: 1h 8m 26s\n",
      "30:\tlearn: 0.9846177\ttest: 0.9841425\tbest: 0.9841425 (30)\ttotal: 2m 10s\tremaining: 1h 7m 47s\n",
      "40:\tlearn: 0.9873536\ttest: 0.9842904\tbest: 0.9843304 (36)\ttotal: 2m 51s\tremaining: 1h 6m 50s\n",
      "50:\tlearn: 0.9894003\ttest: 0.9855763\tbest: 0.9881096 (49)\ttotal: 3m 34s\tremaining: 1h 6m 31s\n",
      "Stopped by overfitting detector  (10 iterations wait)\n",
      "\n",
      "bestTest = 0.9881096314\n",
      "bestIteration = 49\n",
      "\n",
      "Shrink model to first 50 iterations.\n",
      "Fold - 2 Accuracy: 98.81%\n",
      "----------------------\n",
      "Fold - 3\n",
      "----------------------\n",
      "Training\n",
      "----------------------\n",
      "Learning rate set to 0.132847\n",
      "0:\tlearn: 0.9604872\ttest: 0.8429119\tbest: 0.8429119 (0)\ttotal: 6.91s\tremaining: 1h 55m\n",
      "10:\tlearn: 0.9613850\ttest: 0.8822948\tbest: 0.8859964 (1)\ttotal: 46.9s\tremaining: 1h 10m 16s\n",
      "Stopped by overfitting detector  (10 iterations wait)\n",
      "\n",
      "bestTest = 0.8859964216\n",
      "bestIteration = 1\n",
      "\n",
      "Shrink model to first 2 iterations.\n",
      "Fold - 3 Accuracy: 88.60%\n",
      "----------------------\n",
      "Fold - 4\n",
      "----------------------\n",
      "Training\n",
      "----------------------\n",
      "Learning rate set to 0.132847\n",
      "0:\tlearn: 0.9559803\ttest: 0.7975473\tbest: 0.7975473 (0)\ttotal: 4.99s\tremaining: 1h 23m 7s\n",
      "10:\tlearn: 0.9635582\ttest: 0.8853938\tbest: 0.8853938 (1)\ttotal: 43.6s\tremaining: 1h 5m 22s\n",
      "Stopped by overfitting detector  (10 iterations wait)\n",
      "\n",
      "bestTest = 0.8853937933\n",
      "bestIteration = 1\n",
      "\n",
      "Shrink model to first 2 iterations.\n",
      "Fold - 4 Accuracy: 88.54%\n",
      "----------------------\n",
      "Fold - 5\n",
      "----------------------\n",
      "Training\n",
      "----------------------\n",
      "Learning rate set to 0.132847\n",
      "0:\tlearn: 0.9791503\ttest: 0.2744169\tbest: 0.2744169 (0)\ttotal: 4.93s\tremaining: 1h 22m 9s\n",
      "10:\tlearn: 0.9878572\ttest: 0.3591024\tbest: 0.3591024 (9)\ttotal: 41.1s\tremaining: 1h 1m 35s\n",
      "20:\tlearn: 0.9905448\ttest: 0.4953793\tbest: 0.4954481 (15)\ttotal: 1m 18s\tremaining: 1h 1m 11s\n",
      "Stopped by overfitting detector  (10 iterations wait)\n",
      "\n",
      "bestTest = 0.495448062\n",
      "bestIteration = 15\n",
      "\n",
      "Shrink model to first 16 iterations.\n",
      "Fold - 5 Accuracy: 49.54%\n",
      "----------------------\n",
      "Average accuracy: 80.93%\n"
     ]
    }
   ],
   "source": [
    "X, y = total_data[features], total_data[target]\n",
    "models = []\n",
    "acc = []\n",
    "\n",
    "X_train, X_test, y_train, y_test = train_test_split(X, y, test_size=0.20, random_state=42)\n",
    "\n",
    "skf = StratifiedKFold(n_splits=5)\n",
    "skf.get_n_splits(X_train, y_train)\n",
    "\n",
    "for i, (train_index, test_index) in enumerate(skf.split(X, y)):\n",
    "    print(f\"Fold - {i+1}\")\n",
    "    print(\"----------------------\")\n",
    "    X_train, X_valid = X.iloc[train_index], X.iloc[test_index]\n",
    "    y_train, y_valid = y.iloc[train_index], y.iloc[test_index]\n",
    "\n",
    "    model = CatBoostClassifier(loss_function='MultiClass', # MultiClass, MultiClassOneVsAll\n",
    "                         eval_metric =  'Accuracy', # AUC\n",
    "                         verbose=10,\n",
    "                         depth = 5,\n",
    "                         early_stopping_rounds=20,\n",
    "                         # cat_features=[1, 2, 4]\n",
    "                        )\n",
    "    \n",
    "    eval_set = [(X_valid, y_valid)]\n",
    "    # Training \n",
    "    print(\"Training\")\n",
    "    print(\"----------------------\")\n",
    "    model.fit(X_train, y_train, eval_set=(X_valid, y_valid))\n",
    "    # model.fit(X_train, y_train, early_stopping_rounds=10, eval_metric=\"merror\", eval_set=eval_set, verbose=10)\n",
    "    models.append(model)\n",
    "\n",
    "    # Predict\n",
    "    pred = model.predict(X_valid)\n",
    "    accuracy = accuracy_score(y_valid, pred)\n",
    "    acc.append(accuracy)\n",
    "\n",
    "    print(\"Fold - {} Accuracy: {:.2f}%\".format(i+1, accuracy*100))\n",
    "    print(\"----------------------\")\n",
    "\n",
    "print(\"Average accuracy: {:.2f}%\".format(np.mean(acc)*100))"
   ]
  },
  {
   "cell_type": "code",
   "execution_count": 12,
   "metadata": {},
   "outputs": [
    {
     "name": "stdout",
     "output_type": "stream",
     "text": [
      "The average accuracy is: 93.70% on the testing dataset\n"
     ]
    }
   ],
   "source": [
    "# Testing \n",
    "\n",
    "acc = []\n",
    "    \n",
    "for model in models:\n",
    "    pred_new = model.predict(X_test)\n",
    "    accuracy_new = accuracy_score(y_test, pred_new)\n",
    "    acc.append(accuracy_new)\n",
    "\n",
    "print(\"The average accuracy is: {:.2f}% on the testing dataset\".format(np.mean(acc)*100) )"
   ]
  },
  {
   "cell_type": "markdown",
   "metadata": {},
   "source": [
    "# Training and Testing (2 classes)"
   ]
  },
  {
   "cell_type": "code",
   "execution_count": 9,
   "metadata": {},
   "outputs": [
    {
     "name": "stderr",
     "output_type": "stream",
     "text": [
      "100%|████████████████████████████| 39643009/39643009 [19:30<00:00, 33867.52it/s]\n"
     ]
    }
   ],
   "source": [
    "# 1 - normal & 0 - attack\n",
    "\n",
    "for i in tqdm(range(len(total_data))):\n",
    "    if (total_data.iloc[i]['class']) != 1:\n",
    "        total_data.at[i, 'class'] = 0"
   ]
  },
  {
   "cell_type": "code",
   "execution_count": 10,
   "metadata": {},
   "outputs": [
    {
     "data": {
      "text/plain": [
       "class\n",
       "1    33703458\n",
       "0     5939551\n",
       "Name: count, dtype: int64"
      ]
     },
     "execution_count": 10,
     "metadata": {},
     "output_type": "execute_result"
    }
   ],
   "source": [
    "total_data[target].value_counts()"
   ]
  },
  {
   "cell_type": "code",
   "execution_count": 12,
   "metadata": {},
   "outputs": [
    {
     "name": "stdout",
     "output_type": "stream",
     "text": [
      "Fold - 1\n",
      "----------------------\n",
      "Training\n",
      "----------------------\n",
      "Learning rate set to 0.132256\n",
      "0:\tlearn: 0.9496127\ttest: 0.9495496\tbest: 0.9495496 (0)\ttotal: 2.57s\tremaining: 42m 44s\n",
      "10:\tlearn: 0.9771610\ttest: 0.9772540\tbest: 0.9772540 (10)\ttotal: 27.7s\tremaining: 41m 26s\n",
      "20:\tlearn: 0.9825737\ttest: 0.9826275\tbest: 0.9826275 (20)\ttotal: 52.7s\tremaining: 40m 58s\n",
      "30:\tlearn: 0.9863377\ttest: 0.9864057\tbest: 0.9864057 (30)\ttotal: 1m 15s\tremaining: 39m 14s\n",
      "40:\tlearn: 0.9893809\ttest: 0.9894229\tbest: 0.9895946 (39)\ttotal: 1m 37s\tremaining: 38m 8s\n",
      "50:\tlearn: 0.9900350\ttest: 0.9900698\tbest: 0.9900698 (50)\ttotal: 2m\tremaining: 37m 18s\n",
      "60:\tlearn: 0.9901103\ttest: 0.9901438\tbest: 0.9901866 (57)\ttotal: 2m 21s\tremaining: 36m 18s\n",
      "70:\tlearn: 0.9907915\ttest: 0.9908119\tbest: 0.9908143 (65)\ttotal: 2m 42s\tremaining: 35m 21s\n",
      "80:\tlearn: 0.9909643\ttest: 0.9909845\tbest: 0.9909964 (76)\ttotal: 3m 3s\tremaining: 34m 43s\n",
      "90:\tlearn: 0.9915754\ttest: 0.9916067\tbest: 0.9917206 (87)\ttotal: 3m 25s\tremaining: 34m 17s\n",
      "100:\tlearn: 0.9920184\ttest: 0.9920568\tbest: 0.9920568 (100)\ttotal: 3m 45s\tremaining: 33m 28s\n",
      "110:\tlearn: 0.9926990\ttest: 0.9926978\tbest: 0.9926978 (110)\ttotal: 4m 5s\tremaining: 32m 43s\n",
      "120:\tlearn: 0.9929724\ttest: 0.9929746\tbest: 0.9929746 (120)\ttotal: 4m 24s\tremaining: 32m 4s\n",
      "130:\tlearn: 0.9931080\ttest: 0.9931109\tbest: 0.9931268 (128)\ttotal: 4m 46s\tremaining: 31m 38s\n",
      "140:\tlearn: 0.9932462\ttest: 0.9932550\tbest: 0.9932550 (140)\ttotal: 5m 6s\tremaining: 31m 4s\n",
      "150:\tlearn: 0.9933214\ttest: 0.9933319\tbest: 0.9933398 (141)\ttotal: 5m 27s\tremaining: 30m 39s\n",
      "Stopped by overfitting detector  (10 iterations wait)\n",
      "\n",
      "bestTest = 0.9933397784\n",
      "bestIteration = 141\n",
      "\n",
      "Shrink model to first 142 iterations.\n",
      "Fold - 1 Accuracy: 99.33%\n",
      "----------------------\n",
      "Fold - 2\n",
      "----------------------\n",
      "Training\n",
      "----------------------\n",
      "Learning rate set to 0.132256\n",
      "0:\tlearn: 0.9492329\ttest: 0.9492735\tbest: 0.9492735 (0)\ttotal: 2.82s\tremaining: 46m 53s\n",
      "10:\tlearn: 0.9769199\ttest: 0.9770062\tbest: 0.9770062 (10)\ttotal: 29.7s\tremaining: 44m 27s\n",
      "20:\tlearn: 0.9823172\ttest: 0.9824091\tbest: 0.9824241 (13)\ttotal: 55s\tremaining: 42m 44s\n",
      "Stopped by overfitting detector  (10 iterations wait)\n",
      "\n",
      "bestTest = 0.9824240779\n",
      "bestIteration = 13\n",
      "\n",
      "Shrink model to first 14 iterations.\n",
      "Fold - 2 Accuracy: 98.24%\n",
      "----------------------\n",
      "Fold - 3\n",
      "----------------------\n",
      "Training\n",
      "----------------------\n",
      "Learning rate set to 0.132256\n",
      "0:\tlearn: 0.9496197\ttest: 0.9495212\tbest: 0.9495212 (0)\ttotal: 2.97s\tremaining: 49m 30s\n",
      "10:\tlearn: 0.9771945\ttest: 0.9771473\tbest: 0.9771473 (10)\ttotal: 29.7s\tremaining: 44m 27s\n",
      "20:\tlearn: 0.9826558\ttest: 0.9826577\tbest: 0.9845967 (18)\ttotal: 55s\tremaining: 42m 43s\n",
      "30:\tlearn: 0.9869433\ttest: 0.9869170\tbest: 0.9869178 (29)\ttotal: 1m 18s\tremaining: 40m 40s\n",
      "40:\tlearn: 0.9895938\ttest: 0.9895774\tbest: 0.9895844 (39)\ttotal: 1m 39s\tremaining: 38m 45s\n",
      "50:\tlearn: 0.9900823\ttest: 0.9900468\tbest: 0.9900468 (50)\ttotal: 2m\tremaining: 37m 20s\n",
      "60:\tlearn: 0.9908704\ttest: 0.9908477\tbest: 0.9908578 (58)\ttotal: 2m 22s\tremaining: 36m 30s\n",
      "Stopped by overfitting detector  (10 iterations wait)\n",
      "\n",
      "bestTest = 0.9908577821\n",
      "bestIteration = 58\n",
      "\n",
      "Shrink model to first 59 iterations.\n",
      "Fold - 3 Accuracy: 99.09%\n",
      "----------------------\n",
      "Fold - 4\n",
      "----------------------\n",
      "Training\n",
      "----------------------\n",
      "Learning rate set to 0.132256\n",
      "0:\tlearn: 0.9492131\ttest: 0.9493524\tbest: 0.9493524 (0)\ttotal: 2.8s\tremaining: 46m 36s\n",
      "10:\tlearn: 0.9771964\ttest: 0.9771381\tbest: 0.9771381 (10)\ttotal: 30.1s\tremaining: 45m 3s\n",
      "20:\tlearn: 0.9842733\ttest: 0.9842409\tbest: 0.9842409 (20)\ttotal: 54.9s\tremaining: 42m 39s\n",
      "30:\tlearn: 0.9862665\ttest: 0.9862384\tbest: 0.9862384 (30)\ttotal: 1m 16s\tremaining: 39m 53s\n",
      "40:\tlearn: 0.9875998\ttest: 0.9875867\tbest: 0.9875932 (39)\ttotal: 1m 38s\tremaining: 38m 15s\n",
      "50:\tlearn: 0.9899308\ttest: 0.9899226\tbest: 0.9899509 (47)\ttotal: 1m 59s\tremaining: 37m 7s\n",
      "60:\tlearn: 0.9907356\ttest: 0.9907148\tbest: 0.9907148 (60)\ttotal: 2m 23s\tremaining: 36m 48s\n",
      "70:\tlearn: 0.9908763\ttest: 0.9908475\tbest: 0.9908475 (70)\ttotal: 2m 45s\tremaining: 36m\n",
      "80:\tlearn: 0.9910101\ttest: 0.9909656\tbest: 0.9909740 (78)\ttotal: 3m 5s\tremaining: 35m 4s\n",
      "90:\tlearn: 0.9913407\ttest: 0.9913101\tbest: 0.9917571 (86)\ttotal: 3m 27s\tremaining: 34m 35s\n",
      "100:\tlearn: 0.9921707\ttest: 0.9921288\tbest: 0.9921288 (100)\ttotal: 3m 47s\tremaining: 33m 43s\n",
      "110:\tlearn: 0.9927737\ttest: 0.9927657\tbest: 0.9928025 (107)\ttotal: 4m 7s\tremaining: 33m\n",
      "120:\tlearn: 0.9927940\ttest: 0.9927910\tbest: 0.9928097 (116)\ttotal: 4m 26s\tremaining: 32m 14s\n",
      "Stopped by overfitting detector  (10 iterations wait)\n",
      "\n",
      "bestTest = 0.9928097343\n",
      "bestIteration = 116\n",
      "\n",
      "Shrink model to first 117 iterations.\n",
      "Fold - 4 Accuracy: 99.28%\n",
      "----------------------\n",
      "Fold - 5\n",
      "----------------------\n",
      "Training\n",
      "----------------------\n",
      "Learning rate set to 0.132256\n",
      "0:\tlearn: 0.9492419\ttest: 0.9492374\tbest: 0.9492374 (0)\ttotal: 2.86s\tremaining: 47m 42s\n",
      "10:\tlearn: 0.9771976\ttest: 0.9771347\tbest: 0.9771347 (10)\ttotal: 30.2s\tremaining: 45m 18s\n",
      "20:\tlearn: 0.9825542\ttest: 0.9824677\tbest: 0.9842695 (19)\ttotal: 54.7s\tremaining: 42m 29s\n",
      "30:\tlearn: 0.9863087\ttest: 0.9862033\tbest: 0.9862033 (30)\ttotal: 1m 16s\tremaining: 39m 45s\n",
      "40:\tlearn: 0.9891901\ttest: 0.9891534\tbest: 0.9891534 (40)\ttotal: 1m 36s\tremaining: 37m 40s\n",
      "50:\tlearn: 0.9897170\ttest: 0.9897050\tbest: 0.9897064 (46)\ttotal: 1m 55s\tremaining: 35m 54s\n",
      "60:\tlearn: 0.9906091\ttest: 0.9905988\tbest: 0.9906076 (59)\ttotal: 2m 16s\tremaining: 34m 56s\n",
      "70:\tlearn: 0.9908113\ttest: 0.9908092\tbest: 0.9908092 (70)\ttotal: 2m 38s\tremaining: 34m 36s\n",
      "80:\tlearn: 0.9909860\ttest: 0.9909841\tbest: 0.9910063 (78)\ttotal: 2m 57s\tremaining: 33m 29s\n",
      "90:\tlearn: 0.9919299\ttest: 0.9919343\tbest: 0.9919866 (89)\ttotal: 3m 17s\tremaining: 32m 49s\n",
      "100:\tlearn: 0.9919760\ttest: 0.9919894\tbest: 0.9920065 (98)\ttotal: 3m 37s\tremaining: 32m 13s\n",
      "110:\tlearn: 0.9920432\ttest: 0.9920550\tbest: 0.9920550 (110)\ttotal: 3m 56s\tremaining: 31m 32s\n",
      "120:\tlearn: 0.9920842\ttest: 0.9920944\tbest: 0.9920951 (119)\ttotal: 4m 16s\tremaining: 31m 1s\n",
      "130:\tlearn: 0.9924347\ttest: 0.9924378\tbest: 0.9924645 (126)\ttotal: 4m 35s\tremaining: 30m 29s\n",
      "140:\tlearn: 0.9926936\ttest: 0.9927173\tbest: 0.9927173 (140)\ttotal: 4m 55s\tremaining: 30m 1s\n",
      "150:\tlearn: 0.9932711\ttest: 0.9932978\tbest: 0.9933305 (148)\ttotal: 5m 15s\tremaining: 29m 31s\n",
      "160:\tlearn: 0.9933751\ttest: 0.9934147\tbest: 0.9934333 (158)\ttotal: 5m 35s\tremaining: 29m 6s\n",
      "170:\tlearn: 0.9934675\ttest: 0.9935187\tbest: 0.9935187 (170)\ttotal: 5m 54s\tremaining: 28m 38s\n",
      "180:\tlearn: 0.9936072\ttest: 0.9936634\tbest: 0.9936634 (180)\ttotal: 6m 14s\tremaining: 28m 16s\n",
      "190:\tlearn: 0.9937541\ttest: 0.9938112\tbest: 0.9938522 (188)\ttotal: 6m 34s\tremaining: 27m 49s\n",
      "Stopped by overfitting detector  (10 iterations wait)\n",
      "\n",
      "bestTest = 0.9938521628\n",
      "bestIteration = 188\n",
      "\n",
      "Shrink model to first 189 iterations.\n",
      "Fold - 5 Accuracy: 99.39%\n",
      "----------------------\n",
      "Average accuracy: 99.07%\n"
     ]
    }
   ],
   "source": [
    "X, y = total_data[features], total_data[target]\n",
    "models = []\n",
    "acc = []\n",
    "\n",
    "X_train, X_test, y_train, y_test = train_test_split(X, y, test_size=0.20, random_state=42)\n",
    "\n",
    "skf = StratifiedKFold(n_splits=5)\n",
    "skf.get_n_splits(X_train, y_train)\n",
    "\n",
    "X, y = X_train, y_train\n",
    "\n",
    "for i, (train_index, test_index) in enumerate(skf.split(X, y)):\n",
    "    print(f\"Fold - {i+1}\")\n",
    "    print(\"----------------------\")\n",
    "    X_train, X_valid = X.iloc[train_index], X.iloc[test_index]\n",
    "    y_train, y_valid = y.iloc[train_index], y.iloc[test_index]\n",
    "\n",
    "    model = CatBoostClassifier(loss_function='MultiClass', # MultiClass, MultiClassOneVsAll\n",
    "                         eval_metric =  'Accuracy', # AUC\n",
    "                         verbose=10,\n",
    "                         depth = 5,\n",
    "                         early_stopping_rounds=10,\n",
    "                         # cat_features=[1, 2, 4]\n",
    "                        )\n",
    "    \n",
    "    eval_set = [(X_valid, y_valid)]\n",
    "    # Training \n",
    "    print(\"Training\")\n",
    "    print(\"----------------------\")\n",
    "    model.fit(X_train, y_train, eval_set=(X_valid, y_valid))\n",
    "    # model.fit(X_train, y_train, early_stopping_rounds=10, eval_metric=\"merror\", eval_set=eval_set, verbose=10)\n",
    "    models.append(model)\n",
    "\n",
    "    # Predict\n",
    "    pred = model.predict(X_valid)\n",
    "    accuracy = accuracy_score(y_valid, pred)\n",
    "    acc.append(accuracy)\n",
    "\n",
    "    print(\"Fold - {} Accuracy: {:.2f}%\".format(i+1, accuracy*100))\n",
    "    print(\"----------------------\")\n",
    "\n",
    "print(\"Average accuracy: {:.2f}%\".format(np.mean(acc)*100))"
   ]
  },
  {
   "cell_type": "code",
   "execution_count": 13,
   "metadata": {},
   "outputs": [
    {
     "name": "stdout",
     "output_type": "stream",
     "text": [
      "The average accuracy is: 99.06% on the testing dataset\n"
     ]
    }
   ],
   "source": [
    "# Testing \n",
    "\n",
    "acc = []\n",
    "    \n",
    "for model in models:\n",
    "    pred_new = model.predict(X_test)\n",
    "    accuracy_new = accuracy_score(y_test, pred_new)\n",
    "    acc.append(accuracy_new)\n",
    "\n",
    "print(\"The average accuracy is: {:.2f}% on the testing dataset\".format(np.mean(acc)*100) )"
   ]
  }
 ],
 "metadata": {
  "kernelspec": {
   "display_name": "Python 3 (ipykernel)",
   "language": "python",
   "name": "python3"
  },
  "language_info": {
   "codemirror_mode": {
    "name": "ipython",
    "version": 3
   },
   "file_extension": ".py",
   "mimetype": "text/x-python",
   "name": "python",
   "nbconvert_exporter": "python",
   "pygments_lexer": "ipython3",
   "version": "3.11.7"
  },
  "vscode": {
   "interpreter": {
    "hash": "a01aa30e7cb9fc7776677534e11c9ab1eed0bfffb3501a39ef7b976f9557b493"
   }
  }
 },
 "nbformat": 4,
 "nbformat_minor": 4
}
