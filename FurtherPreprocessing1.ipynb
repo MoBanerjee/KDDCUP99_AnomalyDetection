{
 "cells": [
  {
   "cell_type": "code",
   "execution_count": 1,
   "id": "8604dd73",
   "metadata": {},
   "outputs": [],
   "source": [
    "import pandas as pd"
   ]
  },
  {
   "cell_type": "code",
   "execution_count": 12,
   "id": "2fc927a8",
   "metadata": {},
   "outputs": [
    {
     "name": "stderr",
     "output_type": "stream",
     "text": [
      "/var/folders/mp/5t6b_mln5wn0cygt4wjwvjdm0000gn/T/ipykernel_5838/1799671690.py:1: DtypeWarning: Columns (8) have mixed types. Specify dtype option on import or set low_memory=False.\n",
      "  cidI1 = pd.read_csv('./PreprocessedCSVs/ciddsint1Processed.csv')\n"
     ]
    }
   ],
   "source": [
    "cidI1 = pd.read_csv('./PreprocessedCSVs/ciddsint1Processed.csv')"
   ]
  },
  {
   "cell_type": "code",
   "execution_count": 13,
   "id": "600b1fdb",
   "metadata": {},
   "outputs": [
    {
     "name": "stderr",
     "output_type": "stream",
     "text": [
      "/var/folders/mp/5t6b_mln5wn0cygt4wjwvjdm0000gn/T/ipykernel_5838/977282294.py:1: DtypeWarning: Columns (8) have mixed types. Specify dtype option on import or set low_memory=False.\n",
      "  cidI2 = pd.read_csv('./PreprocessedCSVs/ciddsint2Processed.csv')\n"
     ]
    }
   ],
   "source": [
    "cidI2 = pd.read_csv('./PreprocessedCSVs/ciddsint2Processed.csv')"
   ]
  },
  {
   "cell_type": "code",
   "execution_count": 14,
   "id": "87e3da05",
   "metadata": {},
   "outputs": [
    {
     "name": "stderr",
     "output_type": "stream",
     "text": [
      "/var/folders/mp/5t6b_mln5wn0cygt4wjwvjdm0000gn/T/ipykernel_5838/1945875457.py:1: DtypeWarning: Columns (8) have mixed types. Specify dtype option on import or set low_memory=False.\n",
      "  cidI3 = pd.read_csv('./PreprocessedCSVs/ciddsint3Processed.csv')\n"
     ]
    }
   ],
   "source": [
    "cidI3 = pd.read_csv('./PreprocessedCSVs/ciddsint3Processed.csv')"
   ]
  },
  {
   "cell_type": "code",
   "execution_count": 15,
   "id": "ae4d63da",
   "metadata": {},
   "outputs": [
    {
     "name": "stderr",
     "output_type": "stream",
     "text": [
      "/var/folders/mp/5t6b_mln5wn0cygt4wjwvjdm0000gn/T/ipykernel_5838/3672938806.py:1: DtypeWarning: Columns (8) have mixed types. Specify dtype option on import or set low_memory=False.\n",
      "  cidI4 = pd.read_csv('./PreprocessedCSVs/ciddsint4Processed.csv')\n"
     ]
    }
   ],
   "source": [
    "cidI4 = pd.read_csv('./PreprocessedCSVs/ciddsint4Processed.csv')"
   ]
  },
  {
   "cell_type": "code",
   "execution_count": 16,
   "id": "3ce582b0",
   "metadata": {},
   "outputs": [],
   "source": [
    "cidE1 = pd.read_csv('./PreprocessedCSVs/ciddslogext1Processed.csv')"
   ]
  },
  {
   "cell_type": "code",
   "execution_count": 17,
   "id": "832a2714",
   "metadata": {},
   "outputs": [],
   "source": [
    "cidE2 = pd.read_csv('./PreprocessedCSVs/ciddslogext2Processed.csv')"
   ]
  },
  {
   "cell_type": "code",
   "execution_count": 18,
   "id": "7581d138",
   "metadata": {},
   "outputs": [
    {
     "name": "stderr",
     "output_type": "stream",
     "text": [
      "/var/folders/mp/5t6b_mln5wn0cygt4wjwvjdm0000gn/T/ipykernel_5838/3580385692.py:1: DtypeWarning: Columns (8) have mixed types. Specify dtype option on import or set low_memory=False.\n",
      "  cidE3 = pd.read_csv('./PreprocessedCSVs/ciddslogext3Processed.csv')\n"
     ]
    }
   ],
   "source": [
    "cidE3 = pd.read_csv('./PreprocessedCSVs/ciddslogext3Processed.csv')"
   ]
  },
  {
   "cell_type": "code",
   "execution_count": 19,
   "id": "223c8626",
   "metadata": {},
   "outputs": [],
   "source": [
    "cidE4 = pd.read_csv('./PreprocessedCSVs/ciddslogext4Processed.csv')"
   ]
  },
  {
   "cell_type": "code",
   "execution_count": 22,
   "id": "6d59cdae",
   "metadata": {},
   "outputs": [],
   "source": [
    "def convert_to_int(value):\n",
    "    try:\n",
    "        if 'M' in str(value):\n",
    "            \n",
    "            return int(float(value.replace('M', '')) * 1000000)\n",
    "        else:\n",
    "            \n",
    "            return int(value)\n",
    "    except ValueError:\n",
    "        \n",
    "        return None\n",
    "\n",
    "def byte_column_preprocessing(df):\n",
    "    for dfiter in df:\n",
    "        dfiter['Bytes'] = dfiter['Bytes'].apply(convert_to_int)\n",
    "    "
   ]
  },
  {
   "cell_type": "code",
   "execution_count": 23,
   "id": "5ff433cf",
   "metadata": {},
   "outputs": [],
   "source": [
    "byte_column_preprocessing([cidI1,cidI2,cidI3,cidI4,cidE1,cidE2,cidE3,cidE4])"
   ]
  },
  {
   "cell_type": "code",
   "execution_count": 37,
   "id": "4d7c4c42",
   "metadata": {},
   "outputs": [
    {
     "data": {
      "text/plain": [
       "Date first seen     object\n",
       "Duration           float64\n",
       "Proto               object\n",
       "Src IP Addr         object\n",
       "Src Pt               int64\n",
       "Dst IP Addr         object\n",
       "Dst Pt             float64\n",
       "Packets              int64\n",
       "Bytes                int64\n",
       "U                    int64\n",
       "A                    int64\n",
       "P                    int64\n",
       "R                    int64\n",
       "S                    int64\n",
       "F                    int64\n",
       "class               object\n",
       "attackType          object\n",
       "dtype: object"
      ]
     },
     "execution_count": 37,
     "metadata": {},
     "output_type": "execute_result"
    }
   ],
   "source": [
    "cidI1.dtypes"
   ]
  },
  {
   "cell_type": "code",
   "execution_count": 25,
   "id": "40878a81",
   "metadata": {},
   "outputs": [],
   "source": [
    "cidI1.to_csv('./PreprocessedCSVs/ciddsint1Processed.csv', index=False)"
   ]
  },
  {
   "cell_type": "code",
   "execution_count": 26,
   "id": "cc5a1a9b",
   "metadata": {},
   "outputs": [],
   "source": [
    "cidI2.to_csv('./PreprocessedCSVs/ciddsint2Processed.csv', index=False)"
   ]
  },
  {
   "cell_type": "code",
   "execution_count": 27,
   "id": "feef7a2d",
   "metadata": {},
   "outputs": [],
   "source": [
    "cidI3.to_csv('./PreprocessedCSVs/ciddsint3Processed.csv', index=False)"
   ]
  },
  {
   "cell_type": "code",
   "execution_count": 28,
   "id": "5324edad",
   "metadata": {},
   "outputs": [],
   "source": [
    "cidI4.to_csv('./PreprocessedCSVs/ciddsint4Processed.csv', index=False)"
   ]
  },
  {
   "cell_type": "code",
   "execution_count": 29,
   "id": "2192c48b",
   "metadata": {},
   "outputs": [],
   "source": [
    "cidE1.to_csv('./PreprocessedCSVs/ciddslogext1Processed.csv', index=False)"
   ]
  },
  {
   "cell_type": "code",
   "execution_count": 30,
   "id": "3a55d9cf",
   "metadata": {},
   "outputs": [],
   "source": [
    "cidE2.to_csv('./PreprocessedCSVs/ciddslogext2Processed.csv', index=False)"
   ]
  },
  {
   "cell_type": "code",
   "execution_count": 31,
   "id": "ca6f35fa",
   "metadata": {},
   "outputs": [],
   "source": [
    "cidE3.to_csv('./PreprocessedCSVs/ciddslogext3Processed.csv', index=False)"
   ]
  },
  {
   "cell_type": "code",
   "execution_count": 32,
   "id": "66b41235",
   "metadata": {},
   "outputs": [],
   "source": [
    "cidE4.to_csv('./PreprocessedCSVs/ciddslogext4Processed.csv', index=False)"
   ]
  },
  {
   "cell_type": "code",
   "execution_count": null,
   "id": "d8f8c580",
   "metadata": {},
   "outputs": [],
   "source": []
  }
 ],
 "metadata": {
  "kernelspec": {
   "display_name": "Python 3 (ipykernel)",
   "language": "python",
   "name": "python3"
  },
  "language_info": {
   "codemirror_mode": {
    "name": "ipython",
    "version": 3
   },
   "file_extension": ".py",
   "mimetype": "text/x-python",
   "name": "python",
   "nbconvert_exporter": "python",
   "pygments_lexer": "ipython3",
   "version": "3.9.12"
  }
 },
 "nbformat": 4,
 "nbformat_minor": 5
}
