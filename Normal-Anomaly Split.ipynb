{
 "cells": [
  {
   "cell_type": "code",
   "execution_count": 1,
   "id": "e024ea06",
   "metadata": {},
   "outputs": [],
   "source": [
    "import pandas as pd"
   ]
  },
  {
   "cell_type": "code",
   "execution_count": 3,
   "id": "257e2d20",
   "metadata": {},
   "outputs": [],
   "source": [
    "total_dataset = pd.read_csv('./FinalDatasets/TotalDataset.csv')"
   ]
  },
  {
   "cell_type": "code",
   "execution_count": 4,
   "id": "0f935f71",
   "metadata": {},
   "outputs": [],
   "source": [
    "no_anomaly_dataset = total_dataset[total_dataset['class'] == 'normal']"
   ]
  },
  {
   "cell_type": "code",
   "execution_count": 5,
   "id": "431ef6d1",
   "metadata": {},
   "outputs": [],
   "source": [
    "anomaly_dataset=total_dataset[total_dataset['class'] != 'normal']"
   ]
  },
  {
   "cell_type": "code",
   "execution_count": 6,
   "id": "2ef9b1c4",
   "metadata": {},
   "outputs": [
    {
     "data": {
      "text/plain": [
       "(39643009, 17)"
      ]
     },
     "execution_count": 6,
     "metadata": {},
     "output_type": "execute_result"
    }
   ],
   "source": [
    "total_dataset.shape"
   ]
  },
  {
   "cell_type": "code",
   "execution_count": 7,
   "id": "883400a1",
   "metadata": {},
   "outputs": [
    {
     "data": {
      "text/plain": [
       "(33703458, 17)"
      ]
     },
     "execution_count": 7,
     "metadata": {},
     "output_type": "execute_result"
    }
   ],
   "source": [
    "no_anomaly_dataset.shape"
   ]
  },
  {
   "cell_type": "code",
   "execution_count": 8,
   "id": "5ef8b2fd",
   "metadata": {},
   "outputs": [
    {
     "data": {
      "text/plain": [
       "(5939551, 17)"
      ]
     },
     "execution_count": 8,
     "metadata": {},
     "output_type": "execute_result"
    }
   ],
   "source": [
    "anomaly_dataset.shape"
   ]
  },
  {
   "cell_type": "code",
   "execution_count": 9,
   "id": "22a5e3aa",
   "metadata": {},
   "outputs": [
    {
     "data": {
      "text/plain": [
       "39643009"
      ]
     },
     "execution_count": 9,
     "metadata": {},
     "output_type": "execute_result"
    }
   ],
   "source": [
    "no_anomaly_dataset.shape[0]+anomaly_dataset.shape[0]"
   ]
  },
  {
   "cell_type": "code",
   "execution_count": 10,
   "id": "88ca3380",
   "metadata": {},
   "outputs": [],
   "source": [
    "no_anomaly_dataset.to_csv('./FinalDatasets/NoAnomalyDataset.csv', index=False)"
   ]
  },
  {
   "cell_type": "code",
   "execution_count": 11,
   "id": "37a2aab1",
   "metadata": {},
   "outputs": [],
   "source": [
    "anomaly_dataset.to_csv('./FinalDatasets/AnomalyDataset.csv', index=False)"
   ]
  },
  {
   "cell_type": "code",
   "execution_count": null,
   "id": "b64d9bb2",
   "metadata": {},
   "outputs": [],
   "source": []
  }
 ],
 "metadata": {
  "kernelspec": {
   "display_name": "Python 3 (ipykernel)",
   "language": "python",
   "name": "python3"
  },
  "language_info": {
   "codemirror_mode": {
    "name": "ipython",
    "version": 3
   },
   "file_extension": ".py",
   "mimetype": "text/x-python",
   "name": "python",
   "nbconvert_exporter": "python",
   "pygments_lexer": "ipython3",
   "version": "3.9.12"
  }
 },
 "nbformat": 4,
 "nbformat_minor": 5
}
